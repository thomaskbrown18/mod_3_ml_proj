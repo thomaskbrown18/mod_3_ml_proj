{
 "cells": [
  {
   "cell_type": "markdown",
   "metadata": {},
   "source": [
    "## Final Project Submission\n",
    "\n",
    "Please fill out:\n",
    "* Student name: Thomas Brown\n",
    "* Student pace: Full Time\n",
    "* Scheduled project review date/time: TBD\n",
    "* Instructor name: \n",
    "* Blog post URL:\n"
   ]
  },
  {
   "cell_type": "markdown",
   "metadata": {},
   "source": [
    "## Description and Use-Case:"
   ]
  },
  {
   "cell_type": "markdown",
   "metadata": {},
   "source": [
    "# Importing Libraries:"
   ]
  },
  {
   "cell_type": "code",
   "execution_count": 1,
   "metadata": {},
   "outputs": [],
   "source": [
    "import pandas as pd"
   ]
  },
  {
   "cell_type": "markdown",
   "metadata": {},
   "source": [
    "# Importing Data:"
   ]
  },
  {
   "cell_type": "markdown",
   "metadata": {},
   "source": [
    "Cover Type Info:\n",
    "- 1: Spruce/Fir\n",
    "- 2: Lodgepole Pine\n",
    "- 3: Ponderosa Pine\n",
    "- 4: Cottonwood/Willow\n",
    "- 5: Aspen\n",
    "- 6: Douglas-fir\n",
    "- 7: Krummholz"
   ]
  },
  {
   "cell_type": "code",
   "execution_count": 5,
   "metadata": {},
   "outputs": [
    {
     "data": {
      "text/html": [
       "<div>\n",
       "<style scoped>\n",
       "    .dataframe tbody tr th:only-of-type {\n",
       "        vertical-align: middle;\n",
       "    }\n",
       "\n",
       "    .dataframe tbody tr th {\n",
       "        vertical-align: top;\n",
       "    }\n",
       "\n",
       "    .dataframe thead th {\n",
       "        text-align: right;\n",
       "    }\n",
       "</style>\n",
       "<table border=\"1\" class=\"dataframe\">\n",
       "  <thead>\n",
       "    <tr style=\"text-align: right;\">\n",
       "      <th></th>\n",
       "      <th>age_upon_outcome</th>\n",
       "      <th>animal_id</th>\n",
       "      <th>animal_type</th>\n",
       "      <th>breed</th>\n",
       "      <th>color</th>\n",
       "      <th>date_of_birth</th>\n",
       "      <th>datetime</th>\n",
       "      <th>monthyear</th>\n",
       "      <th>name</th>\n",
       "      <th>outcome_subtype</th>\n",
       "      <th>...</th>\n",
       "      <th>outcome_weekday</th>\n",
       "      <th>outcome_hour</th>\n",
       "      <th>breed1</th>\n",
       "      <th>breed2</th>\n",
       "      <th>cfa_breed</th>\n",
       "      <th>domestic_breed</th>\n",
       "      <th>coat_pattern</th>\n",
       "      <th>color1</th>\n",
       "      <th>color2</th>\n",
       "      <th>coat</th>\n",
       "    </tr>\n",
       "  </thead>\n",
       "  <tbody>\n",
       "    <tr>\n",
       "      <td>0</td>\n",
       "      <td>2 weeks</td>\n",
       "      <td>A684346</td>\n",
       "      <td>Cat</td>\n",
       "      <td>domestic shorthair</td>\n",
       "      <td>orange</td>\n",
       "      <td>2014-07-07 00:00:00</td>\n",
       "      <td>2014-07-22 16:04:00</td>\n",
       "      <td>2014-07-22T16:04:00</td>\n",
       "      <td>NaN</td>\n",
       "      <td>Partner</td>\n",
       "      <td>...</td>\n",
       "      <td>Tuesday</td>\n",
       "      <td>16</td>\n",
       "      <td>domestic shorthair</td>\n",
       "      <td>NaN</td>\n",
       "      <td>False</td>\n",
       "      <td>True</td>\n",
       "      <td>tabby</td>\n",
       "      <td>orange</td>\n",
       "      <td>NaN</td>\n",
       "      <td>orange</td>\n",
       "    </tr>\n",
       "    <tr>\n",
       "      <td>1</td>\n",
       "      <td>1 month</td>\n",
       "      <td>A685067</td>\n",
       "      <td>Cat</td>\n",
       "      <td>domestic shorthair</td>\n",
       "      <td>blue /white</td>\n",
       "      <td>2014-06-16 00:00:00</td>\n",
       "      <td>2014-08-14 18:45:00</td>\n",
       "      <td>2014-08-14T18:45:00</td>\n",
       "      <td>Lucy</td>\n",
       "      <td>NaN</td>\n",
       "      <td>...</td>\n",
       "      <td>Thursday</td>\n",
       "      <td>18</td>\n",
       "      <td>domestic shorthair</td>\n",
       "      <td>NaN</td>\n",
       "      <td>False</td>\n",
       "      <td>True</td>\n",
       "      <td>tabby</td>\n",
       "      <td>blue</td>\n",
       "      <td>white</td>\n",
       "      <td>blue</td>\n",
       "    </tr>\n",
       "    <tr>\n",
       "      <td>2</td>\n",
       "      <td>3 months</td>\n",
       "      <td>A678580</td>\n",
       "      <td>Cat</td>\n",
       "      <td>domestic shorthair</td>\n",
       "      <td>white/black</td>\n",
       "      <td>2014-03-26 00:00:00</td>\n",
       "      <td>2014-06-29 17:45:00</td>\n",
       "      <td>2014-06-29T17:45:00</td>\n",
       "      <td>*Frida</td>\n",
       "      <td>Offsite</td>\n",
       "      <td>...</td>\n",
       "      <td>Sunday</td>\n",
       "      <td>17</td>\n",
       "      <td>domestic shorthair</td>\n",
       "      <td>NaN</td>\n",
       "      <td>False</td>\n",
       "      <td>True</td>\n",
       "      <td>NaN</td>\n",
       "      <td>white</td>\n",
       "      <td>black</td>\n",
       "      <td>white</td>\n",
       "    </tr>\n",
       "    <tr>\n",
       "      <td>3</td>\n",
       "      <td>1 year</td>\n",
       "      <td>A675405</td>\n",
       "      <td>Cat</td>\n",
       "      <td>domestic mediumhair</td>\n",
       "      <td>black/white</td>\n",
       "      <td>2013-03-27 00:00:00</td>\n",
       "      <td>2014-03-28 14:55:00</td>\n",
       "      <td>2014-03-28T14:55:00</td>\n",
       "      <td>Stella Luna</td>\n",
       "      <td>NaN</td>\n",
       "      <td>...</td>\n",
       "      <td>Friday</td>\n",
       "      <td>14</td>\n",
       "      <td>domestic mediumhair</td>\n",
       "      <td>NaN</td>\n",
       "      <td>False</td>\n",
       "      <td>True</td>\n",
       "      <td>NaN</td>\n",
       "      <td>black</td>\n",
       "      <td>white</td>\n",
       "      <td>black</td>\n",
       "    </tr>\n",
       "    <tr>\n",
       "      <td>4</td>\n",
       "      <td>3 weeks</td>\n",
       "      <td>A670420</td>\n",
       "      <td>Cat</td>\n",
       "      <td>domestic shorthair</td>\n",
       "      <td>black/white</td>\n",
       "      <td>2013-12-16 00:00:00</td>\n",
       "      <td>2014-01-09 19:29:00</td>\n",
       "      <td>2014-01-09T19:29:00</td>\n",
       "      <td>NaN</td>\n",
       "      <td>Partner</td>\n",
       "      <td>...</td>\n",
       "      <td>Thursday</td>\n",
       "      <td>19</td>\n",
       "      <td>domestic shorthair</td>\n",
       "      <td>NaN</td>\n",
       "      <td>False</td>\n",
       "      <td>True</td>\n",
       "      <td>NaN</td>\n",
       "      <td>black</td>\n",
       "      <td>white</td>\n",
       "      <td>black</td>\n",
       "    </tr>\n",
       "  </tbody>\n",
       "</table>\n",
       "<p>5 rows × 37 columns</p>\n",
       "</div>"
      ],
      "text/plain": [
       "  age_upon_outcome animal_id animal_type                breed        color  \\\n",
       "0          2 weeks   A684346         Cat   domestic shorthair       orange   \n",
       "1          1 month   A685067         Cat   domestic shorthair  blue /white   \n",
       "2         3 months   A678580         Cat   domestic shorthair  white/black   \n",
       "3           1 year   A675405         Cat  domestic mediumhair  black/white   \n",
       "4          3 weeks   A670420         Cat   domestic shorthair  black/white   \n",
       "\n",
       "         date_of_birth             datetime            monthyear         name  \\\n",
       "0  2014-07-07 00:00:00  2014-07-22 16:04:00  2014-07-22T16:04:00          NaN   \n",
       "1  2014-06-16 00:00:00  2014-08-14 18:45:00  2014-08-14T18:45:00         Lucy   \n",
       "2  2014-03-26 00:00:00  2014-06-29 17:45:00  2014-06-29T17:45:00       *Frida   \n",
       "3  2013-03-27 00:00:00  2014-03-28 14:55:00  2014-03-28T14:55:00  Stella Luna   \n",
       "4  2013-12-16 00:00:00  2014-01-09 19:29:00  2014-01-09T19:29:00          NaN   \n",
       "\n",
       "  outcome_subtype  ... outcome_weekday outcome_hour               breed1  \\\n",
       "0         Partner  ...         Tuesday           16   domestic shorthair   \n",
       "1             NaN  ...        Thursday           18   domestic shorthair   \n",
       "2         Offsite  ...          Sunday           17   domestic shorthair   \n",
       "3             NaN  ...          Friday           14  domestic mediumhair   \n",
       "4         Partner  ...        Thursday           19   domestic shorthair   \n",
       "\n",
       "  breed2 cfa_breed  domestic_breed  coat_pattern  color1  color2    coat  \n",
       "0    NaN     False            True         tabby  orange     NaN  orange  \n",
       "1    NaN     False            True         tabby   blue    white   blue   \n",
       "2    NaN     False            True           NaN   white   black   white  \n",
       "3    NaN     False            True           NaN   black   white   black  \n",
       "4    NaN     False            True           NaN   black   white   black  \n",
       "\n",
       "[5 rows x 37 columns]"
      ]
     },
     "metadata": {},
     "output_type": "display_data"
    },
    {
     "name": "stdout",
     "output_type": "stream",
     "text": [
      "<class 'pandas.core.frame.DataFrame'>\n",
      "RangeIndex: 29421 entries, 0 to 29420\n",
      "Data columns (total 37 columns):\n",
      "age_upon_outcome        29421 non-null object\n",
      "animal_id               29421 non-null object\n",
      "animal_type             29421 non-null object\n",
      "breed                   29421 non-null object\n",
      "color                   25795 non-null object\n",
      "date_of_birth           29421 non-null object\n",
      "datetime                29421 non-null object\n",
      "monthyear               29421 non-null object\n",
      "name                    16647 non-null object\n",
      "outcome_subtype         18641 non-null object\n",
      "outcome_type            29418 non-null object\n",
      "sex_upon_outcome        29421 non-null object\n",
      "count                   29421 non-null int64\n",
      "sex                     29421 non-null object\n",
      "Spay/Neuter             29421 non-null object\n",
      "Periods                 29421 non-null int64\n",
      "Period Range            29421 non-null int64\n",
      "outcome_age_(days)      29421 non-null int64\n",
      "outcome_age_(years)     29421 non-null float64\n",
      "Cat/Kitten (outcome)    29421 non-null object\n",
      "sex_age_outcome         29421 non-null object\n",
      "age_group               29421 non-null object\n",
      "dob_year                29421 non-null int64\n",
      "dob_month               29421 non-null int64\n",
      "dob_monthyear           29421 non-null object\n",
      "outcome_month           29421 non-null int64\n",
      "outcome_year            29421 non-null int64\n",
      "outcome_weekday         29421 non-null object\n",
      "outcome_hour            29421 non-null int64\n",
      "breed1                  29421 non-null object\n",
      "breed2                  52 non-null object\n",
      "cfa_breed               29421 non-null bool\n",
      "domestic_breed          29421 non-null bool\n",
      "coat_pattern            19155 non-null object\n",
      "color1                  29421 non-null object\n",
      "color2                  10354 non-null object\n",
      "coat                    29421 non-null object\n",
      "dtypes: bool(2), float64(1), int64(9), object(25)\n",
      "memory usage: 7.9+ MB\n"
     ]
    }
   ],
   "source": [
    "df = pd.read_csv('cat_outcome.csv.zip')\n",
    "display(df.head())\n",
    "df.info()"
   ]
  },
  {
   "cell_type": "markdown",
   "metadata": {},
   "source": [
    "# Cleaning Data:"
   ]
  },
  {
   "cell_type": "markdown",
   "metadata": {},
   "source": [
    "Luckily, it appears that little to no cleaning needs to be done in this case."
   ]
  },
  {
   "cell_type": "markdown",
   "metadata": {},
   "source": [
    "# EDA:"
   ]
  },
  {
   "cell_type": "markdown",
   "metadata": {},
   "source": [
    "# Feature Engineering:"
   ]
  },
  {
   "cell_type": "markdown",
   "metadata": {},
   "source": [
    "# Train Test Split:"
   ]
  },
  {
   "cell_type": "markdown",
   "metadata": {},
   "source": [
    "# Baseline Model:"
   ]
  },
  {
   "cell_type": "markdown",
   "metadata": {},
   "source": [
    "# Improved Models:"
   ]
  },
  {
   "cell_type": "markdown",
   "metadata": {},
   "source": []
  },
  {
   "cell_type": "markdown",
   "metadata": {},
   "source": [
    "## K-Nearest-Neighbors:"
   ]
  },
  {
   "cell_type": "markdown",
   "metadata": {},
   "source": [
    "## Decision Tree:"
   ]
  },
  {
   "cell_type": "markdown",
   "metadata": {},
   "source": [
    "## Random Forest:"
   ]
  },
  {
   "cell_type": "markdown",
   "metadata": {},
   "source": [
    "# Model Comparisons:"
   ]
  },
  {
   "cell_type": "markdown",
   "metadata": {},
   "source": [
    "## ROC Curves:"
   ]
  },
  {
   "cell_type": "markdown",
   "metadata": {},
   "source": [
    "## Confusion Matrix:"
   ]
  },
  {
   "cell_type": "markdown",
   "metadata": {},
   "source": [
    "## F1 vs Accuracy vs Recall etc. . . "
   ]
  },
  {
   "cell_type": "markdown",
   "metadata": {},
   "source": []
  },
  {
   "cell_type": "markdown",
   "metadata": {},
   "source": [
    "# Conclusion:"
   ]
  },
  {
   "cell_type": "code",
   "execution_count": null,
   "metadata": {},
   "outputs": [],
   "source": []
  }
 ],
 "metadata": {
  "kernelspec": {
   "display_name": "Python 3",
   "language": "python",
   "name": "python3"
  },
  "language_info": {
   "codemirror_mode": {
    "name": "ipython",
    "version": 3
   },
   "file_extension": ".py",
   "mimetype": "text/x-python",
   "name": "python",
   "nbconvert_exporter": "python",
   "pygments_lexer": "ipython3",
   "version": "3.6.9"
  },
  "toc": {
   "base_numbering": 1,
   "nav_menu": {},
   "number_sections": true,
   "sideBar": true,
   "skip_h1_title": false,
   "title_cell": "Table of Contents",
   "title_sidebar": "Contents",
   "toc_cell": false,
   "toc_position": {},
   "toc_section_display": true,
   "toc_window_display": true
  }
 },
 "nbformat": 4,
 "nbformat_minor": 2
}
