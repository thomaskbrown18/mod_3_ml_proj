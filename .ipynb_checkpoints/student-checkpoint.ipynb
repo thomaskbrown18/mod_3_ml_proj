{
 "cells": [
  {
   "cell_type": "markdown",
   "metadata": {},
   "source": [
    "## Final Project Submission\n",
    "\n",
    "Please fill out:\n",
    "* Student name: Thomas Brown\n",
    "* Student pace: Full Time\n",
    "* Scheduled project review date/time: TBD\n",
    "* Instructor name: Abhineet Kulkarni\n",
    "* Blog post URL:TBD\n"
   ]
  },
  {
   "cell_type": "markdown",
   "metadata": {},
   "source": [
    "## Description and Use-Case:"
   ]
  },
  {
   "cell_type": "markdown",
   "metadata": {},
   "source": [
    "Data Source: https://www.kaggle.com/aaronschlegel/austin-animal-center-shelter-intakes-and-outcomes?select=aac_intakes_outcomes.csv\n",
    "\n",
    "The purpose of this project is to examine data from one of Austin's largest animal shelters and build a machine learning model to predict outcomes of animals as they come in and are processed in the system.  An efficient and intelligent model can help \"manage the inventory\" of the shelter and get animals adopted more quickly or returned to their owners more quickly when applicable.  <br><br>\n",
    "The outcomes are listed below:\n",
    "- Transfer           \n",
    "- Adoption           \n",
    "- Euthanasia        \n",
    "- Return to Owner     \n",
    "- Died                 \n",
    "- Rto-Adopt\n",
    "- Missing\n",
    "- Disposal  <br>\n",
    "\n",
    "We'll explore these outcomes (as well as the sub categories) in the EDA phase, but with an effective model, we can run the shelter more efficiently leading to happier animals and shelter employees!"
   ]
  },
  {
   "cell_type": "markdown",
   "metadata": {},
   "source": [
    "# Importing Libraries:"
   ]
  },
  {
   "cell_type": "code",
   "execution_count": 1,
   "metadata": {},
   "outputs": [],
   "source": [
    "# Standard Data-sci packages:\n",
    "import pandas as pd\n",
    "import numpy as np\n",
    "\n",
    "# Scikit-Learn:\n",
    "from sklearn.preprocessing import StandardScaler\n",
    "from sklearn.neighbors import KNeighborsClassifier\n",
    "from sklearn.model_selection import train_test_split, GridSearchCV\n",
    "from sklearn.ensemble import RandomForestClassifier\n",
    "from sklearn.pipeline import Pipeline\n",
    "from sklearn.metrics import precision_score, recall_score, confusion_matrix, classification_report, accuracy_score, f1_score\n",
    "\n",
    "\n",
    "# Plots and Graphs:\n",
    "import seaborn as sns\n",
    "import matplotlib.pyplot as plt\n",
    "import plotly.express as px\n",
    "%matplotlib inline\n",
    "\n",
    "# Other:\n",
    "import warnings\n",
    "warnings.filterwarnings('ignore')"
   ]
  },
  {
   "cell_type": "markdown",
   "metadata": {},
   "source": [
    "# Importing Data:"
   ]
  },
  {
   "cell_type": "markdown",
   "metadata": {},
   "source": [
    "## Main DF:"
   ]
  },
  {
   "cell_type": "code",
   "execution_count": 2,
   "metadata": {},
   "outputs": [
    {
     "data": {
      "text/html": [
       "<div>\n",
       "<style scoped>\n",
       "    .dataframe tbody tr th:only-of-type {\n",
       "        vertical-align: middle;\n",
       "    }\n",
       "\n",
       "    .dataframe tbody tr th {\n",
       "        vertical-align: top;\n",
       "    }\n",
       "\n",
       "    .dataframe thead th {\n",
       "        text-align: right;\n",
       "    }\n",
       "</style>\n",
       "<table border=\"1\" class=\"dataframe\">\n",
       "  <thead>\n",
       "    <tr style=\"text-align: right;\">\n",
       "      <th></th>\n",
       "      <th>age_upon_outcome</th>\n",
       "      <th>animal_id_outcome</th>\n",
       "      <th>date_of_birth</th>\n",
       "      <th>outcome_subtype</th>\n",
       "      <th>outcome_type</th>\n",
       "      <th>sex_upon_outcome</th>\n",
       "      <th>age_upon_outcome_(days)</th>\n",
       "      <th>age_upon_outcome_(years)</th>\n",
       "      <th>age_upon_outcome_age_group</th>\n",
       "      <th>outcome_datetime</th>\n",
       "      <th>...</th>\n",
       "      <th>age_upon_intake_age_group</th>\n",
       "      <th>intake_datetime</th>\n",
       "      <th>intake_month</th>\n",
       "      <th>intake_year</th>\n",
       "      <th>intake_monthyear</th>\n",
       "      <th>intake_weekday</th>\n",
       "      <th>intake_hour</th>\n",
       "      <th>intake_number</th>\n",
       "      <th>time_in_shelter</th>\n",
       "      <th>time_in_shelter_days</th>\n",
       "    </tr>\n",
       "  </thead>\n",
       "  <tbody>\n",
       "    <tr>\n",
       "      <td>0</td>\n",
       "      <td>10 years</td>\n",
       "      <td>A006100</td>\n",
       "      <td>2007-07-09 00:00:00</td>\n",
       "      <td>NaN</td>\n",
       "      <td>Return to Owner</td>\n",
       "      <td>Neutered Male</td>\n",
       "      <td>3650</td>\n",
       "      <td>10.0</td>\n",
       "      <td>(7.5, 10.0]</td>\n",
       "      <td>2017-12-07 14:07:00</td>\n",
       "      <td>...</td>\n",
       "      <td>(7.5, 10.0]</td>\n",
       "      <td>2017-12-07 00:00:00</td>\n",
       "      <td>12</td>\n",
       "      <td>2017</td>\n",
       "      <td>2017-12</td>\n",
       "      <td>Thursday</td>\n",
       "      <td>14</td>\n",
       "      <td>1.0</td>\n",
       "      <td>0 days 14:07:00.000000000</td>\n",
       "      <td>0.588194</td>\n",
       "    </tr>\n",
       "    <tr>\n",
       "      <td>1</td>\n",
       "      <td>7 years</td>\n",
       "      <td>A006100</td>\n",
       "      <td>2007-07-09 00:00:00</td>\n",
       "      <td>NaN</td>\n",
       "      <td>Return to Owner</td>\n",
       "      <td>Neutered Male</td>\n",
       "      <td>2555</td>\n",
       "      <td>7.0</td>\n",
       "      <td>(5.0, 7.5]</td>\n",
       "      <td>2014-12-20 16:35:00</td>\n",
       "      <td>...</td>\n",
       "      <td>(5.0, 7.5]</td>\n",
       "      <td>2014-12-19 10:21:00</td>\n",
       "      <td>12</td>\n",
       "      <td>2014</td>\n",
       "      <td>2014-12</td>\n",
       "      <td>Friday</td>\n",
       "      <td>10</td>\n",
       "      <td>2.0</td>\n",
       "      <td>1 days 06:14:00.000000000</td>\n",
       "      <td>1.259722</td>\n",
       "    </tr>\n",
       "    <tr>\n",
       "      <td>2</td>\n",
       "      <td>6 years</td>\n",
       "      <td>A006100</td>\n",
       "      <td>2007-07-09 00:00:00</td>\n",
       "      <td>NaN</td>\n",
       "      <td>Return to Owner</td>\n",
       "      <td>Neutered Male</td>\n",
       "      <td>2190</td>\n",
       "      <td>6.0</td>\n",
       "      <td>(5.0, 7.5]</td>\n",
       "      <td>2014-03-08 17:10:00</td>\n",
       "      <td>...</td>\n",
       "      <td>(5.0, 7.5]</td>\n",
       "      <td>2014-03-07 14:26:00</td>\n",
       "      <td>3</td>\n",
       "      <td>2014</td>\n",
       "      <td>2014-03</td>\n",
       "      <td>Friday</td>\n",
       "      <td>14</td>\n",
       "      <td>3.0</td>\n",
       "      <td>1 days 02:44:00.000000000</td>\n",
       "      <td>1.113889</td>\n",
       "    </tr>\n",
       "    <tr>\n",
       "      <td>3</td>\n",
       "      <td>10 years</td>\n",
       "      <td>A047759</td>\n",
       "      <td>2004-04-02 00:00:00</td>\n",
       "      <td>Partner</td>\n",
       "      <td>Transfer</td>\n",
       "      <td>Neutered Male</td>\n",
       "      <td>3650</td>\n",
       "      <td>10.0</td>\n",
       "      <td>(7.5, 10.0]</td>\n",
       "      <td>2014-04-07 15:12:00</td>\n",
       "      <td>...</td>\n",
       "      <td>(7.5, 10.0]</td>\n",
       "      <td>2014-04-02 15:55:00</td>\n",
       "      <td>4</td>\n",
       "      <td>2014</td>\n",
       "      <td>2014-04</td>\n",
       "      <td>Wednesday</td>\n",
       "      <td>15</td>\n",
       "      <td>1.0</td>\n",
       "      <td>4 days 23:17:00.000000000</td>\n",
       "      <td>4.970139</td>\n",
       "    </tr>\n",
       "    <tr>\n",
       "      <td>4</td>\n",
       "      <td>16 years</td>\n",
       "      <td>A134067</td>\n",
       "      <td>1997-10-16 00:00:00</td>\n",
       "      <td>NaN</td>\n",
       "      <td>Return to Owner</td>\n",
       "      <td>Neutered Male</td>\n",
       "      <td>5840</td>\n",
       "      <td>16.0</td>\n",
       "      <td>(15.0, 17.5]</td>\n",
       "      <td>2013-11-16 11:54:00</td>\n",
       "      <td>...</td>\n",
       "      <td>(15.0, 17.5]</td>\n",
       "      <td>2013-11-16 09:02:00</td>\n",
       "      <td>11</td>\n",
       "      <td>2013</td>\n",
       "      <td>2013-11</td>\n",
       "      <td>Saturday</td>\n",
       "      <td>9</td>\n",
       "      <td>1.0</td>\n",
       "      <td>0 days 02:52:00.000000000</td>\n",
       "      <td>0.119444</td>\n",
       "    </tr>\n",
       "  </tbody>\n",
       "</table>\n",
       "<p>5 rows × 41 columns</p>\n",
       "</div>"
      ],
      "text/plain": [
       "  age_upon_outcome animal_id_outcome        date_of_birth outcome_subtype  \\\n",
       "0         10 years           A006100  2007-07-09 00:00:00             NaN   \n",
       "1          7 years           A006100  2007-07-09 00:00:00             NaN   \n",
       "2          6 years           A006100  2007-07-09 00:00:00             NaN   \n",
       "3         10 years           A047759  2004-04-02 00:00:00         Partner   \n",
       "4         16 years           A134067  1997-10-16 00:00:00             NaN   \n",
       "\n",
       "      outcome_type sex_upon_outcome  age_upon_outcome_(days)  \\\n",
       "0  Return to Owner    Neutered Male                     3650   \n",
       "1  Return to Owner    Neutered Male                     2555   \n",
       "2  Return to Owner    Neutered Male                     2190   \n",
       "3         Transfer    Neutered Male                     3650   \n",
       "4  Return to Owner    Neutered Male                     5840   \n",
       "\n",
       "   age_upon_outcome_(years) age_upon_outcome_age_group     outcome_datetime  \\\n",
       "0                      10.0                (7.5, 10.0]  2017-12-07 14:07:00   \n",
       "1                       7.0                 (5.0, 7.5]  2014-12-20 16:35:00   \n",
       "2                       6.0                 (5.0, 7.5]  2014-03-08 17:10:00   \n",
       "3                      10.0                (7.5, 10.0]  2014-04-07 15:12:00   \n",
       "4                      16.0               (15.0, 17.5]  2013-11-16 11:54:00   \n",
       "\n",
       "   ...  age_upon_intake_age_group      intake_datetime intake_month  \\\n",
       "0  ...                (7.5, 10.0]  2017-12-07 00:00:00           12   \n",
       "1  ...                 (5.0, 7.5]  2014-12-19 10:21:00           12   \n",
       "2  ...                 (5.0, 7.5]  2014-03-07 14:26:00            3   \n",
       "3  ...                (7.5, 10.0]  2014-04-02 15:55:00            4   \n",
       "4  ...               (15.0, 17.5]  2013-11-16 09:02:00           11   \n",
       "\n",
       "  intake_year  intake_monthyear  intake_weekday  intake_hour  intake_number  \\\n",
       "0        2017           2017-12        Thursday           14            1.0   \n",
       "1        2014           2014-12          Friday           10            2.0   \n",
       "2        2014           2014-03          Friday           14            3.0   \n",
       "3        2014           2014-04       Wednesday           15            1.0   \n",
       "4        2013           2013-11        Saturday            9            1.0   \n",
       "\n",
       "             time_in_shelter time_in_shelter_days  \n",
       "0  0 days 14:07:00.000000000             0.588194  \n",
       "1  1 days 06:14:00.000000000             1.259722  \n",
       "2  1 days 02:44:00.000000000             1.113889  \n",
       "3  4 days 23:17:00.000000000             4.970139  \n",
       "4  0 days 02:52:00.000000000             0.119444  \n",
       "\n",
       "[5 rows x 41 columns]"
      ]
     },
     "metadata": {},
     "output_type": "display_data"
    },
    {
     "name": "stdout",
     "output_type": "stream",
     "text": [
      "<class 'pandas.core.frame.DataFrame'>\n",
      "RangeIndex: 79672 entries, 0 to 79671\n",
      "Data columns (total 41 columns):\n",
      "age_upon_outcome              79672 non-null object\n",
      "animal_id_outcome             79672 non-null object\n",
      "date_of_birth                 79672 non-null object\n",
      "outcome_subtype               36348 non-null object\n",
      "outcome_type                  79662 non-null object\n",
      "sex_upon_outcome              79671 non-null object\n",
      "age_upon_outcome_(days)       79672 non-null int64\n",
      "age_upon_outcome_(years)      79672 non-null float64\n",
      "age_upon_outcome_age_group    79672 non-null object\n",
      "outcome_datetime              79672 non-null object\n",
      "outcome_month                 79672 non-null int64\n",
      "outcome_year                  79672 non-null int64\n",
      "outcome_monthyear             79672 non-null object\n",
      "outcome_weekday               79672 non-null object\n",
      "outcome_hour                  79672 non-null int64\n",
      "outcome_number                79672 non-null float64\n",
      "dob_year                      79672 non-null int64\n",
      "dob_month                     79672 non-null int64\n",
      "dob_monthyear                 79672 non-null object\n",
      "age_upon_intake               79672 non-null object\n",
      "animal_id_intake              79672 non-null object\n",
      "animal_type                   79672 non-null object\n",
      "breed                         79672 non-null object\n",
      "color                         79672 non-null object\n",
      "found_location                79672 non-null object\n",
      "intake_condition              79672 non-null object\n",
      "intake_type                   79672 non-null object\n",
      "sex_upon_intake               79671 non-null object\n",
      "count                         79672 non-null int64\n",
      "age_upon_intake_(days)        79672 non-null int64\n",
      "age_upon_intake_(years)       79672 non-null float64\n",
      "age_upon_intake_age_group     79672 non-null object\n",
      "intake_datetime               79672 non-null object\n",
      "intake_month                  79672 non-null int64\n",
      "intake_year                   79672 non-null int64\n",
      "intake_monthyear              79672 non-null object\n",
      "intake_weekday                79672 non-null object\n",
      "intake_hour                   79672 non-null int64\n",
      "intake_number                 79672 non-null float64\n",
      "time_in_shelter               79672 non-null object\n",
      "time_in_shelter_days          79672 non-null float64\n",
      "dtypes: float64(5), int64(11), object(25)\n",
      "memory usage: 24.9+ MB\n"
     ]
    }
   ],
   "source": [
    "# Main Dataframe\n",
    "dfi = pd.read_csv('aac_intakes_outcomes.csv.zip')\n",
    "display(dfi.head())\n",
    "dfi.info()"
   ]
  },
  {
   "cell_type": "markdown",
   "metadata": {},
   "source": [
    "## Intake Data:"
   ]
  },
  {
   "cell_type": "code",
   "execution_count": 3,
   "metadata": {},
   "outputs": [
    {
     "data": {
      "text/html": [
       "<div>\n",
       "<style scoped>\n",
       "    .dataframe tbody tr th:only-of-type {\n",
       "        vertical-align: middle;\n",
       "    }\n",
       "\n",
       "    .dataframe tbody tr th {\n",
       "        vertical-align: top;\n",
       "    }\n",
       "\n",
       "    .dataframe thead th {\n",
       "        text-align: right;\n",
       "    }\n",
       "</style>\n",
       "<table border=\"1\" class=\"dataframe\">\n",
       "  <thead>\n",
       "    <tr style=\"text-align: right;\">\n",
       "      <th></th>\n",
       "      <th>age_upon_intake</th>\n",
       "      <th>animal_id</th>\n",
       "      <th>animal_type</th>\n",
       "      <th>breed</th>\n",
       "      <th>color</th>\n",
       "      <th>datetime</th>\n",
       "      <th>datetime2</th>\n",
       "      <th>found_location</th>\n",
       "      <th>intake_condition</th>\n",
       "      <th>intake_type</th>\n",
       "      <th>name</th>\n",
       "      <th>sex_upon_intake</th>\n",
       "    </tr>\n",
       "  </thead>\n",
       "  <tbody>\n",
       "    <tr>\n",
       "      <td>0</td>\n",
       "      <td>8 years</td>\n",
       "      <td>A706918</td>\n",
       "      <td>Dog</td>\n",
       "      <td>English Springer Spaniel</td>\n",
       "      <td>White/Liver</td>\n",
       "      <td>2015-07-05T12:59:00.000</td>\n",
       "      <td>2015-07-05T12:59:00.000</td>\n",
       "      <td>9409 Bluegrass Dr in Austin (TX)</td>\n",
       "      <td>Normal</td>\n",
       "      <td>Stray</td>\n",
       "      <td>Belle</td>\n",
       "      <td>Spayed Female</td>\n",
       "    </tr>\n",
       "    <tr>\n",
       "      <td>1</td>\n",
       "      <td>11 months</td>\n",
       "      <td>A724273</td>\n",
       "      <td>Dog</td>\n",
       "      <td>Basenji Mix</td>\n",
       "      <td>Sable/White</td>\n",
       "      <td>2016-04-14T18:43:00.000</td>\n",
       "      <td>2016-04-14T18:43:00.000</td>\n",
       "      <td>2818 Palomino Trail in Austin (TX)</td>\n",
       "      <td>Normal</td>\n",
       "      <td>Stray</td>\n",
       "      <td>Runster</td>\n",
       "      <td>Intact Male</td>\n",
       "    </tr>\n",
       "    <tr>\n",
       "      <td>2</td>\n",
       "      <td>4 weeks</td>\n",
       "      <td>A665644</td>\n",
       "      <td>Cat</td>\n",
       "      <td>Domestic Shorthair Mix</td>\n",
       "      <td>Calico</td>\n",
       "      <td>2013-10-21T07:59:00.000</td>\n",
       "      <td>2013-10-21T07:59:00.000</td>\n",
       "      <td>Austin (TX)</td>\n",
       "      <td>Sick</td>\n",
       "      <td>Stray</td>\n",
       "      <td>NaN</td>\n",
       "      <td>Intact Female</td>\n",
       "    </tr>\n",
       "    <tr>\n",
       "      <td>3</td>\n",
       "      <td>4 years</td>\n",
       "      <td>A682524</td>\n",
       "      <td>Dog</td>\n",
       "      <td>Doberman Pinsch/Australian Cattle Dog</td>\n",
       "      <td>Tan/Gray</td>\n",
       "      <td>2014-06-29T10:38:00.000</td>\n",
       "      <td>2014-06-29T10:38:00.000</td>\n",
       "      <td>800 Grove Blvd in Austin (TX)</td>\n",
       "      <td>Normal</td>\n",
       "      <td>Stray</td>\n",
       "      <td>Rio</td>\n",
       "      <td>Neutered Male</td>\n",
       "    </tr>\n",
       "    <tr>\n",
       "      <td>4</td>\n",
       "      <td>2 years</td>\n",
       "      <td>A743852</td>\n",
       "      <td>Dog</td>\n",
       "      <td>Labrador Retriever Mix</td>\n",
       "      <td>Chocolate</td>\n",
       "      <td>2017-02-18T12:46:00.000</td>\n",
       "      <td>2017-02-18T12:46:00.000</td>\n",
       "      <td>Austin (TX)</td>\n",
       "      <td>Normal</td>\n",
       "      <td>Owner Surrender</td>\n",
       "      <td>Odin</td>\n",
       "      <td>Neutered Male</td>\n",
       "    </tr>\n",
       "  </tbody>\n",
       "</table>\n",
       "</div>"
      ],
      "text/plain": [
       "  age_upon_intake animal_id animal_type  \\\n",
       "0         8 years   A706918         Dog   \n",
       "1       11 months   A724273         Dog   \n",
       "2         4 weeks   A665644         Cat   \n",
       "3         4 years   A682524         Dog   \n",
       "4         2 years   A743852         Dog   \n",
       "\n",
       "                                   breed        color  \\\n",
       "0               English Springer Spaniel  White/Liver   \n",
       "1                            Basenji Mix  Sable/White   \n",
       "2                 Domestic Shorthair Mix       Calico   \n",
       "3  Doberman Pinsch/Australian Cattle Dog     Tan/Gray   \n",
       "4                 Labrador Retriever Mix    Chocolate   \n",
       "\n",
       "                  datetime                datetime2  \\\n",
       "0  2015-07-05T12:59:00.000  2015-07-05T12:59:00.000   \n",
       "1  2016-04-14T18:43:00.000  2016-04-14T18:43:00.000   \n",
       "2  2013-10-21T07:59:00.000  2013-10-21T07:59:00.000   \n",
       "3  2014-06-29T10:38:00.000  2014-06-29T10:38:00.000   \n",
       "4  2017-02-18T12:46:00.000  2017-02-18T12:46:00.000   \n",
       "\n",
       "                       found_location intake_condition      intake_type  \\\n",
       "0    9409 Bluegrass Dr in Austin (TX)           Normal            Stray   \n",
       "1  2818 Palomino Trail in Austin (TX)           Normal            Stray   \n",
       "2                         Austin (TX)             Sick            Stray   \n",
       "3       800 Grove Blvd in Austin (TX)           Normal            Stray   \n",
       "4                         Austin (TX)           Normal  Owner Surrender   \n",
       "\n",
       "      name sex_upon_intake  \n",
       "0    Belle   Spayed Female  \n",
       "1  Runster     Intact Male  \n",
       "2      NaN   Intact Female  \n",
       "3      Rio   Neutered Male  \n",
       "4     Odin   Neutered Male  "
      ]
     },
     "execution_count": 3,
     "metadata": {},
     "output_type": "execute_result"
    }
   ],
   "source": [
    "dfii = pd.read_csv('aac_intakes.csv.zip')\n",
    "dfii.head()"
   ]
  },
  {
   "cell_type": "markdown",
   "metadata": {},
   "source": [
    "We will need to add name to the main DF."
   ]
  },
  {
   "cell_type": "markdown",
   "metadata": {},
   "source": [
    "## Combining the DFs:"
   ]
  },
  {
   "cell_type": "code",
   "execution_count": 4,
   "metadata": {},
   "outputs": [],
   "source": [
    "dfx = dfii[['animal_id', 'name', 'breed']]\n",
    "df = dfi.set_index('animal_id_intake').join(dfx.set_index('animal_id'), \n",
    "                                            rsuffix = '_in', how = 'left')\n",
    "df['unique_id'] = df['animal_id_outcome'] + df['intake_number'].astype('str')"
   ]
  },
  {
   "cell_type": "code",
   "execution_count": 5,
   "metadata": {},
   "outputs": [
    {
     "name": "stdout",
     "output_type": "stream",
     "text": [
      "<class 'pandas.core.frame.DataFrame'>\n",
      "Index: 79636 entries, A006100 to A769067\n",
      "Data columns (total 43 columns):\n",
      "age_upon_outcome              79636 non-null object\n",
      "animal_id_outcome             79636 non-null object\n",
      "date_of_birth                 79636 non-null object\n",
      "outcome_subtype               36332 non-null object\n",
      "outcome_type                  79626 non-null object\n",
      "sex_upon_outcome              79635 non-null object\n",
      "age_upon_outcome_(days)       79636 non-null int64\n",
      "age_upon_outcome_(years)      79636 non-null float64\n",
      "age_upon_outcome_age_group    79636 non-null object\n",
      "outcome_datetime              79636 non-null object\n",
      "outcome_month                 79636 non-null int64\n",
      "outcome_year                  79636 non-null int64\n",
      "outcome_monthyear             79636 non-null object\n",
      "outcome_weekday               79636 non-null object\n",
      "outcome_hour                  79636 non-null int64\n",
      "outcome_number                79636 non-null float64\n",
      "dob_year                      79636 non-null int64\n",
      "dob_month                     79636 non-null int64\n",
      "dob_monthyear                 79636 non-null object\n",
      "age_upon_intake               79636 non-null object\n",
      "animal_type                   79636 non-null object\n",
      "breed                         79636 non-null object\n",
      "color                         79636 non-null object\n",
      "found_location                79636 non-null object\n",
      "intake_condition              79636 non-null object\n",
      "intake_type                   79636 non-null object\n",
      "sex_upon_intake               79635 non-null object\n",
      "count                         79636 non-null int64\n",
      "age_upon_intake_(days)        79636 non-null int64\n",
      "age_upon_intake_(years)       79636 non-null float64\n",
      "age_upon_intake_age_group     79636 non-null object\n",
      "intake_datetime               79636 non-null object\n",
      "intake_month                  79636 non-null int64\n",
      "intake_year                   79636 non-null int64\n",
      "intake_monthyear              79636 non-null object\n",
      "intake_weekday                79636 non-null object\n",
      "intake_hour                   79636 non-null int64\n",
      "intake_number                 79636 non-null float64\n",
      "time_in_shelter               79636 non-null object\n",
      "time_in_shelter_days          79636 non-null float64\n",
      "name                          55184 non-null object\n",
      "breed_in                      79636 non-null object\n",
      "unique_id                     79636 non-null object\n",
      "dtypes: float64(5), int64(11), object(27)\n",
      "memory usage: 26.7+ MB\n"
     ]
    }
   ],
   "source": [
    "df = df.drop_duplicates(subset = ['unique_id'])\n",
    "df.info()"
   ]
  },
  {
   "cell_type": "markdown",
   "metadata": {},
   "source": [
    "# Cleaning Data:"
   ]
  },
  {
   "cell_type": "code",
   "execution_count": 6,
   "metadata": {},
   "outputs": [
    {
     "data": {
      "text/plain": [
       "age_upon_outcome                  0\n",
       "animal_id_outcome                 0\n",
       "date_of_birth                     0\n",
       "outcome_subtype               43304\n",
       "outcome_type                     10\n",
       "sex_upon_outcome                  1\n",
       "age_upon_outcome_(days)           0\n",
       "age_upon_outcome_(years)          0\n",
       "age_upon_outcome_age_group        0\n",
       "outcome_datetime                  0\n",
       "outcome_month                     0\n",
       "outcome_year                      0\n",
       "outcome_monthyear                 0\n",
       "outcome_weekday                   0\n",
       "outcome_hour                      0\n",
       "outcome_number                    0\n",
       "dob_year                          0\n",
       "dob_month                         0\n",
       "dob_monthyear                     0\n",
       "age_upon_intake                   0\n",
       "animal_type                       0\n",
       "breed                             0\n",
       "color                             0\n",
       "found_location                    0\n",
       "intake_condition                  0\n",
       "intake_type                       0\n",
       "sex_upon_intake                   1\n",
       "count                             0\n",
       "age_upon_intake_(days)            0\n",
       "age_upon_intake_(years)           0\n",
       "age_upon_intake_age_group         0\n",
       "intake_datetime                   0\n",
       "intake_month                      0\n",
       "intake_year                       0\n",
       "intake_monthyear                  0\n",
       "intake_weekday                    0\n",
       "intake_hour                       0\n",
       "intake_number                     0\n",
       "time_in_shelter                   0\n",
       "time_in_shelter_days              0\n",
       "name                          24452\n",
       "breed_in                          0\n",
       "unique_id                         0\n",
       "dtype: int64"
      ]
     },
     "execution_count": 6,
     "metadata": {},
     "output_type": "execute_result"
    }
   ],
   "source": [
    "df.isna().sum()"
   ]
  },
  {
   "cell_type": "markdown",
   "metadata": {},
   "source": [
    "## Removing Certain Outcomes:"
   ]
  },
  {
   "cell_type": "code",
   "execution_count": 7,
   "metadata": {},
   "outputs": [
    {
     "data": {
      "text/plain": [
       "Adoption           33583\n",
       "Transfer           23791\n",
       "Return to Owner    14784\n",
       "Euthanasia          6237\n",
       "Died                 690\n",
       "Disposal             301\n",
       "Rto-Adopt            179\n",
       "Missing               46\n",
       "Relocate              15\n",
       "Name: outcome_type, dtype: int64"
      ]
     },
     "execution_count": 7,
     "metadata": {},
     "output_type": "execute_result"
    }
   ],
   "source": [
    "df.outcome_type.value_counts()"
   ]
  },
  {
   "cell_type": "markdown",
   "metadata": {},
   "source": [
    "As we can see above, there are a number of outcomes, but my main focus will be on the top three:\n",
    "- Adoption\n",
    "- Transfer\n",
    "- Return to Owner\n",
    "While there were a number of animals that were euthanized or died, I will not include these rows in the model (either in training or testing).\n",
    "\n",
    "This is a no-kill shelter, and euthanasia is a last resort.  I will not build a model that will recommend it as an outcome in any case based on innocuous features such as breed or age.  If it is necessary to euthanize an animal for health reasons, this will be obvious upon intake (massive injury or illness).  We do not need a more general machine learning model for this. "
   ]
  },
  {
   "cell_type": "code",
   "execution_count": 8,
   "metadata": {},
   "outputs": [
    {
     "data": {
      "text/plain": [
       "Adoption           33583\n",
       "Transfer           23791\n",
       "Return to Owner    14784\n",
       "Name: outcome_type, dtype: int64"
      ]
     },
     "execution_count": 8,
     "metadata": {},
     "output_type": "execute_result"
    }
   ],
   "source": [
    "df = df[df['outcome_type'].isin(['Adoption', 'Transfer', 'Return to Owner'])]\n",
    "df['outcome_type'].value_counts()"
   ]
  },
  {
   "cell_type": "markdown",
   "metadata": {},
   "source": [
    "## Animal Type:"
   ]
  },
  {
   "cell_type": "markdown",
   "metadata": {},
   "source": [
    "There are too few birds or other animals to accurately model, so I'm going to focus my efforts on dogs and cats!"
   ]
  },
  {
   "cell_type": "code",
   "execution_count": 9,
   "metadata": {},
   "outputs": [
    {
     "data": {
      "text/plain": [
       "Dog    43538\n",
       "Cat    27568\n",
       "Name: animal_type, dtype: int64"
      ]
     },
     "execution_count": 9,
     "metadata": {},
     "output_type": "execute_result"
    }
   ],
   "source": [
    "df = df[df.animal_type != 'Bird']\n",
    "df = df[df.animal_type != 'Other']\n",
    "df.animal_type.value_counts()"
   ]
  },
  {
   "cell_type": "markdown",
   "metadata": {},
   "source": [
    "## Color:"
   ]
  },
  {
   "cell_type": "markdown",
   "metadata": {},
   "source": [
    "3.5 thousand missing values.  For this one, I'll likely map onto probabilities.  Maybe at some point I'll drop the nulls and see if I get better results with the ML model."
   ]
  },
  {
   "cell_type": "code",
   "execution_count": 10,
   "metadata": {},
   "outputs": [
    {
     "data": {
      "text/plain": [
       "486"
      ]
     },
     "execution_count": 10,
     "metadata": {},
     "output_type": "execute_result"
    }
   ],
   "source": [
    "df.color.nunique()"
   ]
  },
  {
   "cell_type": "markdown",
   "metadata": {},
   "source": [
    "We'll need to do some grouping as well. . . Probably in a separate excel sheet, and then match the values after.  154 values are too many. . . "
   ]
  },
  {
   "cell_type": "markdown",
   "metadata": {},
   "source": [
    "## Name: (DONE)"
   ]
  },
  {
   "cell_type": "code",
   "execution_count": 11,
   "metadata": {},
   "outputs": [
    {
     "data": {
      "text/plain": [
       "18264"
      ]
     },
     "execution_count": 11,
     "metadata": {},
     "output_type": "execute_result"
    }
   ],
   "source": [
    "df.name.isna().sum()"
   ]
  },
  {
   "cell_type": "code",
   "execution_count": 12,
   "metadata": {},
   "outputs": [],
   "source": [
    "df.name.fillna(0, inplace = True)\n",
    "df['has_name'] = df['name'].map(lambda x: 1 if not x == 0 else 0)"
   ]
  },
  {
   "cell_type": "markdown",
   "metadata": {},
   "source": [
    "I think the simplest option here is has name or does not have name.  I would also be interested about less common or longer names.  Perhaps that indicates more involved owners.  Who knows!"
   ]
  },
  {
   "cell_type": "code",
   "execution_count": 13,
   "metadata": {},
   "outputs": [
    {
     "data": {
      "text/plain": [
       "1    52842\n",
       "0    18264\n",
       "Name: has_name, dtype: int64"
      ]
     },
     "execution_count": 13,
     "metadata": {},
     "output_type": "execute_result"
    }
   ],
   "source": [
    "# Seems to be working!\n",
    "df['has_name'].value_counts()"
   ]
  },
  {
   "cell_type": "markdown",
   "metadata": {},
   "source": [
    "Idea: Has common name as a column. . . "
   ]
  },
  {
   "cell_type": "markdown",
   "metadata": {},
   "source": [
    "## Outcome Subtype:"
   ]
  },
  {
   "cell_type": "markdown",
   "metadata": {},
   "source": [
    "10 thousand missing values here.  This is an additional classification problem after the first.  We can worry about this later."
   ]
  },
  {
   "cell_type": "markdown",
   "metadata": {},
   "source": [
    "## Outcome Type: (DONE)"
   ]
  },
  {
   "cell_type": "markdown",
   "metadata": {},
   "source": [
    "We're ok here."
   ]
  },
  {
   "cell_type": "code",
   "execution_count": 14,
   "metadata": {},
   "outputs": [
    {
     "data": {
      "text/plain": [
       "0"
      ]
     },
     "execution_count": 14,
     "metadata": {},
     "output_type": "execute_result"
    }
   ],
   "source": [
    "df['outcome_type'].isna().sum()"
   ]
  },
  {
   "cell_type": "markdown",
   "metadata": {},
   "source": [
    "## Sex Upon Outcome (DONE)"
   ]
  },
  {
   "cell_type": "code",
   "execution_count": 15,
   "metadata": {},
   "outputs": [],
   "source": [
    "df.sex_upon_outcome.dropna(inplace = True)"
   ]
  },
  {
   "cell_type": "code",
   "execution_count": 16,
   "metadata": {},
   "outputs": [
    {
     "data": {
      "text/plain": [
       "Neutered Male    27366\n",
       "Spayed Female    24900\n",
       "Intact Male       8227\n",
       "Intact Female     8135\n",
       "Unknown           2477\n",
       "Name: sex_upon_outcome, dtype: int64"
      ]
     },
     "execution_count": 16,
     "metadata": {},
     "output_type": "execute_result"
    }
   ],
   "source": [
    "df.sex_upon_outcome.value_counts()"
   ]
  },
  {
   "cell_type": "markdown",
   "metadata": {},
   "source": [
    "## Sex Upon Intake (DONE)"
   ]
  },
  {
   "cell_type": "code",
   "execution_count": 17,
   "metadata": {},
   "outputs": [],
   "source": [
    "df['sex_upon_intake'].fillna('Unknown', inplace = True)"
   ]
  },
  {
   "cell_type": "code",
   "execution_count": 18,
   "metadata": {},
   "outputs": [
    {
     "data": {
      "text/plain": [
       "Intact Male      23618\n",
       "Intact Female    22387\n",
       "Neutered Male    11975\n",
       "Spayed Female    10648\n",
       "Unknown           2478\n",
       "Name: sex_upon_intake, dtype: int64"
      ]
     },
     "execution_count": 18,
     "metadata": {},
     "output_type": "execute_result"
    }
   ],
   "source": [
    "df.sex_upon_intake.value_counts()"
   ]
  },
  {
   "cell_type": "markdown",
   "metadata": {},
   "source": [
    "## Choosing Columns for Main DF:"
   ]
  },
  {
   "cell_type": "code",
   "execution_count": 19,
   "metadata": {},
   "outputs": [
    {
     "name": "stdout",
     "output_type": "stream",
     "text": [
      "<class 'pandas.core.frame.DataFrame'>\n",
      "Index: 71106 entries, A006100 to A769066\n",
      "Data columns (total 13 columns):\n",
      "sex_upon_intake            71106 non-null object\n",
      "age_upon_intake_(years)    71106 non-null float64\n",
      "time_in_shelter_days       71106 non-null float64\n",
      "animal_type                71106 non-null object\n",
      "breed                      71106 non-null object\n",
      "color                      71106 non-null object\n",
      "found_location             71106 non-null object\n",
      "intake_condition           71106 non-null object\n",
      "intake_type                71106 non-null object\n",
      "intake_number              71106 non-null float64\n",
      "has_name                   71106 non-null int64\n",
      "outcome_datetime           71106 non-null object\n",
      "outcome_type               71106 non-null object\n",
      "dtypes: float64(3), int64(1), object(9)\n",
      "memory usage: 7.6+ MB\n"
     ]
    }
   ],
   "source": [
    "col_to_keep = ['sex_upon_intake', 'age_upon_intake_(years)', \n",
    "               'time_in_shelter_days','animal_type', 'breed',\n",
    "               'color', 'found_location', 'intake_condition', \n",
    "               'intake_type', 'intake_number', 'has_name',\n",
    "               'outcome_datetime', 'outcome_type']\n",
    "df_eda = df[col_to_keep]\n",
    "df_eda.info()"
   ]
  },
  {
   "cell_type": "markdown",
   "metadata": {},
   "source": [
    "# EDA:"
   ]
  },
  {
   "cell_type": "markdown",
   "metadata": {},
   "source": [
    "## Different Outcome Types:"
   ]
  },
  {
   "cell_type": "code",
   "execution_count": null,
   "metadata": {},
   "outputs": [],
   "source": []
  },
  {
   "cell_type": "code",
   "execution_count": null,
   "metadata": {},
   "outputs": [],
   "source": []
  },
  {
   "cell_type": "markdown",
   "metadata": {},
   "source": [
    "## Variables Compared Against Outcomes:"
   ]
  },
  {
   "cell_type": "code",
   "execution_count": null,
   "metadata": {},
   "outputs": [],
   "source": []
  },
  {
   "cell_type": "code",
   "execution_count": null,
   "metadata": {},
   "outputs": [],
   "source": []
  },
  {
   "cell_type": "markdown",
   "metadata": {},
   "source": [
    "## Other:"
   ]
  },
  {
   "cell_type": "code",
   "execution_count": 20,
   "metadata": {},
   "outputs": [
    {
     "data": {
      "text/plain": [
       "<matplotlib.axes._subplots.AxesSubplot at 0x1a2079cf60>"
      ]
     },
     "execution_count": 20,
     "metadata": {},
     "output_type": "execute_result"
    },
    {
     "data": {
      "image/png": "[encoded data removed]",
      "text/plain": [
       "<Figure size 720x360 with 1 Axes>"
      ]
     },
     "metadata": {
      "needs_background": "light"
     },
     "output_type": "display_data"
    }
   ],
   "source": [
    "f, ax = plt.subplots(figsize=(10, 5))\n",
    "sns.set_color_codes(\"pastel\")\n",
    "sns.distplot(df_eda['age_upon_intake_(years)'], kde = False)"
   ]
  },
  {
   "cell_type": "code",
   "execution_count": 21,
   "metadata": {},
   "outputs": [
    {
     "data": {
      "text/plain": [
       "<matplotlib.axes._subplots.AxesSubplot at 0x1a1aa6f860>"
      ]
     },
     "execution_count": 21,
     "metadata": {},
     "output_type": "execute_result"
    },
    {
     "data": {
      "image/png": "[encoded data removed]",
      "text/plain": [
       "<Figure size 720x360 with 1 Axes>"
      ]
     },
     "metadata": {
      "needs_background": "light"
     },
     "output_type": "display_data"
    }
   ],
   "source": [
    "# Should take outliers out. . . \n",
    "f, ax = plt.subplots(figsize=(10, 5))\n",
    "sns.set_color_codes(\"pastel\")\n",
    "sns.distplot(df_eda['time_in_shelter_days'], kde = False)"
   ]
  },
  {
   "cell_type": "code",
   "execution_count": 22,
   "metadata": {},
   "outputs": [],
   "source": [
    "# Let's get a tree map going with different outcomes and sub types\n",
    "# fig = px.treemap(df_eda, path=['outcome_type', 'outcome_subtype'], values='count')\n",
    "# fig.show()\n",
    "# Not working for some reason. . . "
   ]
  },
  {
   "cell_type": "markdown",
   "metadata": {},
   "source": [
    "# Feature Engineering:"
   ]
  },
  {
   "cell_type": "code",
   "execution_count": 23,
   "metadata": {},
   "outputs": [
    {
     "data": {
      "text/html": [
       "<div>\n",
       "<style scoped>\n",
       "    .dataframe tbody tr th:only-of-type {\n",
       "        vertical-align: middle;\n",
       "    }\n",
       "\n",
       "    .dataframe tbody tr th {\n",
       "        vertical-align: top;\n",
       "    }\n",
       "\n",
       "    .dataframe thead th {\n",
       "        text-align: right;\n",
       "    }\n",
       "</style>\n",
       "<table border=\"1\" class=\"dataframe\">\n",
       "  <thead>\n",
       "    <tr style=\"text-align: right;\">\n",
       "      <th></th>\n",
       "      <th>sex_upon_intake</th>\n",
       "      <th>age_upon_intake_(years)</th>\n",
       "      <th>time_in_shelter_days</th>\n",
       "      <th>animal_type</th>\n",
       "      <th>breed</th>\n",
       "      <th>color</th>\n",
       "      <th>found_location</th>\n",
       "      <th>intake_condition</th>\n",
       "      <th>intake_type</th>\n",
       "      <th>intake_number</th>\n",
       "      <th>has_name</th>\n",
       "      <th>outcome_datetime</th>\n",
       "      <th>outcome_type</th>\n",
       "    </tr>\n",
       "  </thead>\n",
       "  <tbody>\n",
       "    <tr>\n",
       "      <td>A006100</td>\n",
       "      <td>Neutered Male</td>\n",
       "      <td>10.0</td>\n",
       "      <td>0.588194</td>\n",
       "      <td>Dog</td>\n",
       "      <td>Spinone Italiano Mix</td>\n",
       "      <td>Yellow/White</td>\n",
       "      <td>Colony Creek And Hunters Trace in Austin (TX)</td>\n",
       "      <td>Normal</td>\n",
       "      <td>Stray</td>\n",
       "      <td>1.0</td>\n",
       "      <td>1</td>\n",
       "      <td>2017-12-07 14:07:00</td>\n",
       "      <td>Return to Owner</td>\n",
       "    </tr>\n",
       "    <tr>\n",
       "      <td>A006100</td>\n",
       "      <td>Neutered Male</td>\n",
       "      <td>7.0</td>\n",
       "      <td>1.259722</td>\n",
       "      <td>Dog</td>\n",
       "      <td>Spinone Italiano Mix</td>\n",
       "      <td>Yellow/White</td>\n",
       "      <td>8700 Research Blvd in Austin (TX)</td>\n",
       "      <td>Normal</td>\n",
       "      <td>Public Assist</td>\n",
       "      <td>2.0</td>\n",
       "      <td>1</td>\n",
       "      <td>2014-12-20 16:35:00</td>\n",
       "      <td>Return to Owner</td>\n",
       "    </tr>\n",
       "    <tr>\n",
       "      <td>A006100</td>\n",
       "      <td>Neutered Male</td>\n",
       "      <td>6.0</td>\n",
       "      <td>1.113889</td>\n",
       "      <td>Dog</td>\n",
       "      <td>Spinone Italiano Mix</td>\n",
       "      <td>Yellow/White</td>\n",
       "      <td>8700 Research in Austin (TX)</td>\n",
       "      <td>Normal</td>\n",
       "      <td>Public Assist</td>\n",
       "      <td>3.0</td>\n",
       "      <td>1</td>\n",
       "      <td>2014-03-08 17:10:00</td>\n",
       "      <td>Return to Owner</td>\n",
       "    </tr>\n",
       "    <tr>\n",
       "      <td>A047759</td>\n",
       "      <td>Neutered Male</td>\n",
       "      <td>10.0</td>\n",
       "      <td>4.970139</td>\n",
       "      <td>Dog</td>\n",
       "      <td>Dachshund</td>\n",
       "      <td>Tricolor</td>\n",
       "      <td>Austin (TX)</td>\n",
       "      <td>Normal</td>\n",
       "      <td>Owner Surrender</td>\n",
       "      <td>1.0</td>\n",
       "      <td>1</td>\n",
       "      <td>2014-04-07 15:12:00</td>\n",
       "      <td>Transfer</td>\n",
       "    </tr>\n",
       "    <tr>\n",
       "      <td>A134067</td>\n",
       "      <td>Neutered Male</td>\n",
       "      <td>16.0</td>\n",
       "      <td>0.119444</td>\n",
       "      <td>Dog</td>\n",
       "      <td>Shetland Sheepdog</td>\n",
       "      <td>Brown/White</td>\n",
       "      <td>12034 Research Blvd in Austin (TX)</td>\n",
       "      <td>Injured</td>\n",
       "      <td>Public Assist</td>\n",
       "      <td>1.0</td>\n",
       "      <td>1</td>\n",
       "      <td>2013-11-16 11:54:00</td>\n",
       "      <td>Return to Owner</td>\n",
       "    </tr>\n",
       "  </tbody>\n",
       "</table>\n",
       "</div>"
      ],
      "text/plain": [
       "        sex_upon_intake  age_upon_intake_(years)  time_in_shelter_days  \\\n",
       "A006100   Neutered Male                     10.0              0.588194   \n",
       "A006100   Neutered Male                      7.0              1.259722   \n",
       "A006100   Neutered Male                      6.0              1.113889   \n",
       "A047759   Neutered Male                     10.0              4.970139   \n",
       "A134067   Neutered Male                     16.0              0.119444   \n",
       "\n",
       "        animal_type                 breed         color  \\\n",
       "A006100         Dog  Spinone Italiano Mix  Yellow/White   \n",
       "A006100         Dog  Spinone Italiano Mix  Yellow/White   \n",
       "A006100         Dog  Spinone Italiano Mix  Yellow/White   \n",
       "A047759         Dog             Dachshund      Tricolor   \n",
       "A134067         Dog     Shetland Sheepdog   Brown/White   \n",
       "\n",
       "                                        found_location intake_condition  \\\n",
       "A006100  Colony Creek And Hunters Trace in Austin (TX)           Normal   \n",
       "A006100              8700 Research Blvd in Austin (TX)           Normal   \n",
       "A006100                   8700 Research in Austin (TX)           Normal   \n",
       "A047759                                    Austin (TX)           Normal   \n",
       "A134067             12034 Research Blvd in Austin (TX)          Injured   \n",
       "\n",
       "             intake_type  intake_number  has_name     outcome_datetime  \\\n",
       "A006100            Stray            1.0         1  2017-12-07 14:07:00   \n",
       "A006100    Public Assist            2.0         1  2014-12-20 16:35:00   \n",
       "A006100    Public Assist            3.0         1  2014-03-08 17:10:00   \n",
       "A047759  Owner Surrender            1.0         1  2014-04-07 15:12:00   \n",
       "A134067    Public Assist            1.0         1  2013-11-16 11:54:00   \n",
       "\n",
       "            outcome_type  \n",
       "A006100  Return to Owner  \n",
       "A006100  Return to Owner  \n",
       "A006100  Return to Owner  \n",
       "A047759         Transfer  \n",
       "A134067  Return to Owner  "
      ]
     },
     "execution_count": 23,
     "metadata": {},
     "output_type": "execute_result"
    }
   ],
   "source": [
    "dfi = df_eda\n",
    "dfi.head()"
   ]
  },
  {
   "cell_type": "code",
   "execution_count": 24,
   "metadata": {},
   "outputs": [],
   "source": [
    "# sex_upon_intake\n",
    "# Dummy variable, no change\n",
    "dfi['sex'] = np.where(dfi['sex_upon_intake'].str.contains('Male'), 1, 0)\n",
    "dfi['intact'] = np.where(dfi['sex_upon_intake'].str.contains('Intact'), 1, 0)\n",
    "dfi['unk_sex'] = np.where(dfi['sex_upon_intake'].str.contains('Unknown'), 1, 0)\n",
    "#dfi.drop(columns = 'sex_upon_intake', axis = 1, inplace = True)"
   ]
  },
  {
   "cell_type": "code",
   "execution_count": 25,
   "metadata": {},
   "outputs": [],
   "source": [
    "# age_upon_intake_(years)\n",
    "# Scale\n"
   ]
  },
  {
   "cell_type": "code",
   "execution_count": 26,
   "metadata": {},
   "outputs": [],
   "source": [
    "# time_in_shelter_days \n",
    "# Scale"
   ]
  },
  {
   "cell_type": "code",
   "execution_count": 27,
   "metadata": {},
   "outputs": [],
   "source": [
    "# animal_type \n",
    "# Dummy for dog or cat\n",
    "dfi['dog'] = dfi['animal_type'].map(lambda x: 1 if x == 'Dog' else 0)\n",
    "dfi['cat'] = dfi['animal_type'].map(lambda x: 1 if x == 'Cat' else 0)"
   ]
  },
  {
   "cell_type": "code",
   "execution_count": 28,
   "metadata": {},
   "outputs": [],
   "source": [
    "# breed\n",
    "# Dummy for top 20\n",
    "def dum_sign(dummy_col, threshold=0.1):\n",
    "    # removes the bind\n",
    "    dummy_col = dummy_col.copy()\n",
    "    # Ratio of dummy to rest of column\n",
    "    count = pd.value_counts(dummy_col) / len(dummy_col)\n",
    "    # Condition\n",
    "    mask = dummy_col.isin(count[count > threshold].index)\n",
    "    # Replaces \n",
    "    dummy_col[~mask] = \"others\"\n",
    "\n",
    "    return pd.get_dummies(dummy_col, prefix=dummy_col.name)\n",
    "\n",
    "df_breed = dum_sign(dfi['breed'], threshold = .01)\n",
    "dfi = pd.concat([dfi, df_breed], axis = 1)"
   ]
  },
  {
   "cell_type": "code",
   "execution_count": 29,
   "metadata": {},
   "outputs": [],
   "source": [
    "# color\n",
    "# Dummy for top 10-20\n",
    "df_col = dum_sign(dfi['color'], threshold = .025)\n",
    "dfi = pd.concat([dfi, df_col], axis = 1)"
   ]
  },
  {
   "cell_type": "code",
   "execution_count": 30,
   "metadata": {},
   "outputs": [],
   "source": [
    "# found_location\n",
    "## Austin (TX)                                   13108\n",
    "## Outside Jurisdiction                            896\n",
    "## Travis (TX)                                     841\n",
    "## 7201 Levander Loop in Austin (TX)               477\n",
    "## Del Valle (TX)                                  378\n",
    "# Dummy for top ten, or possibly just Austin or outside Austin\n",
    "df_loc = dum_sign(dfi['found_location'], threshold = .01)\n",
    "dfi = pd.concat([dfi, df_loc], axis = 1)"
   ]
  },
  {
   "cell_type": "code",
   "execution_count": 31,
   "metadata": {},
   "outputs": [],
   "source": [
    "# intake_condition\n",
    "# Regular dummy variables\n",
    "cond_dummy = pd.get_dummies(dfi['intake_condition'])\n",
    "dfi = pd.concat([dfi, cond_dummy], axis = 1)"
   ]
  },
  {
   "cell_type": "code",
   "execution_count": 32,
   "metadata": {},
   "outputs": [],
   "source": [
    "# intake_type         \n",
    "# Regular dummy variables\n",
    "int_type_dummy = pd.get_dummies(dfi['intake_type'])\n",
    "dfi = pd.concat([dfi, int_type_dummy], axis = 1)"
   ]
  },
  {
   "cell_type": "code",
   "execution_count": 33,
   "metadata": {},
   "outputs": [],
   "source": [
    "# intake_number\n",
    "# Dummy for 1, 2, 3, and 4+\n",
    "dfi['count_1'] = dfi['intake_number'].map(lambda x: 1 if x == 1 else 0)\n",
    "dfi['count_2'] = dfi['intake_number'].map(lambda x: 1 if x == 2 else 0)\n",
    "dfi['count_3'] = dfi['intake_number'].map(lambda x: 1 if x == 3 else 0)\n",
    "dfi['count_4_plus'] = dfi['intake_number'].map(lambda x: 1 if x > 3 else 0)"
   ]
  },
  {
   "cell_type": "code",
   "execution_count": 34,
   "metadata": {},
   "outputs": [],
   "source": [
    "# has_name               \n",
    "# Good to go"
   ]
  },
  {
   "cell_type": "code",
   "execution_count": 35,
   "metadata": {},
   "outputs": [],
   "source": [
    "# outcome_datetime      \n",
    "# TBD"
   ]
  },
  {
   "cell_type": "code",
   "execution_count": 36,
   "metadata": {},
   "outputs": [],
   "source": [
    "# outcome_type  \n",
    "# Return to Owner = 1\n",
    "# Transfer = 2\n",
    "# Adoption = 3\n",
    "dfi['outcome'] = dfi['outcome_type'].map(lambda x: 1 if x == 'Return to Owner' \n",
    "                                         else (2 if x == 'Transfer' \n",
    "                                               else 3))"
   ]
  },
  {
   "cell_type": "code",
   "execution_count": 37,
   "metadata": {},
   "outputs": [],
   "source": [
    "# outcome_subtype   \n",
    "# Leave for now. . . "
   ]
  },
  {
   "cell_type": "markdown",
   "metadata": {},
   "source": [
    "## Multicollinearity:"
   ]
  },
  {
   "cell_type": "code",
   "execution_count": 38,
   "metadata": {},
   "outputs": [],
   "source": [
    "def multicol(x):\n",
    "    sns.set_style('white')\n",
    "    f, ax = plt.subplots(figsize=(9, 7))\n",
    "    corr = df.corr()\n",
    "    mask = np.triu(np.ones_like(corr, dtype=np.bool))\n",
    "    sns.heatmap(x.corr(), vmin=0.3, mask = mask);"
   ]
  },
  {
   "cell_type": "code",
   "execution_count": 39,
   "metadata": {},
   "outputs": [
    {
     "data": {
      "image/png": "[encoded data removed]",
      "text/plain": [
       "<Figure size 648x504 with 2 Axes>"
      ]
     },
     "metadata": {},
     "output_type": "display_data"
    }
   ],
   "source": [
    "multicol(df)"
   ]
  },
  {
   "cell_type": "markdown",
   "metadata": {},
   "source": [
    "## Scaling:"
   ]
  },
  {
   "cell_type": "code",
   "execution_count": 40,
   "metadata": {},
   "outputs": [],
   "source": [
    "# Import StandardScaler\n",
    "#from sklearn.preprocessing import StandardScaler\n",
    "\n",
    "# Instantiate StandardScaler\n",
    "#scaler = StandardScaler()\n",
    "\n",
    "# Transform the training and test sets\n",
    "#scaled_data_train = scaler.fit_transform(X_train)\n",
    "#scaled_data_test = scaler.transform(X_test)\n",
    "\n",
    "# Convert into a DataFrame\n",
    "#scaled_df_train = pd.DataFrame(scaled_data_train, columns=one_hot_df.columns)\n",
    "#scaled_df_train.head()"
   ]
  },
  {
   "cell_type": "markdown",
   "metadata": {},
   "source": [
    "## Log Transformations:"
   ]
  },
  {
   "cell_type": "markdown",
   "metadata": {},
   "source": [
    "# Predictor Variables:"
   ]
  },
  {
   "cell_type": "markdown",
   "metadata": {},
   "source": [
    "There are quite a few variables to dig through in the main data frame, but here are the main predictor variables we'll be using for our model:\n",
    "1. Sex (This one is interesting as it has neutered/spayed vs intact as well as biological sex)\n",
    "2. Age on intake\n",
    "3. Time in shelter\n",
    "4. Animal type (Cats, dogs, birds, or other!)\n",
    "5. Breed (Categorical variable hell)\n",
    "6. Color(Categorical variable hell)\n",
    "7. Found location (We'll need to split this up into a few main areas)\n",
    "8. Intake condition (Sick, healthy, aged, feral, etc. . . )\n",
    "9. Intake type (Public assist, Stray, owner abandonment, etc. . . )\n",
    "10. Count (How many times has this animal been in the shelter)\n",
    "11. Has name ( . . . upon intake)\n",
    "12. Outcome day/time (maybe more adoptions happen on weekend. . .)"
   ]
  },
  {
   "cell_type": "markdown",
   "metadata": {},
   "source": [
    "# Train Test Split:"
   ]
  },
  {
   "cell_type": "code",
   "execution_count": 41,
   "metadata": {},
   "outputs": [
    {
     "name": "stdout",
     "output_type": "stream",
     "text": [
      "56884 14222 56884 14222\n"
     ]
    }
   ],
   "source": [
    "# Putting the final DF back together:\n",
    "\n",
    "# X vs y:\n",
    "X = dfi.drop(['outcome', 'outcome_type', 'sex_upon_intake', 'age_upon_intake_(years)',\n",
    "              'time_in_shelter_days', 'animal_type', 'breed', \n",
    "              'color', 'found_location', 'intake_condition', 'intake_type', \n",
    "              'intake_number', 'outcome_datetime'], axis = 1)\n",
    "y = dfi['outcome']\n",
    "# Splitting the data.  Test size 20%.  Random_state 123\n",
    "X_train, X_test, y_train, y_test = train_test_split(X, y, \n",
    "                                                    test_size=0.2, \n",
    "                                                    random_state = 123)\n",
    "print(len(X_train), len(X_test), len(y_train), len(y_test))\n"
   ]
  },
  {
   "cell_type": "code",
   "execution_count": null,
   "metadata": {},
   "outputs": [],
   "source": []
  },
  {
   "cell_type": "markdown",
   "metadata": {},
   "source": [
    "# Baseline Model:"
   ]
  },
  {
   "cell_type": "markdown",
   "metadata": {},
   "source": [
    "Probably use Log Classifier here"
   ]
  },
  {
   "cell_type": "code",
   "execution_count": 42,
   "metadata": {},
   "outputs": [
    {
     "data": {
      "text/plain": [
       "'\\ndef print_metrics(labels, preds):\\n    print(\"Precision Score: {}\".format(precision_score(labels, preds)))\\n    print(\"Recall Score: {}\".format(recall_score(labels, preds)))\\n    print(\"Accuracy Score: {}\".format(accuracy_score(labels, preds)))\\n    print(\"F1 Score: {}\".format(f1_score(labels, preds)))\\n    \\nprint_metrics(y_test, test_preds)\\n'"
      ]
     },
     "execution_count": 42,
     "metadata": {},
     "output_type": "execute_result"
    }
   ],
   "source": [
    "'''\n",
    "def print_metrics(labels, preds):\n",
    "    print(\"Precision Score: {}\".format(precision_score(labels, preds)))\n",
    "    print(\"Recall Score: {}\".format(recall_score(labels, preds)))\n",
    "    print(\"Accuracy Score: {}\".format(accuracy_score(labels, preds)))\n",
    "    print(\"F1 Score: {}\".format(f1_score(labels, preds)))\n",
    "    \n",
    "print_metrics(y_test, test_preds)\n",
    "'''"
   ]
  },
  {
   "cell_type": "markdown",
   "metadata": {},
   "source": [
    "# Improved Models:"
   ]
  },
  {
   "cell_type": "markdown",
   "metadata": {},
   "source": [
    "Make some pipelines"
   ]
  },
  {
   "cell_type": "code",
   "execution_count": 43,
   "metadata": {},
   "outputs": [
    {
     "data": {
      "text/plain": [
       "\"\\nscaled_pipeline_1 = Pipeline([('ss', StandardScaler()), \\n                              ('knn', KNeighborsClassifier())])\\n\\nscaled_pipeline_1.fit(X_train, y_train)\\nscaled_pipeline_1.score(X_test, y_test)\\n\""
      ]
     },
     "execution_count": 43,
     "metadata": {},
     "output_type": "execute_result"
    }
   ],
   "source": [
    "# Example code\n",
    "'''\n",
    "scaled_pipeline_1 = Pipeline([('ss', StandardScaler()), \n",
    "                              ('knn', KNeighborsClassifier())])\n",
    "\n",
    "scaled_pipeline_1.fit(X_train, y_train)\n",
    "scaled_pipeline_1.score(X_test, y_test)\n",
    "'''"
   ]
  },
  {
   "cell_type": "markdown",
   "metadata": {},
   "source": [
    "## K-Nearest-Neighbors:"
   ]
  },
  {
   "cell_type": "markdown",
   "metadata": {},
   "source": [
    "First, we'll start by building a pipeline for this model."
   ]
  },
  {
   "cell_type": "code",
   "execution_count": null,
   "metadata": {},
   "outputs": [],
   "source": []
  },
  {
   "cell_type": "markdown",
   "metadata": {},
   "source": [
    "## Decision Tree:"
   ]
  },
  {
   "cell_type": "code",
   "execution_count": 44,
   "metadata": {},
   "outputs": [],
   "source": [
    "# Print tree with max depth set to none for funsies"
   ]
  },
  {
   "cell_type": "markdown",
   "metadata": {},
   "source": [
    "## Random Forest:"
   ]
  },
  {
   "cell_type": "code",
   "execution_count": 45,
   "metadata": {},
   "outputs": [
    {
     "data": {
      "text/plain": [
       "RandomForestClassifier(bootstrap=True, class_weight=None, criterion='gini',\n",
       "                       max_depth=20, max_features='auto', max_leaf_nodes=None,\n",
       "                       min_impurity_decrease=0.0, min_impurity_split=None,\n",
       "                       min_samples_leaf=1, min_samples_split=2,\n",
       "                       min_weight_fraction_leaf=0.0, n_estimators=150,\n",
       "                       n_jobs=None, oob_score=False, random_state=None,\n",
       "                       verbose=0, warm_start=False)"
      ]
     },
     "execution_count": 45,
     "metadata": {},
     "output_type": "execute_result"
    }
   ],
   "source": [
    "# Get feature importance bar chart\n",
    "forest = RandomForestClassifier(n_estimators=150, max_depth= 20)\n",
    "forest.fit(X_train, y_train)"
   ]
  },
  {
   "cell_type": "code",
   "execution_count": 46,
   "metadata": {},
   "outputs": [
    {
     "data": {
      "text/plain": [
       "0.695977779340412"
      ]
     },
     "metadata": {},
     "output_type": "display_data"
    }
   ],
   "source": [
    "display(forest.score(X_train, y_train))"
   ]
  },
  {
   "cell_type": "code",
   "execution_count": 47,
   "metadata": {},
   "outputs": [
    {
     "data": {
      "text/plain": [
       "0.6661510336099001"
      ]
     },
     "metadata": {},
     "output_type": "display_data"
    }
   ],
   "source": [
    "display(forest.score(X_test, y_test))"
   ]
  },
  {
   "cell_type": "code",
   "execution_count": 48,
   "metadata": {},
   "outputs": [
    {
     "name": "stdout",
     "output_type": "stream",
     "text": [
      "[[1820  108 1010]\n",
      " [ 306 2259 2043]\n",
      " [ 671  610 5395]]\n"
     ]
    }
   ],
   "source": [
    "pred = forest.predict(X_test)\n",
    "print(confusion_matrix(y_test, pred))\n",
    "\n",
    "# Notes: getting most of the return to owner correct,\n",
    "# Gets caught between actual transfers vs thinking they get adopted\n",
    "# Gets most of the adopted with some spill over\n",
    "# Maybe a balancing issue?\n",
    "# 3 = adoption\n",
    "# 2 = transfer\n",
    "# 1 = return to owner"
   ]
  },
  {
   "cell_type": "markdown",
   "metadata": {},
   "source": [
    "## XG Boost:"
   ]
  },
  {
   "cell_type": "markdown",
   "metadata": {},
   "source": [
    "## SVM:"
   ]
  },
  {
   "cell_type": "markdown",
   "metadata": {},
   "source": [
    "# Final Model:"
   ]
  },
  {
   "cell_type": "code",
   "execution_count": null,
   "metadata": {},
   "outputs": [],
   "source": []
  },
  {
   "cell_type": "markdown",
   "metadata": {},
   "source": [
    "## Feature Importance:"
   ]
  },
  {
   "cell_type": "markdown",
   "metadata": {},
   "source": [
    "# Model Comparisons:"
   ]
  },
  {
   "cell_type": "code",
   "execution_count": 49,
   "metadata": {},
   "outputs": [
    {
     "data": {
      "text/plain": [
       "'\\npred = tree_clf.predict(data_test)\\n\\n# Confusion matrix and classification report\\nprint(confusion_matrix(target_test, pred))\\nprint(classification_report(target_test, pred))\\n'"
      ]
     },
     "execution_count": 49,
     "metadata": {},
     "output_type": "execute_result"
    }
   ],
   "source": [
    "'''\n",
    "pred = tree_clf.predict(data_test)\n",
    "\n",
    "# Confusion matrix and classification report\n",
    "print(confusion_matrix(target_test, pred))\n",
    "print(classification_report(target_test, pred))\n",
    "'''"
   ]
  },
  {
   "cell_type": "markdown",
   "metadata": {},
   "source": [
    "## ROC Curves:"
   ]
  },
  {
   "cell_type": "markdown",
   "metadata": {},
   "source": [
    "## Confusion Matrix:"
   ]
  },
  {
   "cell_type": "markdown",
   "metadata": {},
   "source": [
    "## F1 vs Accuracy vs Recall etc. . . "
   ]
  },
  {
   "cell_type": "markdown",
   "metadata": {},
   "source": []
  },
  {
   "cell_type": "markdown",
   "metadata": {},
   "source": [
    "# Conclusion:"
   ]
  },
  {
   "cell_type": "code",
   "execution_count": null,
   "metadata": {},
   "outputs": [],
   "source": []
  }
 ],
 "metadata": {
  "kernelspec": {
   "display_name": "Python 3",
   "language": "python",
   "name": "python3"
  },
  "language_info": {
   "codemirror_mode": {
    "name": "ipython",
    "version": 3
   },
   "file_extension": ".py",
   "mimetype": "text/x-python",
   "name": "python",
   "nbconvert_exporter": "python",
   "pygments_lexer": "ipython3",
   "version": "3.6.9"
  },
  "toc": {
   "base_numbering": 1,
   "nav_menu": {},
   "number_sections": true,
   "sideBar": true,
   "skip_h1_title": false,
   "title_cell": "Table of Contents",
   "title_sidebar": "Contents",
   "toc_cell": false,
   "toc_position": {},
   "toc_section_display": true,
   "toc_window_display": true
  }
 },
 "nbformat": 4,
 "nbformat_minor": 2
}
