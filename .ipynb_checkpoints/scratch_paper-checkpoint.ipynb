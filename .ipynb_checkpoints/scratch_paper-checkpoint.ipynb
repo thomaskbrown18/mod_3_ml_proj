{
 "cells": [
  {
   "cell_type": "markdown",
   "metadata": {},
   "source": [
    "# Scratch Paper:"
   ]
  },
  {
   "cell_type": "code",
   "execution_count": 1,
   "metadata": {},
   "outputs": [],
   "source": [
    "from sklearn.preprocessing import StandardScaler\n",
    "from sklearn.pipeline import Pipeline\n",
    "from sklearn.neighbors import KNeighborsClassifier\n",
    "from sklearn.model_selection import train_test_split, GridSearchCV\n",
    "from sklearn.ensemble import RandomForestClassifier, BaggingClassifier\n",
    "from sklearn.metrics import roc_curve, auc\n",
    "from sklearn.metrics import accuracy_score, confusion_matrix, classification_report\n",
    "from sklearn.tree import DecisionTreeClassifier\n",
    "\n",
    "pd.set_option('display.max_columns', None)\n",
    "\n"
   ]
  },
  {
   "cell_type": "code",
   "execution_count": 2,
   "metadata": {},
   "outputs": [],
   "source": [
    "import numpy as np"
   ]
  },
  {
   "cell_type": "code",
   "execution_count": 3,
   "metadata": {},
   "outputs": [
    {
     "data": {
      "text/html": [
       "<div>\n",
       "<style scoped>\n",
       "    .dataframe tbody tr th:only-of-type {\n",
       "        vertical-align: middle;\n",
       "    }\n",
       "\n",
       "    .dataframe tbody tr th {\n",
       "        vertical-align: top;\n",
       "    }\n",
       "\n",
       "    .dataframe thead th {\n",
       "        text-align: right;\n",
       "    }\n",
       "</style>\n",
       "<table border=\"1\" class=\"dataframe\">\n",
       "  <thead>\n",
       "    <tr style=\"text-align: right;\">\n",
       "      <th></th>\n",
       "      <th>age_upon_outcome</th>\n",
       "      <th>animal_id_outcome</th>\n",
       "      <th>date_of_birth</th>\n",
       "      <th>outcome_subtype</th>\n",
       "      <th>outcome_type</th>\n",
       "      <th>sex_upon_outcome</th>\n",
       "      <th>age_upon_outcome_(days)</th>\n",
       "      <th>age_upon_outcome_(years)</th>\n",
       "      <th>age_upon_outcome_age_group</th>\n",
       "      <th>outcome_datetime</th>\n",
       "      <th>...</th>\n",
       "      <th>age_upon_intake_age_group</th>\n",
       "      <th>intake_datetime</th>\n",
       "      <th>intake_month</th>\n",
       "      <th>intake_year</th>\n",
       "      <th>intake_monthyear</th>\n",
       "      <th>intake_weekday</th>\n",
       "      <th>intake_hour</th>\n",
       "      <th>intake_number</th>\n",
       "      <th>time_in_shelter</th>\n",
       "      <th>time_in_shelter_days</th>\n",
       "    </tr>\n",
       "  </thead>\n",
       "  <tbody>\n",
       "    <tr>\n",
       "      <td>0</td>\n",
       "      <td>10 years</td>\n",
       "      <td>A006100</td>\n",
       "      <td>2007-07-09 00:00:00</td>\n",
       "      <td>NaN</td>\n",
       "      <td>Return to Owner</td>\n",
       "      <td>Neutered Male</td>\n",
       "      <td>3650</td>\n",
       "      <td>10.0</td>\n",
       "      <td>(7.5, 10.0]</td>\n",
       "      <td>2017-12-07 14:07:00</td>\n",
       "      <td>...</td>\n",
       "      <td>(7.5, 10.0]</td>\n",
       "      <td>2017-12-07 00:00:00</td>\n",
       "      <td>12</td>\n",
       "      <td>2017</td>\n",
       "      <td>2017-12</td>\n",
       "      <td>Thursday</td>\n",
       "      <td>14</td>\n",
       "      <td>1.0</td>\n",
       "      <td>0 days 14:07:00.000000000</td>\n",
       "      <td>0.588194</td>\n",
       "    </tr>\n",
       "    <tr>\n",
       "      <td>1</td>\n",
       "      <td>7 years</td>\n",
       "      <td>A006100</td>\n",
       "      <td>2007-07-09 00:00:00</td>\n",
       "      <td>NaN</td>\n",
       "      <td>Return to Owner</td>\n",
       "      <td>Neutered Male</td>\n",
       "      <td>2555</td>\n",
       "      <td>7.0</td>\n",
       "      <td>(5.0, 7.5]</td>\n",
       "      <td>2014-12-20 16:35:00</td>\n",
       "      <td>...</td>\n",
       "      <td>(5.0, 7.5]</td>\n",
       "      <td>2014-12-19 10:21:00</td>\n",
       "      <td>12</td>\n",
       "      <td>2014</td>\n",
       "      <td>2014-12</td>\n",
       "      <td>Friday</td>\n",
       "      <td>10</td>\n",
       "      <td>2.0</td>\n",
       "      <td>1 days 06:14:00.000000000</td>\n",
       "      <td>1.259722</td>\n",
       "    </tr>\n",
       "    <tr>\n",
       "      <td>2</td>\n",
       "      <td>6 years</td>\n",
       "      <td>A006100</td>\n",
       "      <td>2007-07-09 00:00:00</td>\n",
       "      <td>NaN</td>\n",
       "      <td>Return to Owner</td>\n",
       "      <td>Neutered Male</td>\n",
       "      <td>2190</td>\n",
       "      <td>6.0</td>\n",
       "      <td>(5.0, 7.5]</td>\n",
       "      <td>2014-03-08 17:10:00</td>\n",
       "      <td>...</td>\n",
       "      <td>(5.0, 7.5]</td>\n",
       "      <td>2014-03-07 14:26:00</td>\n",
       "      <td>3</td>\n",
       "      <td>2014</td>\n",
       "      <td>2014-03</td>\n",
       "      <td>Friday</td>\n",
       "      <td>14</td>\n",
       "      <td>3.0</td>\n",
       "      <td>1 days 02:44:00.000000000</td>\n",
       "      <td>1.113889</td>\n",
       "    </tr>\n",
       "    <tr>\n",
       "      <td>3</td>\n",
       "      <td>10 years</td>\n",
       "      <td>A047759</td>\n",
       "      <td>2004-04-02 00:00:00</td>\n",
       "      <td>Partner</td>\n",
       "      <td>Transfer</td>\n",
       "      <td>Neutered Male</td>\n",
       "      <td>3650</td>\n",
       "      <td>10.0</td>\n",
       "      <td>(7.5, 10.0]</td>\n",
       "      <td>2014-04-07 15:12:00</td>\n",
       "      <td>...</td>\n",
       "      <td>(7.5, 10.0]</td>\n",
       "      <td>2014-04-02 15:55:00</td>\n",
       "      <td>4</td>\n",
       "      <td>2014</td>\n",
       "      <td>2014-04</td>\n",
       "      <td>Wednesday</td>\n",
       "      <td>15</td>\n",
       "      <td>1.0</td>\n",
       "      <td>4 days 23:17:00.000000000</td>\n",
       "      <td>4.970139</td>\n",
       "    </tr>\n",
       "    <tr>\n",
       "      <td>4</td>\n",
       "      <td>16 years</td>\n",
       "      <td>A134067</td>\n",
       "      <td>1997-10-16 00:00:00</td>\n",
       "      <td>NaN</td>\n",
       "      <td>Return to Owner</td>\n",
       "      <td>Neutered Male</td>\n",
       "      <td>5840</td>\n",
       "      <td>16.0</td>\n",
       "      <td>(15.0, 17.5]</td>\n",
       "      <td>2013-11-16 11:54:00</td>\n",
       "      <td>...</td>\n",
       "      <td>(15.0, 17.5]</td>\n",
       "      <td>2013-11-16 09:02:00</td>\n",
       "      <td>11</td>\n",
       "      <td>2013</td>\n",
       "      <td>2013-11</td>\n",
       "      <td>Saturday</td>\n",
       "      <td>9</td>\n",
       "      <td>1.0</td>\n",
       "      <td>0 days 02:52:00.000000000</td>\n",
       "      <td>0.119444</td>\n",
       "    </tr>\n",
       "  </tbody>\n",
       "</table>\n",
       "<p>5 rows × 41 columns</p>\n",
       "</div>"
      ],
      "text/plain": [
       "  age_upon_outcome animal_id_outcome        date_of_birth outcome_subtype  \\\n",
       "0         10 years           A006100  2007-07-09 00:00:00             NaN   \n",
       "1          7 years           A006100  2007-07-09 00:00:00             NaN   \n",
       "2          6 years           A006100  2007-07-09 00:00:00             NaN   \n",
       "3         10 years           A047759  2004-04-02 00:00:00         Partner   \n",
       "4         16 years           A134067  1997-10-16 00:00:00             NaN   \n",
       "\n",
       "      outcome_type sex_upon_outcome  age_upon_outcome_(days)  \\\n",
       "0  Return to Owner    Neutered Male                     3650   \n",
       "1  Return to Owner    Neutered Male                     2555   \n",
       "2  Return to Owner    Neutered Male                     2190   \n",
       "3         Transfer    Neutered Male                     3650   \n",
       "4  Return to Owner    Neutered Male                     5840   \n",
       "\n",
       "   age_upon_outcome_(years) age_upon_outcome_age_group     outcome_datetime  \\\n",
       "0                      10.0                (7.5, 10.0]  2017-12-07 14:07:00   \n",
       "1                       7.0                 (5.0, 7.5]  2014-12-20 16:35:00   \n",
       "2                       6.0                 (5.0, 7.5]  2014-03-08 17:10:00   \n",
       "3                      10.0                (7.5, 10.0]  2014-04-07 15:12:00   \n",
       "4                      16.0               (15.0, 17.5]  2013-11-16 11:54:00   \n",
       "\n",
       "   ...  age_upon_intake_age_group      intake_datetime intake_month  \\\n",
       "0  ...                (7.5, 10.0]  2017-12-07 00:00:00           12   \n",
       "1  ...                 (5.0, 7.5]  2014-12-19 10:21:00           12   \n",
       "2  ...                 (5.0, 7.5]  2014-03-07 14:26:00            3   \n",
       "3  ...                (7.5, 10.0]  2014-04-02 15:55:00            4   \n",
       "4  ...               (15.0, 17.5]  2013-11-16 09:02:00           11   \n",
       "\n",
       "  intake_year  intake_monthyear  intake_weekday  intake_hour  intake_number  \\\n",
       "0        2017           2017-12        Thursday           14            1.0   \n",
       "1        2014           2014-12          Friday           10            2.0   \n",
       "2        2014           2014-03          Friday           14            3.0   \n",
       "3        2014           2014-04       Wednesday           15            1.0   \n",
       "4        2013           2013-11        Saturday            9            1.0   \n",
       "\n",
       "             time_in_shelter time_in_shelter_days  \n",
       "0  0 days 14:07:00.000000000             0.588194  \n",
       "1  1 days 06:14:00.000000000             1.259722  \n",
       "2  1 days 02:44:00.000000000             1.113889  \n",
       "3  4 days 23:17:00.000000000             4.970139  \n",
       "4  0 days 02:52:00.000000000             0.119444  \n",
       "\n",
       "[5 rows x 41 columns]"
      ]
     },
     "metadata": {},
     "output_type": "display_data"
    },
    {
     "name": "stdout",
     "output_type": "stream",
     "text": [
      "<class 'pandas.core.frame.DataFrame'>\n",
      "RangeIndex: 79672 entries, 0 to 79671\n",
      "Data columns (total 41 columns):\n",
      "age_upon_outcome              79672 non-null object\n",
      "animal_id_outcome             79672 non-null object\n",
      "date_of_birth                 79672 non-null object\n",
      "outcome_subtype               36348 non-null object\n",
      "outcome_type                  79662 non-null object\n",
      "sex_upon_outcome              79671 non-null object\n",
      "age_upon_outcome_(days)       79672 non-null int64\n",
      "age_upon_outcome_(years)      79672 non-null float64\n",
      "age_upon_outcome_age_group    79672 non-null object\n",
      "outcome_datetime              79672 non-null object\n",
      "outcome_month                 79672 non-null int64\n",
      "outcome_year                  79672 non-null int64\n",
      "outcome_monthyear             79672 non-null object\n",
      "outcome_weekday               79672 non-null object\n",
      "outcome_hour                  79672 non-null int64\n",
      "outcome_number                79672 non-null float64\n",
      "dob_year                      79672 non-null int64\n",
      "dob_month                     79672 non-null int64\n",
      "dob_monthyear                 79672 non-null object\n",
      "age_upon_intake               79672 non-null object\n",
      "animal_id_intake              79672 non-null object\n",
      "animal_type                   79672 non-null object\n",
      "breed                         79672 non-null object\n",
      "color                         79672 non-null object\n",
      "found_location                79672 non-null object\n",
      "intake_condition              79672 non-null object\n",
      "intake_type                   79672 non-null object\n",
      "sex_upon_intake               79671 non-null object\n",
      "count                         79672 non-null int64\n",
      "age_upon_intake_(days)        79672 non-null int64\n",
      "age_upon_intake_(years)       79672 non-null float64\n",
      "age_upon_intake_age_group     79672 non-null object\n",
      "intake_datetime               79672 non-null object\n",
      "intake_month                  79672 non-null int64\n",
      "intake_year                   79672 non-null int64\n",
      "intake_monthyear              79672 non-null object\n",
      "intake_weekday                79672 non-null object\n",
      "intake_hour                   79672 non-null int64\n",
      "intake_number                 79672 non-null float64\n",
      "time_in_shelter               79672 non-null object\n",
      "time_in_shelter_days          79672 non-null float64\n",
      "dtypes: float64(5), int64(11), object(25)\n",
      "memory usage: 24.9+ MB\n"
     ]
    }
   ],
   "source": [
    "import pandas as pd\n",
    "import warnings\n",
    "import numpy as np\n",
    "warnings.filterwarnings('ignore')\n",
    "dfi = pd.read_csv('aac_intakes_outcomes.csv.zip')\n",
    "display(dfi.head())\n",
    "dfi.info()"
   ]
  },
  {
   "cell_type": "code",
   "execution_count": 4,
   "metadata": {},
   "outputs": [
    {
     "data": {
      "text/plain": [
       "1    79672\n",
       "Name: count, dtype: int64"
      ]
     },
     "execution_count": 4,
     "metadata": {},
     "output_type": "execute_result"
    }
   ],
   "source": [
    "dfi['count'].value_counts()"
   ]
  },
  {
   "cell_type": "code",
   "execution_count": 5,
   "metadata": {},
   "outputs": [],
   "source": [
    "dfii = pd.read_csv('aac_intakes.csv.zip')"
   ]
  },
  {
   "cell_type": "code",
   "execution_count": 6,
   "metadata": {},
   "outputs": [],
   "source": [
    "dfx = dfii[['animal_id', 'name', 'breed']]"
   ]
  },
  {
   "cell_type": "code",
   "execution_count": 7,
   "metadata": {},
   "outputs": [],
   "source": [
    "df = dfi.set_index('animal_id_intake').join(dfx.set_index('animal_id'), \n",
    "                                            rsuffix = '_in', how = 'left')\n",
    "#df[['name_in', 'animal_id_intake', 'animal_id_in']].tail()\n",
    "#df[['name', 'breed', 'breed_in']].tail(20)\n",
    "\n",
    "df['unique_id'] = df['animal_id_outcome'] + df['intake_number'].astype('str')"
   ]
  },
  {
   "cell_type": "code",
   "execution_count": 8,
   "metadata": {},
   "outputs": [],
   "source": [
    "df = df.drop_duplicates(subset = ['unique_id'])"
   ]
  },
  {
   "cell_type": "code",
   "execution_count": 9,
   "metadata": {},
   "outputs": [
    {
     "data": {
      "text/plain": [
       "Adoption           33583\n",
       "Transfer           23791\n",
       "Return to Owner    14784\n",
       "Name: outcome_type, dtype: int64"
      ]
     },
     "execution_count": 9,
     "metadata": {},
     "output_type": "execute_result"
    }
   ],
   "source": [
    "df = df[df['outcome_type'].isin(['Adoption', 'Transfer', 'Return to Owner'])]\n",
    "df['outcome_type'].value_counts()"
   ]
  },
  {
   "cell_type": "code",
   "execution_count": 10,
   "metadata": {},
   "outputs": [],
   "source": [
    "df.name.fillna(0, inplace = True)\n",
    "df['has_name'] = df['name'].map(lambda x: 1 if not x == 0 else 0)"
   ]
  },
  {
   "cell_type": "code",
   "execution_count": 11,
   "metadata": {},
   "outputs": [
    {
     "data": {
      "text/plain": [
       "Dog      43538\n",
       "Cat      27568\n",
       "Other      833\n",
       "Bird       219\n",
       "Name: animal_type, dtype: int64"
      ]
     },
     "execution_count": 11,
     "metadata": {},
     "output_type": "execute_result"
    }
   ],
   "source": [
    "df.animal_type.value_counts()"
   ]
  },
  {
   "cell_type": "code",
   "execution_count": 12,
   "metadata": {},
   "outputs": [
    {
     "data": {
      "text/plain": [
       "Dog    43538\n",
       "Cat    27568\n",
       "Name: animal_type, dtype: int64"
      ]
     },
     "execution_count": 12,
     "metadata": {},
     "output_type": "execute_result"
    }
   ],
   "source": [
    "df = df[df.animal_type != 'Bird']\n",
    "df = df[df.animal_type != 'Other']\n",
    "df.animal_type.value_counts()"
   ]
  },
  {
   "cell_type": "code",
   "execution_count": 13,
   "metadata": {},
   "outputs": [
    {
     "name": "stdout",
     "output_type": "stream",
     "text": [
      "<class 'pandas.core.frame.DataFrame'>\n",
      "Index: 71106 entries, A006100 to A769066\n",
      "Data columns (total 13 columns):\n",
      "sex_upon_intake            71105 non-null object\n",
      "age_upon_intake_(years)    71106 non-null float64\n",
      "time_in_shelter_days       71106 non-null float64\n",
      "animal_type                71106 non-null object\n",
      "breed                      71106 non-null object\n",
      "color                      71106 non-null object\n",
      "found_location             71106 non-null object\n",
      "intake_condition           71106 non-null object\n",
      "intake_type                71106 non-null object\n",
      "intake_number              71106 non-null float64\n",
      "has_name                   71106 non-null int64\n",
      "outcome_datetime           71106 non-null object\n",
      "outcome_type               71106 non-null object\n",
      "dtypes: float64(3), int64(1), object(9)\n",
      "memory usage: 7.6+ MB\n"
     ]
    }
   ],
   "source": [
    "df.sex_upon_outcome.dropna(inplace = True)\n",
    "df.sex_upon_intake.dropna(inplace = True)\n",
    "\n",
    "col_to_keep = ['sex_upon_intake', 'age_upon_intake_(years)', \n",
    "               'time_in_shelter_days','animal_type', 'breed',\n",
    "               'color', 'found_location', 'intake_condition', \n",
    "               'intake_type', 'intake_number', 'has_name',\n",
    "               'outcome_datetime', 'outcome_type']\n",
    "df_eda = df[col_to_keep]\n",
    "df_eda.info()"
   ]
  },
  {
   "cell_type": "code",
   "execution_count": 14,
   "metadata": {},
   "outputs": [
    {
     "data": {
      "text/plain": [
       "sex_upon_intake            0\n",
       "age_upon_intake_(years)    0\n",
       "time_in_shelter_days       0\n",
       "animal_type                0\n",
       "breed                      0\n",
       "color                      0\n",
       "found_location             0\n",
       "intake_condition           0\n",
       "intake_type                0\n",
       "intake_number              0\n",
       "has_name                   0\n",
       "outcome_datetime           0\n",
       "outcome_type               0\n",
       "dtype: int64"
      ]
     },
     "execution_count": 14,
     "metadata": {},
     "output_type": "execute_result"
    }
   ],
   "source": [
    "df_eda['sex_upon_intake'].fillna('Unknown', inplace = True)\n",
    "\n",
    "df_eda.isna().sum()"
   ]
  },
  {
   "cell_type": "code",
   "execution_count": 15,
   "metadata": {},
   "outputs": [],
   "source": [
    "dfi = df_eda"
   ]
  },
  {
   "cell_type": "markdown",
   "metadata": {},
   "source": [
    "# Dummy Variables:"
   ]
  },
  {
   "cell_type": "code",
   "execution_count": 16,
   "metadata": {},
   "outputs": [],
   "source": [
    "# sex_upon_intake\n",
    "# Dummy variable, no change\n",
    "# Maybe split into male/female and intact or no"
   ]
  },
  {
   "cell_type": "code",
   "execution_count": 17,
   "metadata": {},
   "outputs": [
    {
     "data": {
      "text/plain": [
       "Intact Male      23618\n",
       "Intact Female    22387\n",
       "Neutered Male    11975\n",
       "Spayed Female    10648\n",
       "Unknown           2478\n",
       "Name: sex_upon_intake, dtype: int64"
      ]
     },
     "execution_count": 17,
     "metadata": {},
     "output_type": "execute_result"
    }
   ],
   "source": [
    "dfi.sex_upon_intake.value_counts()"
   ]
  },
  {
   "cell_type": "code",
   "execution_count": 18,
   "metadata": {},
   "outputs": [],
   "source": [
    "dfi['sex'] = np.where(dfi['sex_upon_intake'].str.contains('Male'), 1, 0)\n",
    "dfi['intact'] = np.where(dfi['sex_upon_intake'].str.contains('Intact'), 1, 0)\n",
    "dfi['unk_sex'] = np.where(dfi['sex_upon_intake'].str.contains('Unknown'), 1, 0)\n",
    "# dfi.drop(columns = 'sex_upon_intake', axis = 1, inplace = True)"
   ]
  },
  {
   "cell_type": "code",
   "execution_count": 19,
   "metadata": {},
   "outputs": [],
   "source": [
    "# age_upon_intake_(years)\n",
    "# scale"
   ]
  },
  {
   "cell_type": "code",
   "execution_count": null,
   "metadata": {},
   "outputs": [],
   "source": []
  },
  {
   "cell_type": "code",
   "execution_count": 20,
   "metadata": {},
   "outputs": [],
   "source": [
    "# time_in_shelter_days \n",
    "# Scale"
   ]
  },
  {
   "cell_type": "code",
   "execution_count": null,
   "metadata": {},
   "outputs": [],
   "source": []
  },
  {
   "cell_type": "code",
   "execution_count": 21,
   "metadata": {},
   "outputs": [],
   "source": [
    "# animal_type \n",
    "# Dummy for dog or cat\n",
    "dfi['dog'] = dfi['animal_type'].map(lambda x: 1 if x == 'Dog' else 0)\n",
    "dfi['cat'] = dfi['animal_type'].map(lambda x: 1 if x == 'Cat' else 0)"
   ]
  },
  {
   "cell_type": "code",
   "execution_count": 22,
   "metadata": {},
   "outputs": [],
   "source": [
    "# breed\n",
    "# Dummy for threshold of .05\n",
    "def dum_sign(dummy_col, threshold=0.1):\n",
    "    # removes the bind\n",
    "    dummy_col = dummy_col.copy()\n",
    "    # Ratio of dummy to rest of column\n",
    "    count = pd.value_counts(dummy_col) / len(dummy_col)\n",
    "    # Condition\n",
    "    mask = dummy_col.isin(count[count > threshold].index)\n",
    "    # Replaces \n",
    "    dummy_col[~mask] = \"others\"\n",
    "\n",
    "    return pd.get_dummies(dummy_col, prefix=dummy_col.name)\n",
    "\n",
    "df_breed = dum_sign(dfi['breed'], threshold = .01)\n",
    "dfi = pd.concat([dfi, df_breed], axis = 1)"
   ]
  },
  {
   "cell_type": "code",
   "execution_count": null,
   "metadata": {},
   "outputs": [],
   "source": []
  },
  {
   "cell_type": "code",
   "execution_count": 23,
   "metadata": {},
   "outputs": [],
   "source": [
    "# color\n",
    "# Dummy for top 10-20\n",
    "df_col = dum_sign(dfi['color'], threshold = .025)\n",
    "dfi = pd.concat([dfi, df_col], axis = 1)"
   ]
  },
  {
   "cell_type": "code",
   "execution_count": null,
   "metadata": {},
   "outputs": [],
   "source": []
  },
  {
   "cell_type": "code",
   "execution_count": 24,
   "metadata": {},
   "outputs": [],
   "source": [
    "# found_location\n",
    "# Dummy for top ten, or possibly just Austin or outside Austin\n",
    "df_loc = dum_sign(dfi['found_location'], threshold = .01)\n",
    "dfi = pd.concat([dfi, df_loc], axis = 1)"
   ]
  },
  {
   "cell_type": "code",
   "execution_count": null,
   "metadata": {},
   "outputs": [],
   "source": []
  },
  {
   "cell_type": "code",
   "execution_count": 25,
   "metadata": {},
   "outputs": [],
   "source": [
    "# intake_condition\n",
    "# Regular dummy variables\n",
    "cond_dummy = pd.get_dummies(dfi['intake_condition'])\n",
    "dfi = pd.concat([dfi, cond_dummy], axis = 1)"
   ]
  },
  {
   "cell_type": "code",
   "execution_count": 26,
   "metadata": {},
   "outputs": [],
   "source": [
    "# intake_type         \n",
    "# Regular dummy variables\n",
    "int_type_dummy = pd.get_dummies(dfi['intake_type'])\n",
    "dfi = pd.concat([dfi, int_type_dummy], axis = 1)"
   ]
  },
  {
   "cell_type": "code",
   "execution_count": 27,
   "metadata": {},
   "outputs": [],
   "source": [
    "# intake_number\n",
    "# Dummy for 1, 2, 3, and 4+\n",
    "dfi['count_1'] = dfi['intake_number'].map(lambda x: 1 if x == 1 else 0)\n",
    "dfi['count_2'] = dfi['intake_number'].map(lambda x: 1 if x == 2 else 0)\n",
    "dfi['count_3'] = dfi['intake_number'].map(lambda x: 1 if x == 3 else 0)\n",
    "dfi['count_4_plus'] = dfi['intake_number'].map(lambda x: 1 if x > 3 else 0)"
   ]
  },
  {
   "cell_type": "code",
   "execution_count": 28,
   "metadata": {},
   "outputs": [],
   "source": [
    "# has_name               \n",
    "# Good to go"
   ]
  },
  {
   "cell_type": "code",
   "execution_count": 29,
   "metadata": {},
   "outputs": [],
   "source": [
    "# outcome_datetime      \n",
    "# TBD"
   ]
  },
  {
   "cell_type": "code",
   "execution_count": 30,
   "metadata": {},
   "outputs": [],
   "source": [
    "# outcome_type  \n",
    "# Need to convert to numericals in the same column. . . \n",
    "# Adoption = 1\n",
    "# Transfer = 2\n",
    "# Return to owner = 3\n",
    "dfi.outcome_type.unique()\n",
    "#dfi['outcome'] = dfi['outcome_type'].map(lambda x: 1 if x == 'Return to Owner' elif x == '')\n",
    "#dfi['outcome'] = dfi['outcome_type'].map(lambda x: 2 if x == 'Transfer')\n",
    "#dfi['outcome'] = dfi['outcome_type'].map(lambda x: 3 if x == 'Adoption')\n",
    "dfi['outcome'] = dfi['outcome_type'].map(lambda x: 1 if x == 'Return to Owner' \n",
    "                                         else (2 if x == 'Transfer' \n",
    "                                               else 3))"
   ]
  },
  {
   "cell_type": "markdown",
   "metadata": {},
   "source": [
    "# Testing Various ML Algos:"
   ]
  },
  {
   "cell_type": "markdown",
   "metadata": {},
   "source": [
    "## X, y:"
   ]
  },
  {
   "cell_type": "code",
   "execution_count": 31,
   "metadata": {},
   "outputs": [],
   "source": [
    "# DROPPING COLUMNS TO SCALE\n",
    "'''\n",
    "X = dfi.drop(['outcome', 'outcome_type', 'sex_upon_intake', 'age_upon_intake_(years)',\n",
    "              'time_in_shelter_days', 'animal_type', 'breed', \n",
    "              'color', 'found_location', 'intake_condition', 'intake_type', \n",
    "              'intake_number', 'outcome_datetime'], axis = 1)\n",
    "y = dfi['outcome']\n",
    "'''"
   ]
  },
  {
   "cell_type": "code",
   "execution_count": 47,
   "metadata": {},
   "outputs": [],
   "source": [
    "# NOT DROPPING COLUMNS TO SCALE \n",
    "# 'age_upon_intake_(years)'\n",
    "# 'time_in_shelter_days',\n",
    "# '''\n",
    "X = dfi.drop(['outcome', 'outcome_type', 'sex_upon_intake',\n",
    "               'animal_type', 'breed', 'color', \n",
    "              'found_location', 'intake_condition', 'intake_type', \n",
    "              'intake_number', 'outcome_datetime'], axis = 1)\n",
    "y = dfi['outcome']\n",
    "# '''"
   ]
  },
  {
   "cell_type": "code",
   "execution_count": 48,
   "metadata": {},
   "outputs": [
    {
     "name": "stdout",
     "output_type": "stream",
     "text": [
      "<class 'pandas.core.frame.DataFrame'>\n",
      "Index: 71106 entries, A006100 to A769066\n",
      "Data columns (total 53 columns):\n",
      "age_upon_intake_(years)                71106 non-null float64\n",
      "time_in_shelter_days                   71106 non-null float64\n",
      "has_name                               71106 non-null int64\n",
      "sex                                    71106 non-null int64\n",
      "intact                                 71106 non-null int64\n",
      "unk_sex                                71106 non-null int64\n",
      "dog                                    71106 non-null int64\n",
      "cat                                    71106 non-null int64\n",
      "breed_Australian Cattle Dog Mix        71106 non-null uint8\n",
      "breed_Chihuahua Shorthair Mix          71106 non-null uint8\n",
      "breed_Dachshund Mix                    71106 non-null uint8\n",
      "breed_Domestic Longhair Mix            71106 non-null uint8\n",
      "breed_Domestic Medium Hair Mix         71106 non-null uint8\n",
      "breed_Domestic Shorthair Mix           71106 non-null uint8\n",
      "breed_German Shepherd Mix              71106 non-null uint8\n",
      "breed_Labrador Retriever Mix           71106 non-null uint8\n",
      "breed_Pit Bull Mix                     71106 non-null uint8\n",
      "breed_Siamese Mix                      71106 non-null uint8\n",
      "breed_others                           71106 non-null uint8\n",
      "color_Black                            71106 non-null uint8\n",
      "color_Black/Tan                        71106 non-null uint8\n",
      "color_Black/White                      71106 non-null uint8\n",
      "color_Blue/White                       71106 non-null uint8\n",
      "color_Brown Tabby                      71106 non-null uint8\n",
      "color_Brown Tabby/White                71106 non-null uint8\n",
      "color_Brown/White                      71106 non-null uint8\n",
      "color_Orange Tabby                     71106 non-null uint8\n",
      "color_Tan                              71106 non-null uint8\n",
      "color_Tan/White                        71106 non-null uint8\n",
      "color_Tricolor                         71106 non-null uint8\n",
      "color_White                            71106 non-null uint8\n",
      "color_White/Black                      71106 non-null uint8\n",
      "color_others                           71106 non-null uint8\n",
      "found_location_Austin (TX)             71106 non-null uint8\n",
      "found_location_Outside Jurisdiction    71106 non-null uint8\n",
      "found_location_Travis (TX)             71106 non-null uint8\n",
      "found_location_others                  71106 non-null uint8\n",
      "Aged                                   71106 non-null uint8\n",
      "Feral                                  71106 non-null uint8\n",
      "Injured                                71106 non-null uint8\n",
      "Normal                                 71106 non-null uint8\n",
      "Nursing                                71106 non-null uint8\n",
      "Other                                  71106 non-null uint8\n",
      "Pregnant                               71106 non-null uint8\n",
      "Sick                                   71106 non-null uint8\n",
      "Euthanasia Request                     71106 non-null uint8\n",
      "Owner Surrender                        71106 non-null uint8\n",
      "Public Assist                          71106 non-null uint8\n",
      "Stray                                  71106 non-null uint8\n",
      "count_1                                71106 non-null int64\n",
      "count_2                                71106 non-null int64\n",
      "count_3                                71106 non-null int64\n",
      "count_4_plus                           71106 non-null int64\n",
      "dtypes: float64(2), int64(10), uint8(41)\n",
      "memory usage: 12.3+ MB\n"
     ]
    }
   ],
   "source": [
    "X.info()"
   ]
  },
  {
   "cell_type": "markdown",
   "metadata": {},
   "source": [
    "## Train Test Split:"
   ]
  },
  {
   "cell_type": "code",
   "execution_count": 49,
   "metadata": {},
   "outputs": [],
   "source": [
    "X_train, X_test, y_train, y_test = train_test_split(X, y, test_size=0.20, \n",
    "                                                    random_state=123)"
   ]
  },
  {
   "cell_type": "markdown",
   "metadata": {},
   "source": [
    "## Bagged Trees:"
   ]
  },
  {
   "cell_type": "code",
   "execution_count": 34,
   "metadata": {},
   "outputs": [
    {
     "data": {
      "text/plain": [
       "\"\\nbagged_tree =  BaggingClassifier(DecisionTreeClassifier(criterion='gini', \\n                                                        max_depth=10), \\n                                                        n_estimators=200)\\nbagged_tree.fit(X_train, y_train)\\n\""
      ]
     },
     "execution_count": 34,
     "metadata": {},
     "output_type": "execute_result"
    }
   ],
   "source": [
    "'''\n",
    "bagged_tree =  BaggingClassifier(DecisionTreeClassifier(criterion='gini', \n",
    "                                                        max_depth=10), \n",
    "                                                        n_estimators=200)\n",
    "bagged_tree.fit(X_train, y_train)\n",
    "'''"
   ]
  },
  {
   "cell_type": "markdown",
   "metadata": {},
   "source": [
    "### BT Accuracy:"
   ]
  },
  {
   "cell_type": "code",
   "execution_count": 35,
   "metadata": {},
   "outputs": [],
   "source": [
    "# bagged_tree.score(X_test, y_test)"
   ]
  },
  {
   "cell_type": "code",
   "execution_count": null,
   "metadata": {},
   "outputs": [],
   "source": []
  },
  {
   "cell_type": "markdown",
   "metadata": {},
   "source": [
    "## KNN:"
   ]
  },
  {
   "cell_type": "code",
   "execution_count": 36,
   "metadata": {},
   "outputs": [],
   "source": [
    "# clf = KNeighborsClassifier(n_neighbors=10)\n",
    "\n",
    "# Fit the classifier\n",
    "# clf.fit(X_train, y_train)"
   ]
  },
  {
   "cell_type": "markdown",
   "metadata": {},
   "source": [
    "### KNN Accuracy:"
   ]
  },
  {
   "cell_type": "code",
   "execution_count": 37,
   "metadata": {},
   "outputs": [],
   "source": [
    "#y_pred = clf.predict(X_test)"
   ]
  },
  {
   "cell_type": "code",
   "execution_count": 38,
   "metadata": {},
   "outputs": [],
   "source": [
    "#clf.score(X_test, y_test)"
   ]
  },
  {
   "cell_type": "markdown",
   "metadata": {},
   "source": [
    "## Random Forest:"
   ]
  },
  {
   "cell_type": "markdown",
   "metadata": {},
   "source": [
    "### Random Forest Pipeline Test:"
   ]
  },
  {
   "cell_type": "markdown",
   "metadata": {},
   "source": [
    "Testing this with intake age and time in shelter.  If it crashes and burns, add those columns back to the drop list for X."
   ]
  },
  {
   "cell_type": "code",
   "execution_count": 74,
   "metadata": {},
   "outputs": [
    {
     "data": {
      "text/plain": [
       "0.7920123751933624"
      ]
     },
     "execution_count": 74,
     "metadata": {},
     "output_type": "execute_result"
    }
   ],
   "source": [
    "scaled_pipeline_1 = Pipeline([('ss', StandardScaler()), \n",
    "                              ('forest', RandomForestClassifier(\n",
    "                                  n_estimators=150, \n",
    "                                  max_depth= 20, \n",
    "                                  class_weight='balanced', \n",
    "                                  random_state = 123))])\n",
    "\n",
    "scaled_pipeline_1.fit(X_train, y_train)\n",
    "scaled_pipeline_1.score(X_test, y_test)"
   ]
  },
  {
   "cell_type": "code",
   "execution_count": 75,
   "metadata": {},
   "outputs": [
    {
     "name": "stdout",
     "output_type": "stream",
     "text": [
      "[[2433  152  353]\n",
      " [ 121 2857 1630]\n",
      " [ 153  549 5974]]\n"
     ]
    }
   ],
   "source": [
    "pred2 = scaled_pipeline_1.predict(X_test)\n",
    "print(confusion_matrix(y_test, pred2))"
   ]
  },
  {
   "cell_type": "markdown",
   "metadata": {},
   "source": [
    "## SMOTE TEST:"
   ]
  },
  {
   "cell_type": "code",
   "execution_count": 76,
   "metadata": {},
   "outputs": [],
   "source": [
    "from imblearn.over_sampling import SMOTE, ADASYN"
   ]
  },
  {
   "cell_type": "code",
   "execution_count": 77,
   "metadata": {},
   "outputs": [
    {
     "name": "stdout",
     "output_type": "stream",
     "text": [
      "\n",
      "\n",
      "3    26569\n",
      "2    26569\n",
      "1    26569\n",
      "dtype: int64\n"
     ]
    }
   ],
   "source": [
    "X_train_resampled, y_train_resampled = SMOTE().fit_sample(X_train, y_train) \n",
    "\n",
    "# Preview synthetic sample class distribution\n",
    "print('\\n')\n",
    "print(pd.Series(y_train_resampled).value_counts()) "
   ]
  },
  {
   "cell_type": "code",
   "execution_count": 83,
   "metadata": {},
   "outputs": [
    {
     "data": {
      "text/plain": [
       "0.793278019969062"
      ]
     },
     "execution_count": 83,
     "metadata": {},
     "output_type": "execute_result"
    }
   ],
   "source": [
    "smote_rf = Pipeline([('ss', StandardScaler()), \n",
    "                     ('forest', RandomForestClassifier(n_estimators=200, \n",
    "                                                       max_depth= 18, \n",
    "                                                       random_state = 123))])\n",
    "\n",
    "smote_rf.fit(X_train_resampled, y_train_resampled)\n",
    "smote_rf.score(X_test, y_test)"
   ]
  },
  {
   "cell_type": "code",
   "execution_count": 84,
   "metadata": {},
   "outputs": [
    {
     "name": "stdout",
     "output_type": "stream",
     "text": [
      "[[2427  148  363]\n",
      " [ 118 2757 1733]\n",
      " [ 143  435 6098]]\n"
     ]
    }
   ],
   "source": [
    "pred3 = smote_rf.predict(X_test)\n",
    "print(confusion_matrix(y_test, pred3))"
   ]
  },
  {
   "cell_type": "markdown",
   "metadata": {},
   "source": [
    "### RF Accuracy:"
   ]
  },
  {
   "cell_type": "code",
   "execution_count": 61,
   "metadata": {},
   "outputs": [
    {
     "data": {
      "text/plain": [
       "0.8394979256029815"
      ]
     },
     "execution_count": 61,
     "metadata": {},
     "output_type": "execute_result"
    }
   ],
   "source": [
    "forest.score(X_train, y_train)"
   ]
  },
  {
   "cell_type": "code",
   "execution_count": 62,
   "metadata": {},
   "outputs": [
    {
     "data": {
      "text/plain": [
       "0.7925045703839122"
      ]
     },
     "execution_count": 62,
     "metadata": {},
     "output_type": "execute_result"
    }
   ],
   "source": [
    "forest.score(X_test, y_test)"
   ]
  },
  {
   "cell_type": "code",
   "execution_count": 63,
   "metadata": {},
   "outputs": [
    {
     "name": "stdout",
     "output_type": "stream",
     "text": [
      "[[2444  151  343]\n",
      " [ 137 2768 1703]\n",
      " [ 174  443 6059]]\n"
     ]
    }
   ],
   "source": [
    "\n",
    "pred = forest.predict(X_test)\n",
    "print(confusion_matrix(y_test, pred))\n",
    "\n",
    "# Notes: getting most of the return to owner correct,\n",
    "# Gets caught between actual transfers vs thinking they get adopted\n",
    "# Gets most of the adopted with some spill over\n",
    "# Maybe a balancing issue?\n",
    "# 3 = adoption\n",
    "# 2 = transfer\n",
    "# 1 = return to owner"
   ]
  },
  {
   "cell_type": "code",
   "execution_count": null,
   "metadata": {},
   "outputs": [],
   "source": []
  },
  {
   "cell_type": "markdown",
   "metadata": {},
   "source": [
    "## XGBoost:"
   ]
  },
  {
   "cell_type": "code",
   "execution_count": 44,
   "metadata": {},
   "outputs": [],
   "source": [
    "import xgboost as xgb\n",
    "from sklearn.metrics import accuracy_score"
   ]
  },
  {
   "cell_type": "code",
   "execution_count": 45,
   "metadata": {},
   "outputs": [
    {
     "data": {
      "text/plain": [
       "'\\nxg = xgb.XGBClassifier(learning_rate = .05, max_depth = 10, n_estimators = 200)\\nxg.fit(X_train, y_train)\\ntraining_preds = xg.predict(X_train)\\nval_preds = xg.predict(X_test)\\ntraining_accuracy = accuracy_score(y_train, training_preds)\\nval_accuracy = accuracy_score(y_test, val_preds)\\n\\nprint(\"Training Accuracy: {:.4}%\".format(training_accuracy * 100))\\nprint(\"Validation accuracy: {:.4}%\".format(val_accuracy * 100))\\n'"
      ]
     },
     "execution_count": 45,
     "metadata": {},
     "output_type": "execute_result"
    }
   ],
   "source": [
    "'''\n",
    "xg = xgb.XGBClassifier(learning_rate = .05, max_depth = 10, n_estimators = 200)\n",
    "xg.fit(X_train, y_train)\n",
    "training_preds = xg.predict(X_train)\n",
    "val_preds = xg.predict(X_test)\n",
    "training_accuracy = accuracy_score(y_train, training_preds)\n",
    "val_accuracy = accuracy_score(y_test, val_preds)\n",
    "\n",
    "print(\"Training Accuracy: {:.4}%\".format(training_accuracy * 100))\n",
    "print(\"Validation accuracy: {:.4}%\".format(val_accuracy * 100))\n",
    "'''"
   ]
  },
  {
   "cell_type": "code",
   "execution_count": 46,
   "metadata": {},
   "outputs": [
    {
     "data": {
      "text/plain": [
       "'\\npred = xg.predict(X_test)\\nprint(confusion_matrix(y_test, pred))\\n'"
      ]
     },
     "execution_count": 46,
     "metadata": {},
     "output_type": "execute_result"
    }
   ],
   "source": [
    "'''\n",
    "pred = xg.predict(X_test)\n",
    "print(confusion_matrix(y_test, pred))\n",
    "'''"
   ]
  },
  {
   "cell_type": "code",
   "execution_count": null,
   "metadata": {},
   "outputs": [],
   "source": []
  },
  {
   "cell_type": "code",
   "execution_count": null,
   "metadata": {},
   "outputs": [],
   "source": []
  }
 ],
 "metadata": {
  "kernelspec": {
   "display_name": "Python 3",
   "language": "python",
   "name": "python3"
  },
  "language_info": {
   "codemirror_mode": {
    "name": "ipython",
    "version": 3
   },
   "file_extension": ".py",
   "mimetype": "text/x-python",
   "name": "python",
   "nbconvert_exporter": "python",
   "pygments_lexer": "ipython3",
   "version": "3.6.9"
  },
  "toc": {
   "base_numbering": 1,
   "nav_menu": {},
   "number_sections": true,
   "sideBar": true,
   "skip_h1_title": false,
   "title_cell": "Table of Contents",
   "title_sidebar": "Contents",
   "toc_cell": false,
   "toc_position": {},
   "toc_section_display": true,
   "toc_window_display": true
  }
 },
 "nbformat": 4,
 "nbformat_minor": 2
}
