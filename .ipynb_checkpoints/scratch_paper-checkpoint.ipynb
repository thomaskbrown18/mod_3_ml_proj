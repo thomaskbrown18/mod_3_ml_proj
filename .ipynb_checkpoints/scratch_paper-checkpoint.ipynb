{
 "cells": [
  {
   "cell_type": "markdown",
   "metadata": {},
   "source": [
    "# Scratch Paper:"
   ]
  },
  {
   "cell_type": "code",
   "execution_count": 1,
   "metadata": {},
   "outputs": [
    {
     "name": "stderr",
     "output_type": "stream",
     "text": [
      "/Users/Thomas/opt/anaconda3/envs/learn-env/lib/python3.6/site-packages/sklearn/externals/six.py:31: DeprecationWarning: The module is deprecated in version 0.21 and will be removed in version 0.23 since we've dropped support for Python 2.7. Please rely on the official version of six (https://pypi.org/project/six/).\n",
      "  \"(https://pypi.org/project/six/).\", DeprecationWarning)\n"
     ]
    }
   ],
   "source": [
    "import pandas as pd\n",
    "import numpy as np\n",
    "\n",
    "# Scikit-Learn:\n",
    "from sklearn.preprocessing import StandardScaler\n",
    "from sklearn.neighbors import KNeighborsClassifier\n",
    "from sklearn.model_selection import train_test_split, GridSearchCV\n",
    "from sklearn.ensemble import RandomForestClassifier\n",
    "from sklearn.tree import DecisionTreeClassifier\n",
    "from sklearn.ensemble import AdaBoostClassifier, GradientBoostingClassifier\n",
    "from sklearn.pipeline import Pipeline\n",
    "from sklearn.metrics import precision_score, recall_score, confusion_matrix, classification_report, accuracy_score, f1_score\n",
    "from sklearn import svm\n",
    "\n",
    "# Sampling:\n",
    "from imblearn.over_sampling import SMOTE, ADASYN\n",
    "\n",
    "# XGBoost:\n",
    "import xgboost as xgb\n",
    "\n",
    "# Plots and Graphs:\n",
    "import seaborn as sns\n",
    "import matplotlib.pyplot as plt\n",
    "import plotly.express as px\n",
    "import scikitplot as skplt \n",
    "%matplotlib inline\n",
    "\n",
    "# Other:\n",
    "import warnings\n",
    "warnings.filterwarnings('ignore')\n",
    "# So we can see all columns:\n",
    "pd.set_option('display.max_columns', None)"
   ]
  },
  {
   "cell_type": "code",
   "execution_count": 2,
   "metadata": {},
   "outputs": [
    {
     "data": {
      "text/html": [
       "<div>\n",
       "<style scoped>\n",
       "    .dataframe tbody tr th:only-of-type {\n",
       "        vertical-align: middle;\n",
       "    }\n",
       "\n",
       "    .dataframe tbody tr th {\n",
       "        vertical-align: top;\n",
       "    }\n",
       "\n",
       "    .dataframe thead th {\n",
       "        text-align: right;\n",
       "    }\n",
       "</style>\n",
       "<table border=\"1\" class=\"dataframe\">\n",
       "  <thead>\n",
       "    <tr style=\"text-align: right;\">\n",
       "      <th></th>\n",
       "      <th>age_upon_outcome</th>\n",
       "      <th>animal_id_outcome</th>\n",
       "      <th>date_of_birth</th>\n",
       "      <th>outcome_subtype</th>\n",
       "      <th>outcome_type</th>\n",
       "      <th>sex_upon_outcome</th>\n",
       "      <th>age_upon_outcome_(days)</th>\n",
       "      <th>age_upon_outcome_(years)</th>\n",
       "      <th>age_upon_outcome_age_group</th>\n",
       "      <th>outcome_datetime</th>\n",
       "      <th>outcome_month</th>\n",
       "      <th>outcome_year</th>\n",
       "      <th>outcome_monthyear</th>\n",
       "      <th>outcome_weekday</th>\n",
       "      <th>outcome_hour</th>\n",
       "      <th>outcome_number</th>\n",
       "      <th>dob_year</th>\n",
       "      <th>dob_month</th>\n",
       "      <th>dob_monthyear</th>\n",
       "      <th>age_upon_intake</th>\n",
       "      <th>animal_id_intake</th>\n",
       "      <th>animal_type</th>\n",
       "      <th>breed</th>\n",
       "      <th>color</th>\n",
       "      <th>found_location</th>\n",
       "      <th>intake_condition</th>\n",
       "      <th>intake_type</th>\n",
       "      <th>sex_upon_intake</th>\n",
       "      <th>count</th>\n",
       "      <th>age_upon_intake_(days)</th>\n",
       "      <th>age_upon_intake_(years)</th>\n",
       "      <th>age_upon_intake_age_group</th>\n",
       "      <th>intake_datetime</th>\n",
       "      <th>intake_month</th>\n",
       "      <th>intake_year</th>\n",
       "      <th>intake_monthyear</th>\n",
       "      <th>intake_weekday</th>\n",
       "      <th>intake_hour</th>\n",
       "      <th>intake_number</th>\n",
       "      <th>time_in_shelter</th>\n",
       "      <th>time_in_shelter_days</th>\n",
       "    </tr>\n",
       "  </thead>\n",
       "  <tbody>\n",
       "    <tr>\n",
       "      <td>0</td>\n",
       "      <td>10 years</td>\n",
       "      <td>A006100</td>\n",
       "      <td>2007-07-09 00:00:00</td>\n",
       "      <td>NaN</td>\n",
       "      <td>Return to Owner</td>\n",
       "      <td>Neutered Male</td>\n",
       "      <td>3650</td>\n",
       "      <td>10.0</td>\n",
       "      <td>(7.5, 10.0]</td>\n",
       "      <td>2017-12-07 14:07:00</td>\n",
       "      <td>12</td>\n",
       "      <td>2017</td>\n",
       "      <td>2017-12</td>\n",
       "      <td>Thursday</td>\n",
       "      <td>0</td>\n",
       "      <td>1.0</td>\n",
       "      <td>2007</td>\n",
       "      <td>7</td>\n",
       "      <td>2017-12</td>\n",
       "      <td>10 years</td>\n",
       "      <td>A006100</td>\n",
       "      <td>Dog</td>\n",
       "      <td>Spinone Italiano Mix</td>\n",
       "      <td>Yellow/White</td>\n",
       "      <td>Colony Creek And Hunters Trace in Austin (TX)</td>\n",
       "      <td>Normal</td>\n",
       "      <td>Stray</td>\n",
       "      <td>Neutered Male</td>\n",
       "      <td>1</td>\n",
       "      <td>3650</td>\n",
       "      <td>10.0</td>\n",
       "      <td>(7.5, 10.0]</td>\n",
       "      <td>2017-12-07 00:00:00</td>\n",
       "      <td>12</td>\n",
       "      <td>2017</td>\n",
       "      <td>2017-12</td>\n",
       "      <td>Thursday</td>\n",
       "      <td>14</td>\n",
       "      <td>1.0</td>\n",
       "      <td>0 days 14:07:00.000000000</td>\n",
       "      <td>0.588194</td>\n",
       "    </tr>\n",
       "    <tr>\n",
       "      <td>1</td>\n",
       "      <td>7 years</td>\n",
       "      <td>A006100</td>\n",
       "      <td>2007-07-09 00:00:00</td>\n",
       "      <td>NaN</td>\n",
       "      <td>Return to Owner</td>\n",
       "      <td>Neutered Male</td>\n",
       "      <td>2555</td>\n",
       "      <td>7.0</td>\n",
       "      <td>(5.0, 7.5]</td>\n",
       "      <td>2014-12-20 16:35:00</td>\n",
       "      <td>12</td>\n",
       "      <td>2014</td>\n",
       "      <td>2014-12</td>\n",
       "      <td>Saturday</td>\n",
       "      <td>16</td>\n",
       "      <td>2.0</td>\n",
       "      <td>2007</td>\n",
       "      <td>7</td>\n",
       "      <td>2014-12</td>\n",
       "      <td>7 years</td>\n",
       "      <td>A006100</td>\n",
       "      <td>Dog</td>\n",
       "      <td>Spinone Italiano Mix</td>\n",
       "      <td>Yellow/White</td>\n",
       "      <td>8700 Research Blvd in Austin (TX)</td>\n",
       "      <td>Normal</td>\n",
       "      <td>Public Assist</td>\n",
       "      <td>Neutered Male</td>\n",
       "      <td>1</td>\n",
       "      <td>2555</td>\n",
       "      <td>7.0</td>\n",
       "      <td>(5.0, 7.5]</td>\n",
       "      <td>2014-12-19 10:21:00</td>\n",
       "      <td>12</td>\n",
       "      <td>2014</td>\n",
       "      <td>2014-12</td>\n",
       "      <td>Friday</td>\n",
       "      <td>10</td>\n",
       "      <td>2.0</td>\n",
       "      <td>1 days 06:14:00.000000000</td>\n",
       "      <td>1.259722</td>\n",
       "    </tr>\n",
       "    <tr>\n",
       "      <td>2</td>\n",
       "      <td>6 years</td>\n",
       "      <td>A006100</td>\n",
       "      <td>2007-07-09 00:00:00</td>\n",
       "      <td>NaN</td>\n",
       "      <td>Return to Owner</td>\n",
       "      <td>Neutered Male</td>\n",
       "      <td>2190</td>\n",
       "      <td>6.0</td>\n",
       "      <td>(5.0, 7.5]</td>\n",
       "      <td>2014-03-08 17:10:00</td>\n",
       "      <td>3</td>\n",
       "      <td>2014</td>\n",
       "      <td>2014-03</td>\n",
       "      <td>Saturday</td>\n",
       "      <td>17</td>\n",
       "      <td>3.0</td>\n",
       "      <td>2007</td>\n",
       "      <td>7</td>\n",
       "      <td>2014-03</td>\n",
       "      <td>6 years</td>\n",
       "      <td>A006100</td>\n",
       "      <td>Dog</td>\n",
       "      <td>Spinone Italiano Mix</td>\n",
       "      <td>Yellow/White</td>\n",
       "      <td>8700 Research in Austin (TX)</td>\n",
       "      <td>Normal</td>\n",
       "      <td>Public Assist</td>\n",
       "      <td>Neutered Male</td>\n",
       "      <td>1</td>\n",
       "      <td>2190</td>\n",
       "      <td>6.0</td>\n",
       "      <td>(5.0, 7.5]</td>\n",
       "      <td>2014-03-07 14:26:00</td>\n",
       "      <td>3</td>\n",
       "      <td>2014</td>\n",
       "      <td>2014-03</td>\n",
       "      <td>Friday</td>\n",
       "      <td>14</td>\n",
       "      <td>3.0</td>\n",
       "      <td>1 days 02:44:00.000000000</td>\n",
       "      <td>1.113889</td>\n",
       "    </tr>\n",
       "    <tr>\n",
       "      <td>3</td>\n",
       "      <td>10 years</td>\n",
       "      <td>A047759</td>\n",
       "      <td>2004-04-02 00:00:00</td>\n",
       "      <td>Partner</td>\n",
       "      <td>Transfer</td>\n",
       "      <td>Neutered Male</td>\n",
       "      <td>3650</td>\n",
       "      <td>10.0</td>\n",
       "      <td>(7.5, 10.0]</td>\n",
       "      <td>2014-04-07 15:12:00</td>\n",
       "      <td>4</td>\n",
       "      <td>2014</td>\n",
       "      <td>2014-04</td>\n",
       "      <td>Monday</td>\n",
       "      <td>15</td>\n",
       "      <td>1.0</td>\n",
       "      <td>2004</td>\n",
       "      <td>4</td>\n",
       "      <td>2014-04</td>\n",
       "      <td>10 years</td>\n",
       "      <td>A047759</td>\n",
       "      <td>Dog</td>\n",
       "      <td>Dachshund</td>\n",
       "      <td>Tricolor</td>\n",
       "      <td>Austin (TX)</td>\n",
       "      <td>Normal</td>\n",
       "      <td>Owner Surrender</td>\n",
       "      <td>Neutered Male</td>\n",
       "      <td>1</td>\n",
       "      <td>3650</td>\n",
       "      <td>10.0</td>\n",
       "      <td>(7.5, 10.0]</td>\n",
       "      <td>2014-04-02 15:55:00</td>\n",
       "      <td>4</td>\n",
       "      <td>2014</td>\n",
       "      <td>2014-04</td>\n",
       "      <td>Wednesday</td>\n",
       "      <td>15</td>\n",
       "      <td>1.0</td>\n",
       "      <td>4 days 23:17:00.000000000</td>\n",
       "      <td>4.970139</td>\n",
       "    </tr>\n",
       "    <tr>\n",
       "      <td>4</td>\n",
       "      <td>16 years</td>\n",
       "      <td>A134067</td>\n",
       "      <td>1997-10-16 00:00:00</td>\n",
       "      <td>NaN</td>\n",
       "      <td>Return to Owner</td>\n",
       "      <td>Neutered Male</td>\n",
       "      <td>5840</td>\n",
       "      <td>16.0</td>\n",
       "      <td>(15.0, 17.5]</td>\n",
       "      <td>2013-11-16 11:54:00</td>\n",
       "      <td>11</td>\n",
       "      <td>2013</td>\n",
       "      <td>2013-11</td>\n",
       "      <td>Saturday</td>\n",
       "      <td>11</td>\n",
       "      <td>1.0</td>\n",
       "      <td>1997</td>\n",
       "      <td>10</td>\n",
       "      <td>2013-11</td>\n",
       "      <td>16 years</td>\n",
       "      <td>A134067</td>\n",
       "      <td>Dog</td>\n",
       "      <td>Shetland Sheepdog</td>\n",
       "      <td>Brown/White</td>\n",
       "      <td>12034 Research Blvd in Austin (TX)</td>\n",
       "      <td>Injured</td>\n",
       "      <td>Public Assist</td>\n",
       "      <td>Neutered Male</td>\n",
       "      <td>1</td>\n",
       "      <td>5840</td>\n",
       "      <td>16.0</td>\n",
       "      <td>(15.0, 17.5]</td>\n",
       "      <td>2013-11-16 09:02:00</td>\n",
       "      <td>11</td>\n",
       "      <td>2013</td>\n",
       "      <td>2013-11</td>\n",
       "      <td>Saturday</td>\n",
       "      <td>9</td>\n",
       "      <td>1.0</td>\n",
       "      <td>0 days 02:52:00.000000000</td>\n",
       "      <td>0.119444</td>\n",
       "    </tr>\n",
       "  </tbody>\n",
       "</table>\n",
       "</div>"
      ],
      "text/plain": [
       "  age_upon_outcome animal_id_outcome        date_of_birth outcome_subtype  \\\n",
       "0         10 years           A006100  2007-07-09 00:00:00             NaN   \n",
       "1          7 years           A006100  2007-07-09 00:00:00             NaN   \n",
       "2          6 years           A006100  2007-07-09 00:00:00             NaN   \n",
       "3         10 years           A047759  2004-04-02 00:00:00         Partner   \n",
       "4         16 years           A134067  1997-10-16 00:00:00             NaN   \n",
       "\n",
       "      outcome_type sex_upon_outcome  age_upon_outcome_(days)  \\\n",
       "0  Return to Owner    Neutered Male                     3650   \n",
       "1  Return to Owner    Neutered Male                     2555   \n",
       "2  Return to Owner    Neutered Male                     2190   \n",
       "3         Transfer    Neutered Male                     3650   \n",
       "4  Return to Owner    Neutered Male                     5840   \n",
       "\n",
       "   age_upon_outcome_(years) age_upon_outcome_age_group     outcome_datetime  \\\n",
       "0                      10.0                (7.5, 10.0]  2017-12-07 14:07:00   \n",
       "1                       7.0                 (5.0, 7.5]  2014-12-20 16:35:00   \n",
       "2                       6.0                 (5.0, 7.5]  2014-03-08 17:10:00   \n",
       "3                      10.0                (7.5, 10.0]  2014-04-07 15:12:00   \n",
       "4                      16.0               (15.0, 17.5]  2013-11-16 11:54:00   \n",
       "\n",
       "   outcome_month  outcome_year outcome_monthyear outcome_weekday  \\\n",
       "0             12          2017           2017-12        Thursday   \n",
       "1             12          2014           2014-12        Saturday   \n",
       "2              3          2014           2014-03        Saturday   \n",
       "3              4          2014           2014-04          Monday   \n",
       "4             11          2013           2013-11        Saturday   \n",
       "\n",
       "   outcome_hour  outcome_number  dob_year  dob_month dob_monthyear  \\\n",
       "0             0             1.0      2007          7       2017-12   \n",
       "1            16             2.0      2007          7       2014-12   \n",
       "2            17             3.0      2007          7       2014-03   \n",
       "3            15             1.0      2004          4       2014-04   \n",
       "4            11             1.0      1997         10       2013-11   \n",
       "\n",
       "  age_upon_intake animal_id_intake animal_type                 breed  \\\n",
       "0        10 years          A006100         Dog  Spinone Italiano Mix   \n",
       "1         7 years          A006100         Dog  Spinone Italiano Mix   \n",
       "2         6 years          A006100         Dog  Spinone Italiano Mix   \n",
       "3        10 years          A047759         Dog             Dachshund   \n",
       "4        16 years          A134067         Dog     Shetland Sheepdog   \n",
       "\n",
       "          color                                 found_location  \\\n",
       "0  Yellow/White  Colony Creek And Hunters Trace in Austin (TX)   \n",
       "1  Yellow/White              8700 Research Blvd in Austin (TX)   \n",
       "2  Yellow/White                   8700 Research in Austin (TX)   \n",
       "3      Tricolor                                    Austin (TX)   \n",
       "4   Brown/White             12034 Research Blvd in Austin (TX)   \n",
       "\n",
       "  intake_condition      intake_type sex_upon_intake  count  \\\n",
       "0           Normal            Stray   Neutered Male      1   \n",
       "1           Normal    Public Assist   Neutered Male      1   \n",
       "2           Normal    Public Assist   Neutered Male      1   \n",
       "3           Normal  Owner Surrender   Neutered Male      1   \n",
       "4          Injured    Public Assist   Neutered Male      1   \n",
       "\n",
       "   age_upon_intake_(days)  age_upon_intake_(years) age_upon_intake_age_group  \\\n",
       "0                    3650                     10.0               (7.5, 10.0]   \n",
       "1                    2555                      7.0                (5.0, 7.5]   \n",
       "2                    2190                      6.0                (5.0, 7.5]   \n",
       "3                    3650                     10.0               (7.5, 10.0]   \n",
       "4                    5840                     16.0              (15.0, 17.5]   \n",
       "\n",
       "       intake_datetime  intake_month  intake_year intake_monthyear  \\\n",
       "0  2017-12-07 00:00:00            12         2017          2017-12   \n",
       "1  2014-12-19 10:21:00            12         2014          2014-12   \n",
       "2  2014-03-07 14:26:00             3         2014          2014-03   \n",
       "3  2014-04-02 15:55:00             4         2014          2014-04   \n",
       "4  2013-11-16 09:02:00            11         2013          2013-11   \n",
       "\n",
       "  intake_weekday  intake_hour  intake_number            time_in_shelter  \\\n",
       "0       Thursday           14            1.0  0 days 14:07:00.000000000   \n",
       "1         Friday           10            2.0  1 days 06:14:00.000000000   \n",
       "2         Friday           14            3.0  1 days 02:44:00.000000000   \n",
       "3      Wednesday           15            1.0  4 days 23:17:00.000000000   \n",
       "4       Saturday            9            1.0  0 days 02:52:00.000000000   \n",
       "\n",
       "   time_in_shelter_days  \n",
       "0              0.588194  \n",
       "1              1.259722  \n",
       "2              1.113889  \n",
       "3              4.970139  \n",
       "4              0.119444  "
      ]
     },
     "metadata": {},
     "output_type": "display_data"
    },
    {
     "name": "stdout",
     "output_type": "stream",
     "text": [
      "<class 'pandas.core.frame.DataFrame'>\n",
      "RangeIndex: 79672 entries, 0 to 79671\n",
      "Data columns (total 41 columns):\n",
      "age_upon_outcome              79672 non-null object\n",
      "animal_id_outcome             79672 non-null object\n",
      "date_of_birth                 79672 non-null object\n",
      "outcome_subtype               36348 non-null object\n",
      "outcome_type                  79662 non-null object\n",
      "sex_upon_outcome              79671 non-null object\n",
      "age_upon_outcome_(days)       79672 non-null int64\n",
      "age_upon_outcome_(years)      79672 non-null float64\n",
      "age_upon_outcome_age_group    79672 non-null object\n",
      "outcome_datetime              79672 non-null object\n",
      "outcome_month                 79672 non-null int64\n",
      "outcome_year                  79672 non-null int64\n",
      "outcome_monthyear             79672 non-null object\n",
      "outcome_weekday               79672 non-null object\n",
      "outcome_hour                  79672 non-null int64\n",
      "outcome_number                79672 non-null float64\n",
      "dob_year                      79672 non-null int64\n",
      "dob_month                     79672 non-null int64\n",
      "dob_monthyear                 79672 non-null object\n",
      "age_upon_intake               79672 non-null object\n",
      "animal_id_intake              79672 non-null object\n",
      "animal_type                   79672 non-null object\n",
      "breed                         79672 non-null object\n",
      "color                         79672 non-null object\n",
      "found_location                79672 non-null object\n",
      "intake_condition              79672 non-null object\n",
      "intake_type                   79672 non-null object\n",
      "sex_upon_intake               79671 non-null object\n",
      "count                         79672 non-null int64\n",
      "age_upon_intake_(days)        79672 non-null int64\n",
      "age_upon_intake_(years)       79672 non-null float64\n",
      "age_upon_intake_age_group     79672 non-null object\n",
      "intake_datetime               79672 non-null object\n",
      "intake_month                  79672 non-null int64\n",
      "intake_year                   79672 non-null int64\n",
      "intake_monthyear              79672 non-null object\n",
      "intake_weekday                79672 non-null object\n",
      "intake_hour                   79672 non-null int64\n",
      "intake_number                 79672 non-null float64\n",
      "time_in_shelter               79672 non-null object\n",
      "time_in_shelter_days          79672 non-null float64\n",
      "dtypes: float64(5), int64(11), object(25)\n",
      "memory usage: 24.9+ MB\n"
     ]
    }
   ],
   "source": [
    "dfi = pd.read_csv('aac_intakes_outcomes.csv.zip')\n",
    "display(dfi.head())\n",
    "dfi.info()"
   ]
  },
  {
   "cell_type": "code",
   "execution_count": 3,
   "metadata": {},
   "outputs": [
    {
     "data": {
      "text/plain": [
       "1    79672\n",
       "Name: count, dtype: int64"
      ]
     },
     "execution_count": 3,
     "metadata": {},
     "output_type": "execute_result"
    }
   ],
   "source": [
    "dfi['count'].value_counts()"
   ]
  },
  {
   "cell_type": "code",
   "execution_count": 4,
   "metadata": {},
   "outputs": [],
   "source": [
    "dfii = pd.read_csv('aac_intakes.csv.zip')"
   ]
  },
  {
   "cell_type": "code",
   "execution_count": 5,
   "metadata": {},
   "outputs": [],
   "source": [
    "dfx = dfii[['animal_id', 'name', 'breed']]"
   ]
  },
  {
   "cell_type": "code",
   "execution_count": 6,
   "metadata": {},
   "outputs": [],
   "source": [
    "df = dfi.set_index('animal_id_intake').join(dfx.set_index('animal_id'), \n",
    "                                            rsuffix = '_in', how = 'left')\n",
    "#df[['name_in', 'animal_id_intake', 'animal_id_in']].tail()\n",
    "#df[['name', 'breed', 'breed_in']].tail(20)\n",
    "\n",
    "df['unique_id'] = df['animal_id_outcome'] + df['intake_number'].astype('str')"
   ]
  },
  {
   "cell_type": "code",
   "execution_count": 7,
   "metadata": {},
   "outputs": [],
   "source": [
    "df = df.drop_duplicates(subset = ['unique_id'])"
   ]
  },
  {
   "cell_type": "code",
   "execution_count": 8,
   "metadata": {},
   "outputs": [
    {
     "data": {
      "text/plain": [
       "Adoption           33583\n",
       "Transfer           23791\n",
       "Return to Owner    14784\n",
       "Name: outcome_type, dtype: int64"
      ]
     },
     "execution_count": 8,
     "metadata": {},
     "output_type": "execute_result"
    }
   ],
   "source": [
    "df = df[df['outcome_type'].isin(['Adoption', 'Transfer', 'Return to Owner'])]\n",
    "df['outcome_type'].value_counts()"
   ]
  },
  {
   "cell_type": "code",
   "execution_count": 9,
   "metadata": {},
   "outputs": [],
   "source": [
    "df.name.fillna(0, inplace = True)\n",
    "df['has_name'] = df['name'].map(lambda x: 1 if not x == 0 else 0)"
   ]
  },
  {
   "cell_type": "code",
   "execution_count": 10,
   "metadata": {},
   "outputs": [
    {
     "data": {
      "text/plain": [
       "Dog      43538\n",
       "Cat      27568\n",
       "Other      833\n",
       "Bird       219\n",
       "Name: animal_type, dtype: int64"
      ]
     },
     "execution_count": 10,
     "metadata": {},
     "output_type": "execute_result"
    }
   ],
   "source": [
    "df.animal_type.value_counts()"
   ]
  },
  {
   "cell_type": "code",
   "execution_count": 11,
   "metadata": {},
   "outputs": [
    {
     "data": {
      "text/plain": [
       "Dog    43538\n",
       "Cat    27568\n",
       "Name: animal_type, dtype: int64"
      ]
     },
     "execution_count": 11,
     "metadata": {},
     "output_type": "execute_result"
    }
   ],
   "source": [
    "df = df[df.animal_type != 'Bird']\n",
    "df = df[df.animal_type != 'Other']\n",
    "df.animal_type.value_counts()"
   ]
  },
  {
   "cell_type": "code",
   "execution_count": 12,
   "metadata": {},
   "outputs": [
    {
     "name": "stdout",
     "output_type": "stream",
     "text": [
      "<class 'pandas.core.frame.DataFrame'>\n",
      "Index: 71106 entries, A006100 to A769066\n",
      "Data columns (total 14 columns):\n",
      "sex_upon_intake            71105 non-null object\n",
      "age_upon_intake_(years)    71106 non-null float64\n",
      "time_in_shelter_days       71106 non-null float64\n",
      "animal_type                71106 non-null object\n",
      "breed                      71106 non-null object\n",
      "color                      71106 non-null object\n",
      "found_location             71106 non-null object\n",
      "intake_condition           71106 non-null object\n",
      "intake_type                71106 non-null object\n",
      "intake_number              71106 non-null float64\n",
      "has_name                   71106 non-null int64\n",
      "outcome_datetime           71106 non-null object\n",
      "outcome_month              71106 non-null int64\n",
      "outcome_type               71106 non-null object\n",
      "dtypes: float64(3), int64(2), object(9)\n",
      "memory usage: 8.1+ MB\n"
     ]
    }
   ],
   "source": [
    "df.sex_upon_outcome.dropna(inplace = True)\n",
    "df.sex_upon_intake.dropna(inplace = True)\n",
    "\n",
    "col_to_keep = ['sex_upon_intake', 'age_upon_intake_(years)', \n",
    "               'time_in_shelter_days','animal_type', 'breed',\n",
    "               'color', 'found_location', 'intake_condition', \n",
    "               'intake_type', 'intake_number', 'has_name',\n",
    "               'outcome_datetime', 'outcome_month', 'outcome_type']\n",
    "df_eda = df[col_to_keep]\n",
    "df_eda.info()"
   ]
  },
  {
   "cell_type": "code",
   "execution_count": 13,
   "metadata": {},
   "outputs": [
    {
     "data": {
      "text/plain": [
       "sex_upon_intake            0\n",
       "age_upon_intake_(years)    0\n",
       "time_in_shelter_days       0\n",
       "animal_type                0\n",
       "breed                      0\n",
       "color                      0\n",
       "found_location             0\n",
       "intake_condition           0\n",
       "intake_type                0\n",
       "intake_number              0\n",
       "has_name                   0\n",
       "outcome_datetime           0\n",
       "outcome_month              0\n",
       "outcome_type               0\n",
       "dtype: int64"
      ]
     },
     "execution_count": 13,
     "metadata": {},
     "output_type": "execute_result"
    }
   ],
   "source": [
    "df_eda['sex_upon_intake'].fillna('Unknown', inplace = True)\n",
    "\n",
    "df_eda.isna().sum()"
   ]
  },
  {
   "cell_type": "code",
   "execution_count": 14,
   "metadata": {},
   "outputs": [],
   "source": [
    "dfi = df_eda"
   ]
  },
  {
   "cell_type": "markdown",
   "metadata": {},
   "source": [
    "# Dummy Variables:"
   ]
  },
  {
   "cell_type": "code",
   "execution_count": 15,
   "metadata": {},
   "outputs": [],
   "source": [
    "# sex_upon_intake\n",
    "# Dummy variable, no change\n",
    "# Maybe split into male/female and intact or no"
   ]
  },
  {
   "cell_type": "code",
   "execution_count": 16,
   "metadata": {},
   "outputs": [
    {
     "data": {
      "text/plain": [
       "Intact Male      23618\n",
       "Intact Female    22387\n",
       "Neutered Male    11975\n",
       "Spayed Female    10648\n",
       "Unknown           2478\n",
       "Name: sex_upon_intake, dtype: int64"
      ]
     },
     "execution_count": 16,
     "metadata": {},
     "output_type": "execute_result"
    }
   ],
   "source": [
    "dfi.sex_upon_intake.value_counts()"
   ]
  },
  {
   "cell_type": "code",
   "execution_count": 17,
   "metadata": {},
   "outputs": [],
   "source": [
    "dfi['sex'] = np.where(dfi['sex_upon_intake'].str.contains('Male'), 1, 0)\n",
    "dfi['intact'] = np.where(dfi['sex_upon_intake'].str.contains('Intact'), 1, 0)\n",
    "dfi['unk_sex'] = np.where(dfi['sex_upon_intake'].str.contains('Unknown'), 1, 0)\n",
    "# dfi.drop(columns = 'sex_upon_intake', axis = 1, inplace = True)"
   ]
  },
  {
   "cell_type": "code",
   "execution_count": 18,
   "metadata": {},
   "outputs": [],
   "source": [
    "# age_upon_intake_(years)\n",
    "# scale"
   ]
  },
  {
   "cell_type": "code",
   "execution_count": null,
   "metadata": {},
   "outputs": [],
   "source": []
  },
  {
   "cell_type": "code",
   "execution_count": 19,
   "metadata": {},
   "outputs": [],
   "source": [
    "# time_in_shelter_days \n",
    "# Scale"
   ]
  },
  {
   "cell_type": "code",
   "execution_count": null,
   "metadata": {},
   "outputs": [],
   "source": []
  },
  {
   "cell_type": "code",
   "execution_count": 20,
   "metadata": {},
   "outputs": [],
   "source": [
    "# animal_type \n",
    "# Dummy for dog or cat\n",
    "dfi['dog'] = dfi['animal_type'].map(lambda x: 1 if x == 'Dog' else 0)\n",
    "dfi['cat'] = dfi['animal_type'].map(lambda x: 1 if x == 'Cat' else 0)"
   ]
  },
  {
   "cell_type": "code",
   "execution_count": 21,
   "metadata": {},
   "outputs": [],
   "source": [
    "# breed\n",
    "# Dummy for threshold of .05\n",
    "def dum_sign(dummy_col, threshold=0.1):\n",
    "    # removes the bind\n",
    "    dummy_col = dummy_col.copy()\n",
    "    # Ratio of dummy to rest of column\n",
    "    count = pd.value_counts(dummy_col) / len(dummy_col)\n",
    "    # Condition\n",
    "    mask = dummy_col.isin(count[count > threshold].index)\n",
    "    # Replaces \n",
    "    dummy_col[~mask] = \"others\"\n",
    "\n",
    "    return pd.get_dummies(dummy_col, prefix=dummy_col.name)\n",
    "\n",
    "# df_breed = dum_sign(dfi['breed'], threshold = .01)\n",
    "df_breed = dum_sign(dfi['breed'], threshold = .005)\n",
    "dfi = pd.concat([dfi, df_breed], axis = 1)"
   ]
  },
  {
   "cell_type": "code",
   "execution_count": null,
   "metadata": {},
   "outputs": [],
   "source": []
  },
  {
   "cell_type": "code",
   "execution_count": 22,
   "metadata": {},
   "outputs": [],
   "source": [
    "# color\n",
    "# Dummy for top 10-20\n",
    "# df_col = dum_sign(dfi['color'], threshold = .025)\n",
    "df_col = dum_sign(dfi['color'], threshold = .01)\n",
    "dfi = pd.concat([dfi, df_col], axis = 1)"
   ]
  },
  {
   "cell_type": "code",
   "execution_count": 23,
   "metadata": {},
   "outputs": [],
   "source": [
    "# found_location\n",
    "# Dummy for top ten, or possibly just Austin or outside Austin\n",
    "# df_loc = dum_sign(dfi['found_location'], threshold = .01)\n",
    "df_loc = dum_sign(dfi['found_location'], threshold = .005)\n",
    "dfi = pd.concat([dfi, df_loc], axis = 1)"
   ]
  },
  {
   "cell_type": "code",
   "execution_count": null,
   "metadata": {},
   "outputs": [],
   "source": []
  },
  {
   "cell_type": "code",
   "execution_count": 24,
   "metadata": {},
   "outputs": [],
   "source": [
    "# intake_condition\n",
    "# Regular dummy variables\n",
    "cond_dummy = pd.get_dummies(dfi['intake_condition'])\n",
    "dfi = pd.concat([dfi, cond_dummy], axis = 1)"
   ]
  },
  {
   "cell_type": "code",
   "execution_count": 25,
   "metadata": {},
   "outputs": [],
   "source": [
    "# intake_type         \n",
    "# Regular dummy variables\n",
    "int_type_dummy = pd.get_dummies(dfi['intake_type'])\n",
    "dfi = pd.concat([dfi, int_type_dummy], axis = 1)"
   ]
  },
  {
   "cell_type": "code",
   "execution_count": 26,
   "metadata": {},
   "outputs": [],
   "source": [
    "# intake_number\n",
    "# Dummy for 1, 2, 3, and 4+\n",
    "dfi['count_1'] = dfi['intake_number'].map(lambda x: 1 if x == 1 else 0)\n",
    "dfi['count_2'] = dfi['intake_number'].map(lambda x: 1 if x == 2 else 0)\n",
    "dfi['count_3'] = dfi['intake_number'].map(lambda x: 1 if x == 3 else 0)\n",
    "dfi['count_4_plus'] = dfi['intake_number'].map(lambda x: 1 if x > 3 else 0)"
   ]
  },
  {
   "cell_type": "code",
   "execution_count": 27,
   "metadata": {},
   "outputs": [],
   "source": [
    "# has_name               \n",
    "# Good to go"
   ]
  },
  {
   "cell_type": "code",
   "execution_count": 28,
   "metadata": {},
   "outputs": [],
   "source": [
    "# outcome_datetime      \n",
    "# TBD"
   ]
  },
  {
   "cell_type": "code",
   "execution_count": 29,
   "metadata": {},
   "outputs": [],
   "source": [
    "# outcome_type  \n",
    "# Need to convert to numericals in the same column. . . \n",
    "# Adoption = 1\n",
    "# Transfer = 2\n",
    "# Return to owner = 3\n",
    "dfi.outcome_type.unique()\n",
    "#dfi['outcome'] = dfi['outcome_type'].map(lambda x: 1 if x == 'Return to Owner' elif x == '')\n",
    "#dfi['outcome'] = dfi['outcome_type'].map(lambda x: 2 if x == 'Transfer')\n",
    "#dfi['outcome'] = dfi['outcome_type'].map(lambda x: 3 if x == 'Adoption')\n",
    "dfi['outcome'] = dfi['outcome_type'].map(lambda x: 1 if x == 'Return to Owner' \n",
    "                                         else (2 if x == 'Transfer' \n",
    "                                               else 3))"
   ]
  },
  {
   "cell_type": "code",
   "execution_count": 30,
   "metadata": {},
   "outputs": [],
   "source": [
    "#TESTING OUTCOME MONTH DUMMIES"
   ]
  },
  {
   "cell_type": "code",
   "execution_count": 31,
   "metadata": {},
   "outputs": [],
   "source": [
    "month_dummies = pd.get_dummies(dfi['outcome_month'])\n",
    "dfi = pd.concat([dfi, month_dummies], axis = 1)"
   ]
  },
  {
   "cell_type": "markdown",
   "metadata": {},
   "source": [
    "# Testing Various ML Algos:"
   ]
  },
  {
   "cell_type": "markdown",
   "metadata": {},
   "source": [
    "## X, y:"
   ]
  },
  {
   "cell_type": "code",
   "execution_count": 32,
   "metadata": {},
   "outputs": [
    {
     "data": {
      "text/plain": [
       "\"\\nX = dfi.drop(['outcome', 'outcome_type', 'sex_upon_intake', 'age_upon_intake_(years)',\\n              'time_in_shelter_days', 'animal_type', 'breed', \\n              'color', 'found_location', 'intake_condition', 'intake_type', \\n              'intake_number', 'outcome_datetime'], axis = 1)\\ny = dfi['outcome']\\n\""
      ]
     },
     "execution_count": 32,
     "metadata": {},
     "output_type": "execute_result"
    }
   ],
   "source": [
    "# DROPPING COLUMNS TO SCALE\n",
    "'''\n",
    "X = dfi.drop(['outcome', 'outcome_type', 'sex_upon_intake', 'age_upon_intake_(years)',\n",
    "              'time_in_shelter_days', 'animal_type', 'breed', \n",
    "              'color', 'found_location', 'intake_condition', 'intake_type', \n",
    "              'intake_number', 'outcome_datetime'], axis = 1)\n",
    "y = dfi['outcome']\n",
    "'''"
   ]
  },
  {
   "cell_type": "code",
   "execution_count": 33,
   "metadata": {},
   "outputs": [],
   "source": [
    "# NOT DROPPING COLUMNS TO SCALE \n",
    "# 'age_upon_intake_(years)'\n",
    "# 'time_in_shelter_days',\n",
    "# '''\n",
    "X = dfi.drop(['outcome', 'outcome_type', 'sex_upon_intake',\n",
    "               'animal_type', 'breed', 'color', \n",
    "              'found_location', 'intake_condition', 'intake_type', \n",
    "              'intake_number', 'outcome_datetime', 'outcome_month'], axis = 1)\n",
    "y = dfi['outcome']\n",
    "# '''"
   ]
  },
  {
   "cell_type": "markdown",
   "metadata": {},
   "source": [
    "## Train Test Split:"
   ]
  },
  {
   "cell_type": "code",
   "execution_count": 34,
   "metadata": {},
   "outputs": [],
   "source": [
    "X_train, X_test, y_train, y_test = train_test_split(X, y, test_size=0.20, \n",
    "                                                    random_state=123)"
   ]
  },
  {
   "cell_type": "code",
   "execution_count": 35,
   "metadata": {},
   "outputs": [
    {
     "name": "stdout",
     "output_type": "stream",
     "text": [
      "\n",
      "\n",
      "3    26569\n",
      "2    26569\n",
      "1    26569\n",
      "dtype: int64\n"
     ]
    }
   ],
   "source": [
    "# SMOTE\n",
    "X_train_resampled, y_train_resampled = SMOTE().fit_sample(X_train, y_train) \n",
    "\n",
    "# Preview resampled sample class distribution\n",
    "print('\\n')\n",
    "print(pd.Series(y_train_resampled).value_counts()) "
   ]
  },
  {
   "cell_type": "markdown",
   "metadata": {},
   "source": [
    "## Bagged Trees:"
   ]
  },
  {
   "cell_type": "code",
   "execution_count": 36,
   "metadata": {},
   "outputs": [
    {
     "data": {
      "text/plain": [
       "\"\\nbagged_tree =  BaggingClassifier(DecisionTreeClassifier(criterion='gini', \\n                                                        max_depth=10), \\n                                                        n_estimators=200)\\nbagged_tree.fit(X_train, y_train)\\n\""
      ]
     },
     "execution_count": 36,
     "metadata": {},
     "output_type": "execute_result"
    }
   ],
   "source": [
    "'''\n",
    "bagged_tree =  BaggingClassifier(DecisionTreeClassifier(criterion='gini', \n",
    "                                                        max_depth=10), \n",
    "                                                        n_estimators=200)\n",
    "bagged_tree.fit(X_train, y_train)\n",
    "'''"
   ]
  },
  {
   "cell_type": "markdown",
   "metadata": {},
   "source": [
    "### BT Accuracy:"
   ]
  },
  {
   "cell_type": "code",
   "execution_count": 37,
   "metadata": {},
   "outputs": [],
   "source": [
    "# bagged_tree.score(X_test, y_test)"
   ]
  },
  {
   "cell_type": "code",
   "execution_count": null,
   "metadata": {},
   "outputs": [],
   "source": []
  },
  {
   "cell_type": "markdown",
   "metadata": {},
   "source": [
    "## KNN:"
   ]
  },
  {
   "cell_type": "code",
   "execution_count": 38,
   "metadata": {},
   "outputs": [],
   "source": [
    "# clf = KNeighborsClassifier(n_neighbors=10)\n",
    "\n",
    "# Fit the classifier\n",
    "# clf.fit(X_train, y_train)"
   ]
  },
  {
   "cell_type": "markdown",
   "metadata": {},
   "source": [
    "### KNN Accuracy:"
   ]
  },
  {
   "cell_type": "code",
   "execution_count": 39,
   "metadata": {},
   "outputs": [],
   "source": [
    "#y_pred = clf.predict(X_test)"
   ]
  },
  {
   "cell_type": "code",
   "execution_count": 40,
   "metadata": {},
   "outputs": [],
   "source": [
    "#clf.score(X_test, y_test)"
   ]
  },
  {
   "cell_type": "markdown",
   "metadata": {},
   "source": [
    "## Random Forest:"
   ]
  },
  {
   "cell_type": "markdown",
   "metadata": {},
   "source": [
    "### Random Forest Pipeline Test:"
   ]
  },
  {
   "cell_type": "markdown",
   "metadata": {},
   "source": [
    "Testing this with intake age and time in shelter.  If it crashes and burns, add those columns back to the drop list for X."
   ]
  },
  {
   "cell_type": "code",
   "execution_count": 41,
   "metadata": {},
   "outputs": [
    {
     "data": {
      "text/plain": [
       "\"\\nscaled_pipeline_1 = Pipeline([('ss', StandardScaler()), \\n                              ('forest', RandomForestClassifier(\\n                                  n_estimators=150, \\n                                  max_depth= 19, \\n                                  class_weight='balanced', \\n                                  random_state = 123))])\\n\\nscaled_pipeline_1.fit(X_train, y_train)\\nscaled_pipeline_1.score(X_test, y_test)\\n\""
      ]
     },
     "execution_count": 41,
     "metadata": {},
     "output_type": "execute_result"
    }
   ],
   "source": [
    "'''\n",
    "scaled_pipeline_1 = Pipeline([('ss', StandardScaler()), \n",
    "                              ('forest', RandomForestClassifier(\n",
    "                                  n_estimators=150, \n",
    "                                  max_depth= 19, \n",
    "                                  class_weight='balanced', \n",
    "                                  random_state = 123))])\n",
    "\n",
    "scaled_pipeline_1.fit(X_train, y_train)\n",
    "scaled_pipeline_1.score(X_test, y_test)\n",
    "'''"
   ]
  },
  {
   "cell_type": "code",
   "execution_count": 42,
   "metadata": {},
   "outputs": [],
   "source": [
    "#pred2 = scaled_pipeline_1.predict(X_test)\n",
    "#print(confusion_matrix(y_test, pred2))"
   ]
  },
  {
   "cell_type": "markdown",
   "metadata": {},
   "source": [
    "## SMOTE TEST:"
   ]
  },
  {
   "cell_type": "code",
   "execution_count": 43,
   "metadata": {},
   "outputs": [
    {
     "data": {
      "text/plain": [
       "\"\\nsmote_rf = Pipeline([('ss', StandardScaler()), \\n                     ('forest', RandomForestClassifier(n_estimators=200, \\n                                                       max_depth= 23, \\n                                                       random_state = 123))])\\n\\nsmote_rf.fit(X_train_resampled, y_train_resampled)\\nsmote_rf.score(X_test, y_test)\\n\""
      ]
     },
     "execution_count": 43,
     "metadata": {},
     "output_type": "execute_result"
    }
   ],
   "source": [
    "'''\n",
    "smote_rf = Pipeline([('ss', StandardScaler()), \n",
    "                     ('forest', RandomForestClassifier(n_estimators=200, \n",
    "                                                       max_depth= 23, \n",
    "                                                       random_state = 123))])\n",
    "\n",
    "smote_rf.fit(X_train_resampled, y_train_resampled)\n",
    "smote_rf.score(X_test, y_test)\n",
    "'''"
   ]
  },
  {
   "cell_type": "code",
   "execution_count": 44,
   "metadata": {},
   "outputs": [],
   "source": [
    "#pred3 = smote_rf.predict(X_test)\n",
    "# print(confusion_matrix(y_test, pred3))"
   ]
  },
  {
   "cell_type": "code",
   "execution_count": 45,
   "metadata": {},
   "outputs": [],
   "source": [
    "# 0.7920826887920124\n",
    "# [[2426  144  368]\n",
    "# [ 119 2737 1752]\n",
    "# [ 147  427 6102]]"
   ]
  },
  {
   "cell_type": "code",
   "execution_count": 46,
   "metadata": {},
   "outputs": [],
   "source": [
    "# smote_rf"
   ]
  },
  {
   "cell_type": "markdown",
   "metadata": {},
   "source": [
    "## XGBoost:"
   ]
  },
  {
   "cell_type": "code",
   "execution_count": 47,
   "metadata": {},
   "outputs": [],
   "source": [
    "import xgboost as xgb\n",
    "from sklearn.metrics import accuracy_score"
   ]
  },
  {
   "cell_type": "code",
   "execution_count": 48,
   "metadata": {},
   "outputs": [
    {
     "data": {
      "text/plain": [
       "'\\nxg = xgb.XGBClassifier(learning_rate = .05, max_depth = 10, n_estimators = 200)\\nxg.fit(X_train, y_train)\\ntraining_preds = xg.predict(X_train)\\nval_preds = xg.predict(X_test)\\ntraining_accuracy = accuracy_score(y_train, training_preds)\\nval_accuracy = accuracy_score(y_test, val_preds)\\n\\nprint(\"Training Accuracy: {:.4}%\".format(training_accuracy * 100))\\nprint(\"Validation accuracy: {:.4}%\".format(val_accuracy * 100))\\n'"
      ]
     },
     "execution_count": 48,
     "metadata": {},
     "output_type": "execute_result"
    }
   ],
   "source": [
    "'''\n",
    "xg = xgb.XGBClassifier(learning_rate = .05, max_depth = 10, n_estimators = 200)\n",
    "xg.fit(X_train, y_train)\n",
    "training_preds = xg.predict(X_train)\n",
    "val_preds = xg.predict(X_test)\n",
    "training_accuracy = accuracy_score(y_train, training_preds)\n",
    "val_accuracy = accuracy_score(y_test, val_preds)\n",
    "\n",
    "print(\"Training Accuracy: {:.4}%\".format(training_accuracy * 100))\n",
    "print(\"Validation accuracy: {:.4}%\".format(val_accuracy * 100))\n",
    "'''"
   ]
  },
  {
   "cell_type": "code",
   "execution_count": 49,
   "metadata": {},
   "outputs": [
    {
     "data": {
      "text/plain": [
       "'\\npred = xg.predict(X_test)\\nprint(confusion_matrix(y_test, pred))\\n'"
      ]
     },
     "execution_count": 49,
     "metadata": {},
     "output_type": "execute_result"
    }
   ],
   "source": [
    "'''\n",
    "pred = xg.predict(X_test)\n",
    "print(confusion_matrix(y_test, pred))\n",
    "'''"
   ]
  },
  {
   "cell_type": "code",
   "execution_count": null,
   "metadata": {},
   "outputs": [],
   "source": []
  },
  {
   "cell_type": "code",
   "execution_count": null,
   "metadata": {},
   "outputs": [],
   "source": []
  },
  {
   "cell_type": "code",
   "execution_count": null,
   "metadata": {},
   "outputs": [],
   "source": []
  },
  {
   "cell_type": "code",
   "execution_count": null,
   "metadata": {},
   "outputs": [],
   "source": []
  },
  {
   "cell_type": "code",
   "execution_count": null,
   "metadata": {},
   "outputs": [],
   "source": []
  },
  {
   "cell_type": "code",
   "execution_count": null,
   "metadata": {},
   "outputs": [],
   "source": []
  },
  {
   "cell_type": "markdown",
   "metadata": {},
   "source": [
    "# Model comps"
   ]
  },
  {
   "cell_type": "code",
   "execution_count": null,
   "metadata": {},
   "outputs": [],
   "source": []
  },
  {
   "cell_type": "code",
   "execution_count": 50,
   "metadata": {},
   "outputs": [],
   "source": [
    "# Initialize lists\n",
    "model_names = []\n",
    "train_accuracies = []\n",
    "test_accuracies = []\n",
    "rto_precisions = []\n",
    "rto_recalls = []\n",
    "adopt_precisions = []\n",
    "adopt_recalls = []"
   ]
  },
  {
   "cell_type": "code",
   "execution_count": 51,
   "metadata": {},
   "outputs": [],
   "source": [
    "def rto_precision(model):\n",
    "    training_preds = model.predict(X_train)\n",
    "    val_preds = model.predict(X_test)\n",
    "    training_accuracy = accuracy_score(y_train, training_preds)\n",
    "    val_accuracy = accuracy_score(y_test, val_preds)\n",
    "    x1 = confusion_matrix(y_test, val_preds)\n",
    "    #return x1\n",
    "    tp = x1[0,0]\n",
    "    fp1 = x1[1,0]\n",
    "    fp2 = x1[2,0]\n",
    "    total = fp1 + fp2 + tp\n",
    "    rto_precision = tp/total\n",
    "    rto_precisions.append(round(rto_precision, 3))\n",
    "    print(\"Return to Owner Precision: {:.4}%\".format(rto_precision * 100))\n",
    "\n",
    "def rto_recall(model):\n",
    "    training_preds = model.predict(X_train)\n",
    "    val_preds = model.predict(X_test)\n",
    "    training_accuracy = accuracy_score(y_train, training_preds)\n",
    "    val_accuracy = accuracy_score(y_test, val_preds)\n",
    "    x1 = confusion_matrix(y_test, val_preds)\n",
    "    #return x1\n",
    "    tp = x1[0,0]\n",
    "    fn1 = x1[0,1]\n",
    "    fn2 = x1[0,2]\n",
    "    total = fn1 + fn2 + tp\n",
    "    rto_recall = tp/total\n",
    "    rto_recalls.append(round(rto_recall, 3))\n",
    "    print(\"Return to Owner Recall: {:.4}%\".format(rto_recall * 100))\n",
    "\n",
    "def adopt_precision(model):\n",
    "    training_preds = model.predict(X_train)\n",
    "    val_preds = model.predict(X_test)\n",
    "    training_accuracy = accuracy_score(y_train, training_preds)\n",
    "    val_accuracy = accuracy_score(y_test, val_preds)\n",
    "    x1 = confusion_matrix(y_test, val_preds)\n",
    "    #return x1\n",
    "    tp = x1[2,2]\n",
    "    fp1 = x1[0,2]\n",
    "    fp2 = x1[1,2]\n",
    "    total = fp1 + fp2 + tp\n",
    "    adopt_precision = tp/total\n",
    "    adopt_precisions.append(round(adopt_precision,3))\n",
    "    print(\"Adoption Precision: {:.4}%\".format(adopt_precision * 100))\n",
    "    \n",
    "def adopt_recall(model):\n",
    "    training_preds = model.predict(X_train)\n",
    "    val_preds = model.predict(X_test)\n",
    "    training_accuracy = accuracy_score(y_train, training_preds)\n",
    "    val_accuracy = accuracy_score(y_test, val_preds)\n",
    "    x1 = confusion_matrix(y_test, val_preds)\n",
    "    #return x1\n",
    "    tp = x1[2,2]\n",
    "    fn1 = x1[2,0]\n",
    "    fn2 = x1[2,1]\n",
    "    total = fn1 + fn2 + tp\n",
    "    adopt_recall = tp/total\n",
    "    adopt_recalls.append(round(adopt_recall, 3))\n",
    "    print(\"Adoption Recall: {:.4}%\".format(adopt_recall * 100))\n",
    "\n",
    "def norm_matrix(model):\n",
    "    y_pred = model.predict(X_test)\n",
    "    skplt.metrics.plot_confusion_matrix(y_test, y_pred, \n",
    "                                        figsize=(5,5), \n",
    "                                        normalize=True)\n",
    "    plt.yticks([-.5, 2.5])\n",
    "\n"
   ]
  },
  {
   "cell_type": "code",
   "execution_count": 52,
   "metadata": {},
   "outputs": [],
   "source": [
    "def show_accuracy(model, name):\n",
    "#    model_name = type(model).__name__\n",
    "    training_preds = model.predict(X_train)\n",
    "    val_preds = model.predict(X_test)\n",
    "    training_accuracy = accuracy_score(y_train, training_preds)\n",
    "    train_accuracies.append(round(training_accuracy, 3)) \n",
    "    val_accuracy = accuracy_score(y_test, val_preds)\n",
    "    test_accuracies.append(round(val_accuracy, 3))\n",
    "\n",
    "    print(\"Training data accuracy: {:.5}%\".format(training_accuracy * 100))\n",
    "    print(\"Testing data accuracy: {:.5}%\".format(val_accuracy * 100))\n",
    "#    print(\"--------------------------------\")\n",
    "#    print(\"--RTO----T----A-----------------\")\n",
    "#    print(confusion_matrix(y_test, val_preds))\n",
    "    \n",
    "    norm_matrix(model)\n",
    "    rto_precision(model)\n",
    "    rto_recall(model)\n",
    "    adopt_precision(model)\n",
    "    adopt_recall(model)\n",
    "    # Appending\n",
    "    model_names.append(name) \n",
    " #   train_accuracies.append(1) \n",
    " #   test_accuracies.append(1) \n",
    " #   rto_precisions.append(1) \n",
    " #   rto_recalls.append(2) \n",
    " #   adopt_precision.append(3) \n",
    " #   adopt_recalls.append(1) \n",
    "    "
   ]
  },
  {
   "cell_type": "code",
   "execution_count": 53,
   "metadata": {},
   "outputs": [],
   "source": [
    "# test_accuracies.append(round(accuracy_score(y_test, val_preds), 4)) "
   ]
  },
  {
   "cell_type": "code",
   "execution_count": 54,
   "metadata": {},
   "outputs": [
    {
     "name": "stdout",
     "output_type": "stream",
     "text": [
      "Training data accuracy: 80.342%\n",
      "Testing data accuracy: 79.257%\n",
      "Return to Owner Precision: 92.27%\n",
      "Return to Owner Recall: 80.46%\n",
      "Adoption Precision: 73.22%\n",
      "Adoption Recall: 94.04%\n"
     ]
    },
    {
     "data": {
      "image/png": "[encoded data removed]",
      "text/plain": [
       "<Figure size 360x360 with 2 Axes>"
      ]
     },
     "metadata": {
      "needs_background": "light"
     },
     "output_type": "display_data"
    }
   ],
   "source": [
    "tree1 = DecisionTreeClassifier(max_depth = 10)\n",
    "tree1.fit(X_train, y_train)\n",
    "show_accuracy(tree1, 'First Tree')"
   ]
  },
  {
   "cell_type": "code",
   "execution_count": 55,
   "metadata": {},
   "outputs": [
    {
     "name": "stdout",
     "output_type": "stream",
     "text": [
      "Training data accuracy: 76.47%\n",
      "Testing data accuracy: 76.712%\n",
      "Return to Owner Precision: 89.62%\n",
      "Return to Owner Recall: 79.95%\n",
      "Adoption Precision: 69.17%\n",
      "Adoption Recall: 97.54%\n"
     ]
    },
    {
     "data": {
      "image/png": "[encoded data removed]",
      "text/plain": [
       "<Figure size 360x360 with 2 Axes>"
      ]
     },
     "metadata": {
      "needs_background": "light"
     },
     "output_type": "display_data"
    }
   ],
   "source": [
    "tree2 = DecisionTreeClassifier(max_depth = 4)\n",
    "tree2.fit(X_train, y_train)\n",
    "show_accuracy(tree2, 'Second Tree')"
   ]
  },
  {
   "cell_type": "code",
   "execution_count": 56,
   "metadata": {},
   "outputs": [
    {
     "name": "stdout",
     "output_type": "stream",
     "text": [
      "Training data accuracy: 71.609%\n",
      "Testing data accuracy: 71.762%\n",
      "Return to Owner Precision: 66.93%\n",
      "Return to Owner Recall: 83.36%\n",
      "Adoption Precision: 69.17%\n",
      "Adoption Recall: 88.74%\n"
     ]
    },
    {
     "data": {
      "image/png": "[encoded data removed]",
      "text/plain": [
       "<Figure size 360x360 with 2 Axes>"
      ]
     },
     "metadata": {
      "needs_background": "light"
     },
     "output_type": "display_data"
    }
   ],
   "source": [
    "tree3 = DecisionTreeClassifier(max_depth = 2)\n",
    "tree3.fit(X_train, y_train)\n",
    "show_accuracy(tree3, 'Third Tree')"
   ]
  },
  {
   "cell_type": "code",
   "execution_count": 57,
   "metadata": {},
   "outputs": [
    {
     "data": {
      "text/plain": [
       "XGBClassifier(base_score=0.5, booster='gbtree', colsample_bylevel=1,\n",
       "              colsample_bynode=1, colsample_bytree=1, gamma=0,\n",
       "              learning_rate=0.12, max_delta_step=0, max_depth=6,\n",
       "              min_child_weight=1, missing=None, n_estimators=200, n_jobs=1,\n",
       "              nthread=None, objective='multi:softprob', random_state=0,\n",
       "              reg_alpha=0, reg_lambda=1, scale_pos_weight=1, seed=None,\n",
       "              silent=None, subsample=1, verbosity=1)"
      ]
     },
     "execution_count": 57,
     "metadata": {},
     "output_type": "execute_result"
    }
   ],
   "source": [
    "xg2 = xgb.XGBClassifier(learning_rate = .12, max_depth = 6, n_estimators = 200)\n",
    "xg2.fit(X_train, y_train)"
   ]
  },
  {
   "cell_type": "code",
   "execution_count": 58,
   "metadata": {},
   "outputs": [
    {
     "name": "stdout",
     "output_type": "stream",
     "text": [
      "Training data accuracy: 82.853%\n",
      "Testing data accuracy: 80.361%\n",
      "Return to Owner Precision: 91.82%\n",
      "Return to Owner Recall: 82.47%\n",
      "Adoption Precision: 74.89%\n",
      "Adoption Recall: 93.17%\n"
     ]
    },
    {
     "data": {
      "image/png": "[encoded data removed]",
      "text/plain": [
       "<Figure size 360x360 with 2 Axes>"
      ]
     },
     "metadata": {
      "needs_background": "light"
     },
     "output_type": "display_data"
    }
   ],
   "source": [
    "show_accuracy(xg2, 'XG Boost 2')"
   ]
  },
  {
   "cell_type": "markdown",
   "metadata": {},
   "source": [
    "## XG With Pipeline:"
   ]
  },
  {
   "cell_type": "code",
   "execution_count": 68,
   "metadata": {},
   "outputs": [
    {
     "data": {
      "text/plain": [
       "Pipeline(memory=None,\n",
       "         steps=[('ss',\n",
       "                 StandardScaler(copy=True, with_mean=True, with_std=True)),\n",
       "                ('xgb',\n",
       "                 XGBClassifier(base_score=0.5, booster='gbtree',\n",
       "                               colsample_bylevel=1, colsample_bynode=1,\n",
       "                               colsample_bytree=1, gamma=0, learning_rate=0.12,\n",
       "                               max_delta_step=0, max_depth=6,\n",
       "                               min_child_weight=1, missing=None,\n",
       "                               n_estimators=200, n_jobs=1, nthread=None,\n",
       "                               objective='multi:softprob', random_state=0,\n",
       "                               reg_alpha=0, reg_lambda=1, scale_pos_weight=1,\n",
       "                               seed=None, silent=None, subsample=1,\n",
       "                               verbosity=1))],\n",
       "         verbose=False)"
      ]
     },
     "execution_count": 68,
     "metadata": {},
     "output_type": "execute_result"
    }
   ],
   "source": [
    "xg3 = Pipeline([('ss', StandardScaler()), \n",
    "                ('xgb', xgb.XGBClassifier(learning_rate = .12, \n",
    "                                          max_depth = 6, \n",
    "                                          n_estimators = 200))])\n",
    "\n",
    "xg3.fit(X_train, y_train)"
   ]
  },
  {
   "cell_type": "code",
   "execution_count": 69,
   "metadata": {},
   "outputs": [
    {
     "name": "stdout",
     "output_type": "stream",
     "text": [
      "Training data accuracy: 82.853%\n",
      "Testing data accuracy: 80.361%\n",
      "Return to Owner Precision: 91.82%\n",
      "Return to Owner Recall: 82.47%\n",
      "Adoption Precision: 74.89%\n",
      "Adoption Recall: 93.17%\n"
     ]
    },
    {
     "data": {
      "image/png": "[encoded data removed]",
      "text/plain": [
       "<Figure size 360x360 with 2 Axes>"
      ]
     },
     "metadata": {
      "needs_background": "light"
     },
     "output_type": "display_data"
    }
   ],
   "source": [
    "show_accuracy(xg3, 'xg_with_scaling')"
   ]
  },
  {
   "cell_type": "markdown",
   "metadata": {},
   "source": [
    "# Grad Boost"
   ]
  },
  {
   "cell_type": "code",
   "execution_count": 59,
   "metadata": {},
   "outputs": [
    {
     "data": {
      "text/plain": [
       "\"\\ngrid = [{'gridb__learning_rate': [.05, .1], \\n         'gridb__n_estimators': [50, 100]}]\\n\\ngrad = Pipeline([('ss', StandardScaler()), \\n                ('gridb', GradientBoostingClassifier(random_state = 123))])\\n\\ngrad_grid = GridSearchCV(estimator = grad, \\n                          param_grid = grid, \\n                          scoring = 'accuracy', \\n                          cv=5)\\ngrad_grid.fit(X_train, y_train)\\ngrad_grid.best_params_\\n\""
      ]
     },
     "execution_count": 59,
     "metadata": {},
     "output_type": "execute_result"
    }
   ],
   "source": [
    "'''\n",
    "grid = [{'gridb__learning_rate': [.05, .1], \n",
    "         'gridb__n_estimators': [50, 100]}]\n",
    "\n",
    "grad = Pipeline([('ss', StandardScaler()), \n",
    "                ('gridb', GradientBoostingClassifier(random_state = 123))])\n",
    "\n",
    "grad_grid = GridSearchCV(estimator = grad, \n",
    "                          param_grid = grid, \n",
    "                          scoring = 'accuracy', \n",
    "                          cv=5)\n",
    "grad_grid.fit(X_train, y_train)\n",
    "grad_grid.best_params_\n",
    "'''"
   ]
  },
  {
   "cell_type": "code",
   "execution_count": 60,
   "metadata": {},
   "outputs": [],
   "source": [
    "#show_accuracy(grad_grid, 'Gradient Boost')"
   ]
  },
  {
   "cell_type": "code",
   "execution_count": 61,
   "metadata": {},
   "outputs": [],
   "source": [
    "#grad2 = GradientBoostingClassifier(learning_rate = .15, \n",
    " #                                  max_depth = 4,\n",
    "  #                                 n_estimators = 250,\n",
    "   #                                random_state = 123)\n",
    "#grad2.fit(X_train, y_train)"
   ]
  },
  {
   "cell_type": "code",
   "execution_count": 62,
   "metadata": {},
   "outputs": [],
   "source": [
    "#show_accuracy(grad2, 'Gradient Boost 2')"
   ]
  },
  {
   "cell_type": "code",
   "execution_count": 63,
   "metadata": {},
   "outputs": [
    {
     "data": {
      "text/plain": [
       "'\\nTraining data accuracy: 82.304%\\nTesting data accuracy: 80.242%\\nReturn to Owner Precision: 90.99%\\nReturn to Owner Recall: 82.13%\\nAdoption Precision: 75.17%\\nAdoption Recall: 92.66%\\n'"
      ]
     },
     "execution_count": 63,
     "metadata": {},
     "output_type": "execute_result"
    }
   ],
   "source": [
    "# Started at 3:07 pm\n",
    "'''\n",
    "Training data accuracy: 80.188%\n",
    "Testing data accuracy: 79.553%\n",
    "Return to Owner Precision: 91.31%\n",
    "Return to Owner Recall: 81.93%\n",
    "Adoption Precision: 73.99%\n",
    "Adoption Recall: 93.12%\n",
    "--\n",
    "second model with 200 estimators\n",
    "--\n",
    "Training data accuracy: 80.476%\n",
    "Testing data accuracy: 79.722%\n",
    "Return to Owner Precision: 91.19%\n",
    "Return to Owner Recall: 82.06%\n",
    "Adoption Precision: 74.34%\n",
    "Adoption Recall: 92.87%\n",
    "'''\n",
    "# Notes: Trying again with a slightly larger max depth.  before it was 3, now trying 4\n",
    "'''\n",
    "Training data accuracy: 81.7%\n",
    "Testing data accuracy: 80.122%\n",
    "Return to Owner Precision: 91.24%\n",
    "Return to Owner Recall: 82.23%\n",
    "Adoption Precision: 74.89%\n",
    "Adoption Recall: 92.83%\n",
    "'''\n",
    "# Notes: 5 wasn't a great improvement.  going back to 4 depth but 250 estimators\n",
    "\n",
    "'''\n",
    "Training data accuracy: 82.304%\n",
    "Testing data accuracy: 80.242%\n",
    "Return to Owner Precision: 90.99%\n",
    "Return to Owner Recall: 82.13%\n",
    "Adoption Precision: 75.17%\n",
    "Adoption Recall: 92.66%\n",
    "'''\n"
   ]
  },
  {
   "cell_type": "code",
   "execution_count": 64,
   "metadata": {},
   "outputs": [],
   "source": [
    "#xg2 = xgb.XGBClassifier(learning_rate = .1, max_depth = 6, n_estimators = 200)\n",
    "#xg2.fit(X_train, y_train)"
   ]
  },
  {
   "cell_type": "code",
   "execution_count": 65,
   "metadata": {},
   "outputs": [],
   "source": [
    "#show_accuracy(xg2, 'XG Boost 2')"
   ]
  },
  {
   "cell_type": "markdown",
   "metadata": {},
   "source": [
    "To beat:\n",
    "Training data accuracy: 84.085%\n",
    "Testing data accuracy: 80.425%\n",
    "Return to Owner Precision: 92.03%\n",
    "Return to Owner Recall: 82.57%\n",
    "Adoption Precision: 75.08%\n",
    "Adoption Recall: 92.8%\n",
    "\n",
    "first move - going down to .13 learning rate from .15\n",
    "\n",
    "Training data accuracy: 83.966%\n",
    "Testing data accuracy: 80.467%\n",
    "Return to Owner Precision: 92.3%\n",
    "Return to Owner Recall: 82.44%\n",
    "Adoption Precision: 75.13%\n",
    "Adoption Recall: 92.91%\n",
    "\n",
    "Seemed to improve everything aside from rto recall.  trying 6 max depth\n",
    "Training data accuracy: 82.672%\n",
    "Testing data accuracy: 80.361%\n",
    "Return to Owner Precision: 91.82%\n",
    "Return to Owner Recall: 82.57%\n",
    "Adoption Precision: 74.8%\n",
    "Adoption Recall: 93.29%\n",
    "\n",
    "Interesting, let's try 5 max depth now. . . \n",
    "Training data accuracy: 81.638%\n",
    "Testing data accuracy: 80.179%\n",
    "Return to Owner Precision: 91.9%\n",
    "Return to Owner Recall: 82.27%\n",
    "Adoption Precision: 74.41%\n",
    "Adoption Recall: 93.75%\n",
    "\n",
    "Nope, trying 6 depth with .1 lr now\n",
    "Training data accuracy: 82.088%\n",
    "Testing data accuracy: 80.347%\n",
    "Return to Owner Precision: 92.17%\n",
    "Return to Owner Recall: 82.54%\n",
    "Adoption Precision: 74.54%\n",
    "Adoption Recall: 93.65%"
   ]
  },
  {
   "cell_type": "code",
   "execution_count": null,
   "metadata": {},
   "outputs": [],
   "source": []
  },
  {
   "cell_type": "markdown",
   "metadata": {},
   "source": [
    "# Model Comp:"
   ]
  },
  {
   "cell_type": "code",
   "execution_count": 70,
   "metadata": {
    "scrolled": true
   },
   "outputs": [
    {
     "data": {
      "text/html": [
       "<style  type=\"text/css\" >\n",
       "    #T_67423206_e510_11ea_aa9d_28cfe91b0227row0_col1 {\n",
       "            background-color:  #1c6bb0;\n",
       "            color:  #f1f1f1;\n",
       "        }    #T_67423206_e510_11ea_aa9d_28cfe91b0227row0_col2 {\n",
       "            background-color:  #08519c;\n",
       "            color:  #f1f1f1;\n",
       "        }    #T_67423206_e510_11ea_aa9d_28cfe91b0227row0_col3 {\n",
       "            background-color:  #08306b;\n",
       "            color:  #f1f1f1;\n",
       "        }    #T_67423206_e510_11ea_aa9d_28cfe91b0227row0_col4 {\n",
       "            background-color:  #dae8f6;\n",
       "            color:  #000000;\n",
       "        }    #T_67423206_e510_11ea_aa9d_28cfe91b0227row0_col5 {\n",
       "            background-color:  #2e7ebc;\n",
       "            color:  #000000;\n",
       "        }    #T_67423206_e510_11ea_aa9d_28cfe91b0227row0_col6 {\n",
       "            background-color:  #4997c9;\n",
       "            color:  #000000;\n",
       "        }    #T_67423206_e510_11ea_aa9d_28cfe91b0227row1_col1 {\n",
       "            background-color:  #85bcdc;\n",
       "            color:  #000000;\n",
       "        }    #T_67423206_e510_11ea_aa9d_28cfe91b0227row1_col2 {\n",
       "            background-color:  #549fcd;\n",
       "            color:  #000000;\n",
       "        }    #T_67423206_e510_11ea_aa9d_28cfe91b0227row1_col3 {\n",
       "            background-color:  #084c95;\n",
       "            color:  #f1f1f1;\n",
       "        }    #T_67423206_e510_11ea_aa9d_28cfe91b0227row1_col4 {\n",
       "            background-color:  #f7fbff;\n",
       "            color:  #000000;\n",
       "        }    #T_67423206_e510_11ea_aa9d_28cfe91b0227row1_col5 {\n",
       "            background-color:  #f7fbff;\n",
       "            color:  #000000;\n",
       "        }    #T_67423206_e510_11ea_aa9d_28cfe91b0227row1_col6 {\n",
       "            background-color:  #08306b;\n",
       "            color:  #f1f1f1;\n",
       "        }    #T_67423206_e510_11ea_aa9d_28cfe91b0227row2_col1 {\n",
       "            background-color:  #f7fbff;\n",
       "            color:  #000000;\n",
       "        }    #T_67423206_e510_11ea_aa9d_28cfe91b0227row2_col2 {\n",
       "            background-color:  #f7fbff;\n",
       "            color:  #000000;\n",
       "        }    #T_67423206_e510_11ea_aa9d_28cfe91b0227row2_col3 {\n",
       "            background-color:  #f7fbff;\n",
       "            color:  #000000;\n",
       "        }    #T_67423206_e510_11ea_aa9d_28cfe91b0227row2_col4 {\n",
       "            background-color:  #08306b;\n",
       "            color:  #f1f1f1;\n",
       "        }    #T_67423206_e510_11ea_aa9d_28cfe91b0227row2_col5 {\n",
       "            background-color:  #f7fbff;\n",
       "            color:  #000000;\n",
       "        }    #T_67423206_e510_11ea_aa9d_28cfe91b0227row2_col6 {\n",
       "            background-color:  #f7fbff;\n",
       "            color:  #000000;\n",
       "        }    #T_67423206_e510_11ea_aa9d_28cfe91b0227row3_col1 {\n",
       "            background-color:  #08306b;\n",
       "            color:  #f1f1f1;\n",
       "        }    #T_67423206_e510_11ea_aa9d_28cfe91b0227row3_col2 {\n",
       "            background-color:  #08306b;\n",
       "            color:  #f1f1f1;\n",
       "        }    #T_67423206_e510_11ea_aa9d_28cfe91b0227row3_col3 {\n",
       "            background-color:  #083573;\n",
       "            color:  #f1f1f1;\n",
       "        }    #T_67423206_e510_11ea_aa9d_28cfe91b0227row3_col4 {\n",
       "            background-color:  #2474b7;\n",
       "            color:  #f1f1f1;\n",
       "        }    #T_67423206_e510_11ea_aa9d_28cfe91b0227row3_col5 {\n",
       "            background-color:  #08306b;\n",
       "            color:  #f1f1f1;\n",
       "        }    #T_67423206_e510_11ea_aa9d_28cfe91b0227row3_col6 {\n",
       "            background-color:  #68acd5;\n",
       "            color:  #000000;\n",
       "        }    #T_67423206_e510_11ea_aa9d_28cfe91b0227row4_col1 {\n",
       "            background-color:  #08306b;\n",
       "            color:  #f1f1f1;\n",
       "        }    #T_67423206_e510_11ea_aa9d_28cfe91b0227row4_col2 {\n",
       "            background-color:  #08306b;\n",
       "            color:  #f1f1f1;\n",
       "        }    #T_67423206_e510_11ea_aa9d_28cfe91b0227row4_col3 {\n",
       "            background-color:  #083573;\n",
       "            color:  #f1f1f1;\n",
       "        }    #T_67423206_e510_11ea_aa9d_28cfe91b0227row4_col4 {\n",
       "            background-color:  #2474b7;\n",
       "            color:  #f1f1f1;\n",
       "        }    #T_67423206_e510_11ea_aa9d_28cfe91b0227row4_col5 {\n",
       "            background-color:  #08306b;\n",
       "            color:  #f1f1f1;\n",
       "        }    #T_67423206_e510_11ea_aa9d_28cfe91b0227row4_col6 {\n",
       "            background-color:  #68acd5;\n",
       "            color:  #000000;\n",
       "        }</style><table id=\"T_67423206_e510_11ea_aa9d_28cfe91b0227\" ><thead>    <tr>        <th class=\"blank level0\" ></th>        <th class=\"col_heading level0 col0\" >Model</th>        <th class=\"col_heading level0 col1\" >Training Accuracy</th>        <th class=\"col_heading level0 col2\" >Testing Accuracy</th>        <th class=\"col_heading level0 col3\" >RTO Precision</th>        <th class=\"col_heading level0 col4\" >RTO Recall</th>        <th class=\"col_heading level0 col5\" >Adoption Precision</th>        <th class=\"col_heading level0 col6\" >Adoption Recall</th>    </tr></thead><tbody>\n",
       "                <tr>\n",
       "                        <th id=\"T_67423206_e510_11ea_aa9d_28cfe91b0227level0_row0\" class=\"row_heading level0 row0\" >0</th>\n",
       "                        <td id=\"T_67423206_e510_11ea_aa9d_28cfe91b0227row0_col0\" class=\"data row0 col0\" >First Tree</td>\n",
       "                        <td id=\"T_67423206_e510_11ea_aa9d_28cfe91b0227row0_col1\" class=\"data row0 col1\" >0.803</td>\n",
       "                        <td id=\"T_67423206_e510_11ea_aa9d_28cfe91b0227row0_col2\" class=\"data row0 col2\" >0.793</td>\n",
       "                        <td id=\"T_67423206_e510_11ea_aa9d_28cfe91b0227row0_col3\" class=\"data row0 col3\" >0.923</td>\n",
       "                        <td id=\"T_67423206_e510_11ea_aa9d_28cfe91b0227row0_col4\" class=\"data row0 col4\" >0.805</td>\n",
       "                        <td id=\"T_67423206_e510_11ea_aa9d_28cfe91b0227row0_col5\" class=\"data row0 col5\" >0.732</td>\n",
       "                        <td id=\"T_67423206_e510_11ea_aa9d_28cfe91b0227row0_col6\" class=\"data row0 col6\" >0.94</td>\n",
       "            </tr>\n",
       "            <tr>\n",
       "                        <th id=\"T_67423206_e510_11ea_aa9d_28cfe91b0227level0_row1\" class=\"row_heading level0 row1\" >1</th>\n",
       "                        <td id=\"T_67423206_e510_11ea_aa9d_28cfe91b0227row1_col0\" class=\"data row1 col0\" >Second Tree</td>\n",
       "                        <td id=\"T_67423206_e510_11ea_aa9d_28cfe91b0227row1_col1\" class=\"data row1 col1\" >0.765</td>\n",
       "                        <td id=\"T_67423206_e510_11ea_aa9d_28cfe91b0227row1_col2\" class=\"data row1 col2\" >0.767</td>\n",
       "                        <td id=\"T_67423206_e510_11ea_aa9d_28cfe91b0227row1_col3\" class=\"data row1 col3\" >0.896</td>\n",
       "                        <td id=\"T_67423206_e510_11ea_aa9d_28cfe91b0227row1_col4\" class=\"data row1 col4\" >0.8</td>\n",
       "                        <td id=\"T_67423206_e510_11ea_aa9d_28cfe91b0227row1_col5\" class=\"data row1 col5\" >0.692</td>\n",
       "                        <td id=\"T_67423206_e510_11ea_aa9d_28cfe91b0227row1_col6\" class=\"data row1 col6\" >0.975</td>\n",
       "            </tr>\n",
       "            <tr>\n",
       "                        <th id=\"T_67423206_e510_11ea_aa9d_28cfe91b0227level0_row2\" class=\"row_heading level0 row2\" >2</th>\n",
       "                        <td id=\"T_67423206_e510_11ea_aa9d_28cfe91b0227row2_col0\" class=\"data row2 col0\" >Third Tree</td>\n",
       "                        <td id=\"T_67423206_e510_11ea_aa9d_28cfe91b0227row2_col1\" class=\"data row2 col1\" >0.716</td>\n",
       "                        <td id=\"T_67423206_e510_11ea_aa9d_28cfe91b0227row2_col2\" class=\"data row2 col2\" >0.718</td>\n",
       "                        <td id=\"T_67423206_e510_11ea_aa9d_28cfe91b0227row2_col3\" class=\"data row2 col3\" >0.669</td>\n",
       "                        <td id=\"T_67423206_e510_11ea_aa9d_28cfe91b0227row2_col4\" class=\"data row2 col4\" >0.834</td>\n",
       "                        <td id=\"T_67423206_e510_11ea_aa9d_28cfe91b0227row2_col5\" class=\"data row2 col5\" >0.692</td>\n",
       "                        <td id=\"T_67423206_e510_11ea_aa9d_28cfe91b0227row2_col6\" class=\"data row2 col6\" >0.887</td>\n",
       "            </tr>\n",
       "            <tr>\n",
       "                        <th id=\"T_67423206_e510_11ea_aa9d_28cfe91b0227level0_row3\" class=\"row_heading level0 row3\" >3</th>\n",
       "                        <td id=\"T_67423206_e510_11ea_aa9d_28cfe91b0227row3_col0\" class=\"data row3 col0\" >XG Boost 2</td>\n",
       "                        <td id=\"T_67423206_e510_11ea_aa9d_28cfe91b0227row3_col1\" class=\"data row3 col1\" >0.829</td>\n",
       "                        <td id=\"T_67423206_e510_11ea_aa9d_28cfe91b0227row3_col2\" class=\"data row3 col2\" >0.804</td>\n",
       "                        <td id=\"T_67423206_e510_11ea_aa9d_28cfe91b0227row3_col3\" class=\"data row3 col3\" >0.918</td>\n",
       "                        <td id=\"T_67423206_e510_11ea_aa9d_28cfe91b0227row3_col4\" class=\"data row3 col4\" >0.825</td>\n",
       "                        <td id=\"T_67423206_e510_11ea_aa9d_28cfe91b0227row3_col5\" class=\"data row3 col5\" >0.749</td>\n",
       "                        <td id=\"T_67423206_e510_11ea_aa9d_28cfe91b0227row3_col6\" class=\"data row3 col6\" >0.932</td>\n",
       "            </tr>\n",
       "            <tr>\n",
       "                        <th id=\"T_67423206_e510_11ea_aa9d_28cfe91b0227level0_row4\" class=\"row_heading level0 row4\" >4</th>\n",
       "                        <td id=\"T_67423206_e510_11ea_aa9d_28cfe91b0227row4_col0\" class=\"data row4 col0\" >xg_with_scaling</td>\n",
       "                        <td id=\"T_67423206_e510_11ea_aa9d_28cfe91b0227row4_col1\" class=\"data row4 col1\" >0.829</td>\n",
       "                        <td id=\"T_67423206_e510_11ea_aa9d_28cfe91b0227row4_col2\" class=\"data row4 col2\" >0.804</td>\n",
       "                        <td id=\"T_67423206_e510_11ea_aa9d_28cfe91b0227row4_col3\" class=\"data row4 col3\" >0.918</td>\n",
       "                        <td id=\"T_67423206_e510_11ea_aa9d_28cfe91b0227row4_col4\" class=\"data row4 col4\" >0.825</td>\n",
       "                        <td id=\"T_67423206_e510_11ea_aa9d_28cfe91b0227row4_col5\" class=\"data row4 col5\" >0.749</td>\n",
       "                        <td id=\"T_67423206_e510_11ea_aa9d_28cfe91b0227row4_col6\" class=\"data row4 col6\" >0.932</td>\n",
       "            </tr>\n",
       "    </tbody></table>"
      ],
      "text/plain": [
       "<pandas.io.formats.style.Styler at 0x1a258a6be0>"
      ]
     },
     "execution_count": 70,
     "metadata": {},
     "output_type": "execute_result"
    }
   ],
   "source": [
    "model_comparison = pd.DataFrame({'Model': model_names,\n",
    "                                 'Training Accuracy': train_accuracies,\n",
    "                                 'Testing Accuracy': test_accuracies,\n",
    "                                 'RTO Precision': rto_precisions,\n",
    "                                 'RTO Recall': rto_recalls,\n",
    "                                 'Adoption Precision': adopt_precisions,\n",
    "                                 'Adoption Recall': adopt_recalls})\n",
    "model_comparison.style.background_gradient(cmap='Blues')"
   ]
  },
  {
   "cell_type": "code",
   "execution_count": null,
   "metadata": {},
   "outputs": [],
   "source": []
  },
  {
   "cell_type": "code",
   "execution_count": null,
   "metadata": {},
   "outputs": [],
   "source": []
  },
  {
   "cell_type": "code",
   "execution_count": null,
   "metadata": {},
   "outputs": [],
   "source": []
  },
  {
   "cell_type": "code",
   "execution_count": null,
   "metadata": {},
   "outputs": [],
   "source": []
  }
 ],
 "metadata": {
  "kernelspec": {
   "display_name": "Python 3",
   "language": "python",
   "name": "python3"
  },
  "language_info": {
   "codemirror_mode": {
    "name": "ipython",
    "version": 3
   },
   "file_extension": ".py",
   "mimetype": "text/x-python",
   "name": "python",
   "nbconvert_exporter": "python",
   "pygments_lexer": "ipython3",
   "version": "3.6.9"
  },
  "toc": {
   "base_numbering": 1,
   "nav_menu": {},
   "number_sections": true,
   "sideBar": true,
   "skip_h1_title": false,
   "title_cell": "Table of Contents",
   "title_sidebar": "Contents",
   "toc_cell": false,
   "toc_position": {},
   "toc_section_display": true,
   "toc_window_display": true
  }
 },
 "nbformat": 4,
 "nbformat_minor": 2
}
