{
 "cells": [
  {
   "cell_type": "markdown",
   "metadata": {},
   "source": [
    "## Final Project Submission\n",
    "\n",
    "Please fill out:\n",
    "* Student name: Thomas Brown\n",
    "* Student pace: Full Time\n",
    "* Scheduled project review date/time: Monday 8/24\n",
    "* Instructor name: Abhineet Kulkarni\n",
    "* Blog post URL: https://thomaskbrown18.github.io/reuniting_pets_and_owners_with_machine_learning\n"
   ]
  },
  {
   "cell_type": "markdown",
   "metadata": {},
   "source": [
    "## Description and Use-Case:"
   ]
  },
  {
   "cell_type": "markdown",
   "metadata": {},
   "source": [
    "Data Source: https://www.kaggle.com/aaronschlegel/austin-animal-center-shelter-intakes-and-outcomes?select=aac_intakes_outcomes.csv\n",
    "\n",
    "The purpose of this project is to examine data from one of Austin's largest animal shelters and build a machine learning model to predict outcomes of animals as they come in and are processed in the system.  An efficient and intelligent model can help \"manage the inventory\" of the shelter and get animals adopted more quickly or returned to their owners more quickly when applicable.  <br><br>\n",
    "The outcomes are listed below:\n",
    "- Transfer           \n",
    "- Adoption           \n",
    "- Euthanasia        \n",
    "- Return to Owner     \n",
    "- Died                 \n",
    "- Rto-Adopt\n",
    "- Missing\n",
    "- Disposal  <br>\n",
    "\n",
    "We'll explore these outcomes (as well as the sub categories) in the EDA phase, but with an effective model, we can run the shelter more efficiently leading to happier animals and shelter employees!"
   ]
  },
  {
   "cell_type": "markdown",
   "metadata": {},
   "source": [
    "Stakeholders: The stakeholders for this project are both the Austin Animal Center and shelters everywhere. The employees of this shelter could benefit from an algorithm that would tell them with reasonable certainty which animals have owners actively searching for them.  With that knowledge, these pets can get out of the shelter much more quickly."
   ]
  },
  {
   "cell_type": "markdown",
   "metadata": {},
   "source": [
    "Goal: Maximum recall when it comes to the 'return to owner' outcome. We want to be certain that we are giving maximum exposure to pets that need to be returned to their families. At the same time, though, we need to give exposure to animals that are likely to be adopted as well.  Maximum recall for RTO cannot be our only objective, though.  We need accuracy throughout the entire model to make sure we aren't biased towards one outcome or another."
   ]
  },
  {
   "cell_type": "markdown",
   "metadata": {},
   "source": [
    "Success Criteria: \n",
    "- Easy to understand/use machine learning model\n",
    "- Easy to implement algorithm\n",
    "- High recall when it comes to pets that can be returned to families\n",
    "- High recall for pets that are adopted\n",
    "- High accuracy for the model as a whole\n"
   ]
  },
  {
   "cell_type": "markdown",
   "metadata": {},
   "source": [
    "# Importing Libraries:"
   ]
  },
  {
   "cell_type": "code",
   "execution_count": 1,
   "metadata": {},
   "outputs": [
    {
     "name": "stderr",
     "output_type": "stream",
     "text": [
      "/Users/Thomas/opt/anaconda3/envs/learn-env/lib/python3.6/site-packages/sklearn/externals/six.py:31: DeprecationWarning: The module is deprecated in version 0.21 and will be removed in version 0.23 since we've dropped support for Python 2.7. Please rely on the official version of six (https://pypi.org/project/six/).\n",
      "  \"(https://pypi.org/project/six/).\", DeprecationWarning)\n"
     ]
    }
   ],
   "source": [
    "# Standard Data-sci packages:\n",
    "import pandas as pd\n",
    "import numpy as np\n",
    "\n",
    "# Scikit-Learn:\n",
    "from sklearn.preprocessing import StandardScaler\n",
    "from sklearn.neighbors import KNeighborsClassifier\n",
    "from sklearn.model_selection import train_test_split, GridSearchCV\n",
    "from sklearn.ensemble import RandomForestClassifier\n",
    "from sklearn.tree import DecisionTreeClassifier\n",
    "from sklearn.ensemble import AdaBoostClassifier, GradientBoostingClassifier\n",
    "from sklearn.pipeline import Pipeline\n",
    "from sklearn.metrics import precision_score, recall_score, confusion_matrix, classification_report, accuracy_score, f1_score\n",
    "from sklearn import svm\n",
    "from sklearn import tree\n",
    "\n",
    "# Sampling:\n",
    "from imblearn.over_sampling import SMOTE, ADASYN\n",
    "\n",
    "# XGBoost:\n",
    "import xgboost as xgb\n",
    "\n",
    "# Plots and Graphs:\n",
    "import seaborn as sns\n",
    "import matplotlib.pyplot as plt\n",
    "import plotly.express as px\n",
    "import scikitplot as skplt \n",
    "%matplotlib inline\n",
    "\n",
    "# Other:\n",
    "import warnings\n",
    "warnings.filterwarnings('ignore')\n",
    "# So we can see all columns:\n",
    "pd.set_option('display.max_columns', None)\n"
   ]
  },
  {
   "cell_type": "markdown",
   "metadata": {},
   "source": [
    "# Importing Data:"
   ]
  },
  {
   "cell_type": "markdown",
   "metadata": {},
   "source": [
    "## Main DF:"
   ]
  },
  {
   "cell_type": "code",
   "execution_count": 2,
   "metadata": {},
   "outputs": [
    {
     "data": {
      "text/html": [
       "<div>\n",
       "<style scoped>\n",
       "    .dataframe tbody tr th:only-of-type {\n",
       "        vertical-align: middle;\n",
       "    }\n",
       "\n",
       "    .dataframe tbody tr th {\n",
       "        vertical-align: top;\n",
       "    }\n",
       "\n",
       "    .dataframe thead th {\n",
       "        text-align: right;\n",
       "    }\n",
       "</style>\n",
       "<table border=\"1\" class=\"dataframe\">\n",
       "  <thead>\n",
       "    <tr style=\"text-align: right;\">\n",
       "      <th></th>\n",
       "      <th>age_upon_outcome</th>\n",
       "      <th>animal_id_outcome</th>\n",
       "      <th>date_of_birth</th>\n",
       "      <th>outcome_subtype</th>\n",
       "      <th>outcome_type</th>\n",
       "      <th>sex_upon_outcome</th>\n",
       "      <th>age_upon_outcome_(days)</th>\n",
       "      <th>age_upon_outcome_(years)</th>\n",
       "      <th>age_upon_outcome_age_group</th>\n",
       "      <th>outcome_datetime</th>\n",
       "      <th>outcome_month</th>\n",
       "      <th>outcome_year</th>\n",
       "      <th>outcome_monthyear</th>\n",
       "      <th>outcome_weekday</th>\n",
       "      <th>outcome_hour</th>\n",
       "      <th>outcome_number</th>\n",
       "      <th>dob_year</th>\n",
       "      <th>dob_month</th>\n",
       "      <th>dob_monthyear</th>\n",
       "      <th>age_upon_intake</th>\n",
       "      <th>animal_id_intake</th>\n",
       "      <th>animal_type</th>\n",
       "      <th>breed</th>\n",
       "      <th>color</th>\n",
       "      <th>found_location</th>\n",
       "      <th>intake_condition</th>\n",
       "      <th>intake_type</th>\n",
       "      <th>sex_upon_intake</th>\n",
       "      <th>count</th>\n",
       "      <th>age_upon_intake_(days)</th>\n",
       "      <th>age_upon_intake_(years)</th>\n",
       "      <th>age_upon_intake_age_group</th>\n",
       "      <th>intake_datetime</th>\n",
       "      <th>intake_month</th>\n",
       "      <th>intake_year</th>\n",
       "      <th>intake_monthyear</th>\n",
       "      <th>intake_weekday</th>\n",
       "      <th>intake_hour</th>\n",
       "      <th>intake_number</th>\n",
       "      <th>time_in_shelter</th>\n",
       "      <th>time_in_shelter_days</th>\n",
       "    </tr>\n",
       "  </thead>\n",
       "  <tbody>\n",
       "    <tr>\n",
       "      <td>0</td>\n",
       "      <td>10 years</td>\n",
       "      <td>A006100</td>\n",
       "      <td>2007-07-09 00:00:00</td>\n",
       "      <td>NaN</td>\n",
       "      <td>Return to Owner</td>\n",
       "      <td>Neutered Male</td>\n",
       "      <td>3650</td>\n",
       "      <td>10.0</td>\n",
       "      <td>(7.5, 10.0]</td>\n",
       "      <td>2017-12-07 14:07:00</td>\n",
       "      <td>12</td>\n",
       "      <td>2017</td>\n",
       "      <td>2017-12</td>\n",
       "      <td>Thursday</td>\n",
       "      <td>0</td>\n",
       "      <td>1.0</td>\n",
       "      <td>2007</td>\n",
       "      <td>7</td>\n",
       "      <td>2017-12</td>\n",
       "      <td>10 years</td>\n",
       "      <td>A006100</td>\n",
       "      <td>Dog</td>\n",
       "      <td>Spinone Italiano Mix</td>\n",
       "      <td>Yellow/White</td>\n",
       "      <td>Colony Creek And Hunters Trace in Austin (TX)</td>\n",
       "      <td>Normal</td>\n",
       "      <td>Stray</td>\n",
       "      <td>Neutered Male</td>\n",
       "      <td>1</td>\n",
       "      <td>3650</td>\n",
       "      <td>10.0</td>\n",
       "      <td>(7.5, 10.0]</td>\n",
       "      <td>2017-12-07 00:00:00</td>\n",
       "      <td>12</td>\n",
       "      <td>2017</td>\n",
       "      <td>2017-12</td>\n",
       "      <td>Thursday</td>\n",
       "      <td>14</td>\n",
       "      <td>1.0</td>\n",
       "      <td>0 days 14:07:00.000000000</td>\n",
       "      <td>0.588194</td>\n",
       "    </tr>\n",
       "    <tr>\n",
       "      <td>1</td>\n",
       "      <td>7 years</td>\n",
       "      <td>A006100</td>\n",
       "      <td>2007-07-09 00:00:00</td>\n",
       "      <td>NaN</td>\n",
       "      <td>Return to Owner</td>\n",
       "      <td>Neutered Male</td>\n",
       "      <td>2555</td>\n",
       "      <td>7.0</td>\n",
       "      <td>(5.0, 7.5]</td>\n",
       "      <td>2014-12-20 16:35:00</td>\n",
       "      <td>12</td>\n",
       "      <td>2014</td>\n",
       "      <td>2014-12</td>\n",
       "      <td>Saturday</td>\n",
       "      <td>16</td>\n",
       "      <td>2.0</td>\n",
       "      <td>2007</td>\n",
       "      <td>7</td>\n",
       "      <td>2014-12</td>\n",
       "      <td>7 years</td>\n",
       "      <td>A006100</td>\n",
       "      <td>Dog</td>\n",
       "      <td>Spinone Italiano Mix</td>\n",
       "      <td>Yellow/White</td>\n",
       "      <td>8700 Research Blvd in Austin (TX)</td>\n",
       "      <td>Normal</td>\n",
       "      <td>Public Assist</td>\n",
       "      <td>Neutered Male</td>\n",
       "      <td>1</td>\n",
       "      <td>2555</td>\n",
       "      <td>7.0</td>\n",
       "      <td>(5.0, 7.5]</td>\n",
       "      <td>2014-12-19 10:21:00</td>\n",
       "      <td>12</td>\n",
       "      <td>2014</td>\n",
       "      <td>2014-12</td>\n",
       "      <td>Friday</td>\n",
       "      <td>10</td>\n",
       "      <td>2.0</td>\n",
       "      <td>1 days 06:14:00.000000000</td>\n",
       "      <td>1.259722</td>\n",
       "    </tr>\n",
       "    <tr>\n",
       "      <td>2</td>\n",
       "      <td>6 years</td>\n",
       "      <td>A006100</td>\n",
       "      <td>2007-07-09 00:00:00</td>\n",
       "      <td>NaN</td>\n",
       "      <td>Return to Owner</td>\n",
       "      <td>Neutered Male</td>\n",
       "      <td>2190</td>\n",
       "      <td>6.0</td>\n",
       "      <td>(5.0, 7.5]</td>\n",
       "      <td>2014-03-08 17:10:00</td>\n",
       "      <td>3</td>\n",
       "      <td>2014</td>\n",
       "      <td>2014-03</td>\n",
       "      <td>Saturday</td>\n",
       "      <td>17</td>\n",
       "      <td>3.0</td>\n",
       "      <td>2007</td>\n",
       "      <td>7</td>\n",
       "      <td>2014-03</td>\n",
       "      <td>6 years</td>\n",
       "      <td>A006100</td>\n",
       "      <td>Dog</td>\n",
       "      <td>Spinone Italiano Mix</td>\n",
       "      <td>Yellow/White</td>\n",
       "      <td>8700 Research in Austin (TX)</td>\n",
       "      <td>Normal</td>\n",
       "      <td>Public Assist</td>\n",
       "      <td>Neutered Male</td>\n",
       "      <td>1</td>\n",
       "      <td>2190</td>\n",
       "      <td>6.0</td>\n",
       "      <td>(5.0, 7.5]</td>\n",
       "      <td>2014-03-07 14:26:00</td>\n",
       "      <td>3</td>\n",
       "      <td>2014</td>\n",
       "      <td>2014-03</td>\n",
       "      <td>Friday</td>\n",
       "      <td>14</td>\n",
       "      <td>3.0</td>\n",
       "      <td>1 days 02:44:00.000000000</td>\n",
       "      <td>1.113889</td>\n",
       "    </tr>\n",
       "    <tr>\n",
       "      <td>3</td>\n",
       "      <td>10 years</td>\n",
       "      <td>A047759</td>\n",
       "      <td>2004-04-02 00:00:00</td>\n",
       "      <td>Partner</td>\n",
       "      <td>Transfer</td>\n",
       "      <td>Neutered Male</td>\n",
       "      <td>3650</td>\n",
       "      <td>10.0</td>\n",
       "      <td>(7.5, 10.0]</td>\n",
       "      <td>2014-04-07 15:12:00</td>\n",
       "      <td>4</td>\n",
       "      <td>2014</td>\n",
       "      <td>2014-04</td>\n",
       "      <td>Monday</td>\n",
       "      <td>15</td>\n",
       "      <td>1.0</td>\n",
       "      <td>2004</td>\n",
       "      <td>4</td>\n",
       "      <td>2014-04</td>\n",
       "      <td>10 years</td>\n",
       "      <td>A047759</td>\n",
       "      <td>Dog</td>\n",
       "      <td>Dachshund</td>\n",
       "      <td>Tricolor</td>\n",
       "      <td>Austin (TX)</td>\n",
       "      <td>Normal</td>\n",
       "      <td>Owner Surrender</td>\n",
       "      <td>Neutered Male</td>\n",
       "      <td>1</td>\n",
       "      <td>3650</td>\n",
       "      <td>10.0</td>\n",
       "      <td>(7.5, 10.0]</td>\n",
       "      <td>2014-04-02 15:55:00</td>\n",
       "      <td>4</td>\n",
       "      <td>2014</td>\n",
       "      <td>2014-04</td>\n",
       "      <td>Wednesday</td>\n",
       "      <td>15</td>\n",
       "      <td>1.0</td>\n",
       "      <td>4 days 23:17:00.000000000</td>\n",
       "      <td>4.970139</td>\n",
       "    </tr>\n",
       "    <tr>\n",
       "      <td>4</td>\n",
       "      <td>16 years</td>\n",
       "      <td>A134067</td>\n",
       "      <td>1997-10-16 00:00:00</td>\n",
       "      <td>NaN</td>\n",
       "      <td>Return to Owner</td>\n",
       "      <td>Neutered Male</td>\n",
       "      <td>5840</td>\n",
       "      <td>16.0</td>\n",
       "      <td>(15.0, 17.5]</td>\n",
       "      <td>2013-11-16 11:54:00</td>\n",
       "      <td>11</td>\n",
       "      <td>2013</td>\n",
       "      <td>2013-11</td>\n",
       "      <td>Saturday</td>\n",
       "      <td>11</td>\n",
       "      <td>1.0</td>\n",
       "      <td>1997</td>\n",
       "      <td>10</td>\n",
       "      <td>2013-11</td>\n",
       "      <td>16 years</td>\n",
       "      <td>A134067</td>\n",
       "      <td>Dog</td>\n",
       "      <td>Shetland Sheepdog</td>\n",
       "      <td>Brown/White</td>\n",
       "      <td>12034 Research Blvd in Austin (TX)</td>\n",
       "      <td>Injured</td>\n",
       "      <td>Public Assist</td>\n",
       "      <td>Neutered Male</td>\n",
       "      <td>1</td>\n",
       "      <td>5840</td>\n",
       "      <td>16.0</td>\n",
       "      <td>(15.0, 17.5]</td>\n",
       "      <td>2013-11-16 09:02:00</td>\n",
       "      <td>11</td>\n",
       "      <td>2013</td>\n",
       "      <td>2013-11</td>\n",
       "      <td>Saturday</td>\n",
       "      <td>9</td>\n",
       "      <td>1.0</td>\n",
       "      <td>0 days 02:52:00.000000000</td>\n",
       "      <td>0.119444</td>\n",
       "    </tr>\n",
       "  </tbody>\n",
       "</table>\n",
       "</div>"
      ],
      "text/plain": [
       "  age_upon_outcome animal_id_outcome        date_of_birth outcome_subtype  \\\n",
       "0         10 years           A006100  2007-07-09 00:00:00             NaN   \n",
       "1          7 years           A006100  2007-07-09 00:00:00             NaN   \n",
       "2          6 years           A006100  2007-07-09 00:00:00             NaN   \n",
       "3         10 years           A047759  2004-04-02 00:00:00         Partner   \n",
       "4         16 years           A134067  1997-10-16 00:00:00             NaN   \n",
       "\n",
       "      outcome_type sex_upon_outcome  age_upon_outcome_(days)  \\\n",
       "0  Return to Owner    Neutered Male                     3650   \n",
       "1  Return to Owner    Neutered Male                     2555   \n",
       "2  Return to Owner    Neutered Male                     2190   \n",
       "3         Transfer    Neutered Male                     3650   \n",
       "4  Return to Owner    Neutered Male                     5840   \n",
       "\n",
       "   age_upon_outcome_(years) age_upon_outcome_age_group     outcome_datetime  \\\n",
       "0                      10.0                (7.5, 10.0]  2017-12-07 14:07:00   \n",
       "1                       7.0                 (5.0, 7.5]  2014-12-20 16:35:00   \n",
       "2                       6.0                 (5.0, 7.5]  2014-03-08 17:10:00   \n",
       "3                      10.0                (7.5, 10.0]  2014-04-07 15:12:00   \n",
       "4                      16.0               (15.0, 17.5]  2013-11-16 11:54:00   \n",
       "\n",
       "   outcome_month  outcome_year outcome_monthyear outcome_weekday  \\\n",
       "0             12          2017           2017-12        Thursday   \n",
       "1             12          2014           2014-12        Saturday   \n",
       "2              3          2014           2014-03        Saturday   \n",
       "3              4          2014           2014-04          Monday   \n",
       "4             11          2013           2013-11        Saturday   \n",
       "\n",
       "   outcome_hour  outcome_number  dob_year  dob_month dob_monthyear  \\\n",
       "0             0             1.0      2007          7       2017-12   \n",
       "1            16             2.0      2007          7       2014-12   \n",
       "2            17             3.0      2007          7       2014-03   \n",
       "3            15             1.0      2004          4       2014-04   \n",
       "4            11             1.0      1997         10       2013-11   \n",
       "\n",
       "  age_upon_intake animal_id_intake animal_type                 breed  \\\n",
       "0        10 years          A006100         Dog  Spinone Italiano Mix   \n",
       "1         7 years          A006100         Dog  Spinone Italiano Mix   \n",
       "2         6 years          A006100         Dog  Spinone Italiano Mix   \n",
       "3        10 years          A047759         Dog             Dachshund   \n",
       "4        16 years          A134067         Dog     Shetland Sheepdog   \n",
       "\n",
       "          color                                 found_location  \\\n",
       "0  Yellow/White  Colony Creek And Hunters Trace in Austin (TX)   \n",
       "1  Yellow/White              8700 Research Blvd in Austin (TX)   \n",
       "2  Yellow/White                   8700 Research in Austin (TX)   \n",
       "3      Tricolor                                    Austin (TX)   \n",
       "4   Brown/White             12034 Research Blvd in Austin (TX)   \n",
       "\n",
       "  intake_condition      intake_type sex_upon_intake  count  \\\n",
       "0           Normal            Stray   Neutered Male      1   \n",
       "1           Normal    Public Assist   Neutered Male      1   \n",
       "2           Normal    Public Assist   Neutered Male      1   \n",
       "3           Normal  Owner Surrender   Neutered Male      1   \n",
       "4          Injured    Public Assist   Neutered Male      1   \n",
       "\n",
       "   age_upon_intake_(days)  age_upon_intake_(years) age_upon_intake_age_group  \\\n",
       "0                    3650                     10.0               (7.5, 10.0]   \n",
       "1                    2555                      7.0                (5.0, 7.5]   \n",
       "2                    2190                      6.0                (5.0, 7.5]   \n",
       "3                    3650                     10.0               (7.5, 10.0]   \n",
       "4                    5840                     16.0              (15.0, 17.5]   \n",
       "\n",
       "       intake_datetime  intake_month  intake_year intake_monthyear  \\\n",
       "0  2017-12-07 00:00:00            12         2017          2017-12   \n",
       "1  2014-12-19 10:21:00            12         2014          2014-12   \n",
       "2  2014-03-07 14:26:00             3         2014          2014-03   \n",
       "3  2014-04-02 15:55:00             4         2014          2014-04   \n",
       "4  2013-11-16 09:02:00            11         2013          2013-11   \n",
       "\n",
       "  intake_weekday  intake_hour  intake_number            time_in_shelter  \\\n",
       "0       Thursday           14            1.0  0 days 14:07:00.000000000   \n",
       "1         Friday           10            2.0  1 days 06:14:00.000000000   \n",
       "2         Friday           14            3.0  1 days 02:44:00.000000000   \n",
       "3      Wednesday           15            1.0  4 days 23:17:00.000000000   \n",
       "4       Saturday            9            1.0  0 days 02:52:00.000000000   \n",
       "\n",
       "   time_in_shelter_days  \n",
       "0              0.588194  \n",
       "1              1.259722  \n",
       "2              1.113889  \n",
       "3              4.970139  \n",
       "4              0.119444  "
      ]
     },
     "metadata": {},
     "output_type": "display_data"
    },
    {
     "name": "stdout",
     "output_type": "stream",
     "text": [
      "<class 'pandas.core.frame.DataFrame'>\n",
      "RangeIndex: 79672 entries, 0 to 79671\n",
      "Data columns (total 41 columns):\n",
      "age_upon_outcome              79672 non-null object\n",
      "animal_id_outcome             79672 non-null object\n",
      "date_of_birth                 79672 non-null object\n",
      "outcome_subtype               36348 non-null object\n",
      "outcome_type                  79662 non-null object\n",
      "sex_upon_outcome              79671 non-null object\n",
      "age_upon_outcome_(days)       79672 non-null int64\n",
      "age_upon_outcome_(years)      79672 non-null float64\n",
      "age_upon_outcome_age_group    79672 non-null object\n",
      "outcome_datetime              79672 non-null object\n",
      "outcome_month                 79672 non-null int64\n",
      "outcome_year                  79672 non-null int64\n",
      "outcome_monthyear             79672 non-null object\n",
      "outcome_weekday               79672 non-null object\n",
      "outcome_hour                  79672 non-null int64\n",
      "outcome_number                79672 non-null float64\n",
      "dob_year                      79672 non-null int64\n",
      "dob_month                     79672 non-null int64\n",
      "dob_monthyear                 79672 non-null object\n",
      "age_upon_intake               79672 non-null object\n",
      "animal_id_intake              79672 non-null object\n",
      "animal_type                   79672 non-null object\n",
      "breed                         79672 non-null object\n",
      "color                         79672 non-null object\n",
      "found_location                79672 non-null object\n",
      "intake_condition              79672 non-null object\n",
      "intake_type                   79672 non-null object\n",
      "sex_upon_intake               79671 non-null object\n",
      "count                         79672 non-null int64\n",
      "age_upon_intake_(days)        79672 non-null int64\n",
      "age_upon_intake_(years)       79672 non-null float64\n",
      "age_upon_intake_age_group     79672 non-null object\n",
      "intake_datetime               79672 non-null object\n",
      "intake_month                  79672 non-null int64\n",
      "intake_year                   79672 non-null int64\n",
      "intake_monthyear              79672 non-null object\n",
      "intake_weekday                79672 non-null object\n",
      "intake_hour                   79672 non-null int64\n",
      "intake_number                 79672 non-null float64\n",
      "time_in_shelter               79672 non-null object\n",
      "time_in_shelter_days          79672 non-null float64\n",
      "dtypes: float64(5), int64(11), object(25)\n",
      "memory usage: 24.9+ MB\n"
     ]
    }
   ],
   "source": [
    "# Main Dataframe\n",
    "dfi = pd.read_csv('aac_intakes_outcomes.csv.zip')\n",
    "display(dfi.head())\n",
    "dfi.info()"
   ]
  },
  {
   "cell_type": "markdown",
   "metadata": {},
   "source": [
    "## Intake Data:"
   ]
  },
  {
   "cell_type": "markdown",
   "metadata": {},
   "source": [
    "I'm importing this data set in order to use the animal names.  I'm joining the data frames on animal id."
   ]
  },
  {
   "cell_type": "code",
   "execution_count": 3,
   "metadata": {},
   "outputs": [
    {
     "data": {
      "text/html": [
       "<div>\n",
       "<style scoped>\n",
       "    .dataframe tbody tr th:only-of-type {\n",
       "        vertical-align: middle;\n",
       "    }\n",
       "\n",
       "    .dataframe tbody tr th {\n",
       "        vertical-align: top;\n",
       "    }\n",
       "\n",
       "    .dataframe thead th {\n",
       "        text-align: right;\n",
       "    }\n",
       "</style>\n",
       "<table border=\"1\" class=\"dataframe\">\n",
       "  <thead>\n",
       "    <tr style=\"text-align: right;\">\n",
       "      <th></th>\n",
       "      <th>age_upon_intake</th>\n",
       "      <th>animal_id</th>\n",
       "      <th>animal_type</th>\n",
       "      <th>breed</th>\n",
       "      <th>color</th>\n",
       "      <th>datetime</th>\n",
       "      <th>datetime2</th>\n",
       "      <th>found_location</th>\n",
       "      <th>intake_condition</th>\n",
       "      <th>intake_type</th>\n",
       "      <th>name</th>\n",
       "      <th>sex_upon_intake</th>\n",
       "    </tr>\n",
       "  </thead>\n",
       "  <tbody>\n",
       "    <tr>\n",
       "      <td>0</td>\n",
       "      <td>8 years</td>\n",
       "      <td>A706918</td>\n",
       "      <td>Dog</td>\n",
       "      <td>English Springer Spaniel</td>\n",
       "      <td>White/Liver</td>\n",
       "      <td>2015-07-05T12:59:00.000</td>\n",
       "      <td>2015-07-05T12:59:00.000</td>\n",
       "      <td>9409 Bluegrass Dr in Austin (TX)</td>\n",
       "      <td>Normal</td>\n",
       "      <td>Stray</td>\n",
       "      <td>Belle</td>\n",
       "      <td>Spayed Female</td>\n",
       "    </tr>\n",
       "    <tr>\n",
       "      <td>1</td>\n",
       "      <td>11 months</td>\n",
       "      <td>A724273</td>\n",
       "      <td>Dog</td>\n",
       "      <td>Basenji Mix</td>\n",
       "      <td>Sable/White</td>\n",
       "      <td>2016-04-14T18:43:00.000</td>\n",
       "      <td>2016-04-14T18:43:00.000</td>\n",
       "      <td>2818 Palomino Trail in Austin (TX)</td>\n",
       "      <td>Normal</td>\n",
       "      <td>Stray</td>\n",
       "      <td>Runster</td>\n",
       "      <td>Intact Male</td>\n",
       "    </tr>\n",
       "    <tr>\n",
       "      <td>2</td>\n",
       "      <td>4 weeks</td>\n",
       "      <td>A665644</td>\n",
       "      <td>Cat</td>\n",
       "      <td>Domestic Shorthair Mix</td>\n",
       "      <td>Calico</td>\n",
       "      <td>2013-10-21T07:59:00.000</td>\n",
       "      <td>2013-10-21T07:59:00.000</td>\n",
       "      <td>Austin (TX)</td>\n",
       "      <td>Sick</td>\n",
       "      <td>Stray</td>\n",
       "      <td>NaN</td>\n",
       "      <td>Intact Female</td>\n",
       "    </tr>\n",
       "    <tr>\n",
       "      <td>3</td>\n",
       "      <td>4 years</td>\n",
       "      <td>A682524</td>\n",
       "      <td>Dog</td>\n",
       "      <td>Doberman Pinsch/Australian Cattle Dog</td>\n",
       "      <td>Tan/Gray</td>\n",
       "      <td>2014-06-29T10:38:00.000</td>\n",
       "      <td>2014-06-29T10:38:00.000</td>\n",
       "      <td>800 Grove Blvd in Austin (TX)</td>\n",
       "      <td>Normal</td>\n",
       "      <td>Stray</td>\n",
       "      <td>Rio</td>\n",
       "      <td>Neutered Male</td>\n",
       "    </tr>\n",
       "    <tr>\n",
       "      <td>4</td>\n",
       "      <td>2 years</td>\n",
       "      <td>A743852</td>\n",
       "      <td>Dog</td>\n",
       "      <td>Labrador Retriever Mix</td>\n",
       "      <td>Chocolate</td>\n",
       "      <td>2017-02-18T12:46:00.000</td>\n",
       "      <td>2017-02-18T12:46:00.000</td>\n",
       "      <td>Austin (TX)</td>\n",
       "      <td>Normal</td>\n",
       "      <td>Owner Surrender</td>\n",
       "      <td>Odin</td>\n",
       "      <td>Neutered Male</td>\n",
       "    </tr>\n",
       "  </tbody>\n",
       "</table>\n",
       "</div>"
      ],
      "text/plain": [
       "  age_upon_intake animal_id animal_type  \\\n",
       "0         8 years   A706918         Dog   \n",
       "1       11 months   A724273         Dog   \n",
       "2         4 weeks   A665644         Cat   \n",
       "3         4 years   A682524         Dog   \n",
       "4         2 years   A743852         Dog   \n",
       "\n",
       "                                   breed        color  \\\n",
       "0               English Springer Spaniel  White/Liver   \n",
       "1                            Basenji Mix  Sable/White   \n",
       "2                 Domestic Shorthair Mix       Calico   \n",
       "3  Doberman Pinsch/Australian Cattle Dog     Tan/Gray   \n",
       "4                 Labrador Retriever Mix    Chocolate   \n",
       "\n",
       "                  datetime                datetime2  \\\n",
       "0  2015-07-05T12:59:00.000  2015-07-05T12:59:00.000   \n",
       "1  2016-04-14T18:43:00.000  2016-04-14T18:43:00.000   \n",
       "2  2013-10-21T07:59:00.000  2013-10-21T07:59:00.000   \n",
       "3  2014-06-29T10:38:00.000  2014-06-29T10:38:00.000   \n",
       "4  2017-02-18T12:46:00.000  2017-02-18T12:46:00.000   \n",
       "\n",
       "                       found_location intake_condition      intake_type  \\\n",
       "0    9409 Bluegrass Dr in Austin (TX)           Normal            Stray   \n",
       "1  2818 Palomino Trail in Austin (TX)           Normal            Stray   \n",
       "2                         Austin (TX)             Sick            Stray   \n",
       "3       800 Grove Blvd in Austin (TX)           Normal            Stray   \n",
       "4                         Austin (TX)           Normal  Owner Surrender   \n",
       "\n",
       "      name sex_upon_intake  \n",
       "0    Belle   Spayed Female  \n",
       "1  Runster     Intact Male  \n",
       "2      NaN   Intact Female  \n",
       "3      Rio   Neutered Male  \n",
       "4     Odin   Neutered Male  "
      ]
     },
     "execution_count": 3,
     "metadata": {},
     "output_type": "execute_result"
    }
   ],
   "source": [
    "dfii = pd.read_csv('aac_intakes.csv.zip')\n",
    "dfii.head()"
   ]
  },
  {
   "cell_type": "markdown",
   "metadata": {},
   "source": [
    "We will need to add name to the main DF."
   ]
  },
  {
   "cell_type": "markdown",
   "metadata": {},
   "source": [
    "## Combining the DFs:"
   ]
  },
  {
   "cell_type": "code",
   "execution_count": 4,
   "metadata": {},
   "outputs": [],
   "source": [
    "dfx = dfii[['animal_id', 'name', 'breed']]\n",
    "df = dfi.set_index('animal_id_intake').join(dfx.set_index('animal_id'), \n",
    "                                            rsuffix = '_in', how = 'left')\n",
    "df['unique_id'] = df['animal_id_outcome'] + df['intake_number'].astype('str')"
   ]
  },
  {
   "cell_type": "code",
   "execution_count": 5,
   "metadata": {},
   "outputs": [
    {
     "name": "stdout",
     "output_type": "stream",
     "text": [
      "<class 'pandas.core.frame.DataFrame'>\n",
      "Index: 79636 entries, A006100 to A769067\n",
      "Data columns (total 43 columns):\n",
      "age_upon_outcome              79636 non-null object\n",
      "animal_id_outcome             79636 non-null object\n",
      "date_of_birth                 79636 non-null object\n",
      "outcome_subtype               36332 non-null object\n",
      "outcome_type                  79626 non-null object\n",
      "sex_upon_outcome              79635 non-null object\n",
      "age_upon_outcome_(days)       79636 non-null int64\n",
      "age_upon_outcome_(years)      79636 non-null float64\n",
      "age_upon_outcome_age_group    79636 non-null object\n",
      "outcome_datetime              79636 non-null object\n",
      "outcome_month                 79636 non-null int64\n",
      "outcome_year                  79636 non-null int64\n",
      "outcome_monthyear             79636 non-null object\n",
      "outcome_weekday               79636 non-null object\n",
      "outcome_hour                  79636 non-null int64\n",
      "outcome_number                79636 non-null float64\n",
      "dob_year                      79636 non-null int64\n",
      "dob_month                     79636 non-null int64\n",
      "dob_monthyear                 79636 non-null object\n",
      "age_upon_intake               79636 non-null object\n",
      "animal_type                   79636 non-null object\n",
      "breed                         79636 non-null object\n",
      "color                         79636 non-null object\n",
      "found_location                79636 non-null object\n",
      "intake_condition              79636 non-null object\n",
      "intake_type                   79636 non-null object\n",
      "sex_upon_intake               79635 non-null object\n",
      "count                         79636 non-null int64\n",
      "age_upon_intake_(days)        79636 non-null int64\n",
      "age_upon_intake_(years)       79636 non-null float64\n",
      "age_upon_intake_age_group     79636 non-null object\n",
      "intake_datetime               79636 non-null object\n",
      "intake_month                  79636 non-null int64\n",
      "intake_year                   79636 non-null int64\n",
      "intake_monthyear              79636 non-null object\n",
      "intake_weekday                79636 non-null object\n",
      "intake_hour                   79636 non-null int64\n",
      "intake_number                 79636 non-null float64\n",
      "time_in_shelter               79636 non-null object\n",
      "time_in_shelter_days          79636 non-null float64\n",
      "name                          55184 non-null object\n",
      "breed_in                      79636 non-null object\n",
      "unique_id                     79636 non-null object\n",
      "dtypes: float64(5), int64(11), object(27)\n",
      "memory usage: 26.7+ MB\n"
     ]
    }
   ],
   "source": [
    "df = df.drop_duplicates(subset = ['unique_id'])\n",
    "df.info()"
   ]
  },
  {
   "cell_type": "markdown",
   "metadata": {},
   "source": [
    "# Cleaning Data:"
   ]
  },
  {
   "cell_type": "code",
   "execution_count": 6,
   "metadata": {},
   "outputs": [
    {
     "data": {
      "text/plain": [
       "age_upon_outcome                  0\n",
       "animal_id_outcome                 0\n",
       "date_of_birth                     0\n",
       "outcome_subtype               43304\n",
       "outcome_type                     10\n",
       "sex_upon_outcome                  1\n",
       "age_upon_outcome_(days)           0\n",
       "age_upon_outcome_(years)          0\n",
       "age_upon_outcome_age_group        0\n",
       "outcome_datetime                  0\n",
       "outcome_month                     0\n",
       "outcome_year                      0\n",
       "outcome_monthyear                 0\n",
       "outcome_weekday                   0\n",
       "outcome_hour                      0\n",
       "outcome_number                    0\n",
       "dob_year                          0\n",
       "dob_month                         0\n",
       "dob_monthyear                     0\n",
       "age_upon_intake                   0\n",
       "animal_type                       0\n",
       "breed                             0\n",
       "color                             0\n",
       "found_location                    0\n",
       "intake_condition                  0\n",
       "intake_type                       0\n",
       "sex_upon_intake                   1\n",
       "count                             0\n",
       "age_upon_intake_(days)            0\n",
       "age_upon_intake_(years)           0\n",
       "age_upon_intake_age_group         0\n",
       "intake_datetime                   0\n",
       "intake_month                      0\n",
       "intake_year                       0\n",
       "intake_monthyear                  0\n",
       "intake_weekday                    0\n",
       "intake_hour                       0\n",
       "intake_number                     0\n",
       "time_in_shelter                   0\n",
       "time_in_shelter_days              0\n",
       "name                          24452\n",
       "breed_in                          0\n",
       "unique_id                         0\n",
       "dtype: int64"
      ]
     },
     "execution_count": 6,
     "metadata": {},
     "output_type": "execute_result"
    }
   ],
   "source": [
    "df.isna().sum()"
   ]
  },
  {
   "cell_type": "markdown",
   "metadata": {},
   "source": [
    "## Removing Certain Outcomes:"
   ]
  },
  {
   "cell_type": "code",
   "execution_count": 7,
   "metadata": {},
   "outputs": [
    {
     "data": {
      "text/plain": [
       "Adoption           33583\n",
       "Transfer           23791\n",
       "Return to Owner    14784\n",
       "Euthanasia          6237\n",
       "Died                 690\n",
       "Disposal             301\n",
       "Rto-Adopt            179\n",
       "Missing               46\n",
       "Relocate              15\n",
       "Name: outcome_type, dtype: int64"
      ]
     },
     "execution_count": 7,
     "metadata": {},
     "output_type": "execute_result"
    }
   ],
   "source": [
    "df.outcome_type.value_counts()"
   ]
  },
  {
   "cell_type": "markdown",
   "metadata": {},
   "source": [
    "As we can see above, there are a number of outcomes, but my main focus will be on the top three:\n",
    "- Adoption\n",
    "- Transfer\n",
    "- Return to Owner\n",
    "<br>\n",
    "\n",
    "\n",
    "While there were a number of animals that were euthanized or died, I will not include these rows in the model (either in training or testing).\n",
    "\n",
    "This is a no-kill shelter, and euthanasia is a last resort.  I will not build a model that will recommend it as an outcome in any case based on innocuous features such as breed or age.  If it is necessary to euthanize an animal for health reasons, this will be obvious upon intake (massive injury or illness).  We do not need a more general machine learning model for this. "
   ]
  },
  {
   "cell_type": "code",
   "execution_count": 8,
   "metadata": {},
   "outputs": [
    {
     "data": {
      "text/plain": [
       "Adoption           33583\n",
       "Transfer           23791\n",
       "Return to Owner    14784\n",
       "Name: outcome_type, dtype: int64"
      ]
     },
     "execution_count": 8,
     "metadata": {},
     "output_type": "execute_result"
    }
   ],
   "source": [
    "df = df[df['outcome_type'].isin(['Adoption', 'Transfer', 'Return to Owner'])]\n",
    "df['outcome_type'].value_counts()"
   ]
  },
  {
   "cell_type": "markdown",
   "metadata": {},
   "source": [
    "## Animal Type:"
   ]
  },
  {
   "cell_type": "markdown",
   "metadata": {},
   "source": [
    "There are too few birds or other animals to accurately model, so I'm going to focus my efforts on dogs and cats.  The bird model can come another day!"
   ]
  },
  {
   "cell_type": "code",
   "execution_count": 9,
   "metadata": {},
   "outputs": [
    {
     "data": {
      "text/plain": [
       "Dog    43538\n",
       "Cat    27568\n",
       "Name: animal_type, dtype: int64"
      ]
     },
     "execution_count": 9,
     "metadata": {},
     "output_type": "execute_result"
    }
   ],
   "source": [
    "df = df[df.animal_type != 'Bird']\n",
    "df = df[df.animal_type != 'Other']\n",
    "df.animal_type.value_counts()"
   ]
  },
  {
   "cell_type": "markdown",
   "metadata": {},
   "source": [
    "## Name: "
   ]
  },
  {
   "cell_type": "code",
   "execution_count": 10,
   "metadata": {},
   "outputs": [
    {
     "data": {
      "text/plain": [
       "18264"
      ]
     },
     "execution_count": 10,
     "metadata": {},
     "output_type": "execute_result"
    }
   ],
   "source": [
    "df.name.isna().sum()"
   ]
  },
  {
   "cell_type": "markdown",
   "metadata": {},
   "source": [
    "I think the simplest option here is has name or does not have name.  I would also be interested about less common or longer names.  Perhaps that indicates more involved owners.  Who knows!"
   ]
  },
  {
   "cell_type": "code",
   "execution_count": 11,
   "metadata": {},
   "outputs": [],
   "source": [
    "df.name.fillna(0, inplace = True)\n",
    "df['has_name'] = df['name'].map(lambda x: 1 if not x == 0 else 0)"
   ]
  },
  {
   "cell_type": "code",
   "execution_count": 12,
   "metadata": {},
   "outputs": [
    {
     "data": {
      "text/plain": [
       "1    52842\n",
       "0    18264\n",
       "Name: has_name, dtype: int64"
      ]
     },
     "execution_count": 12,
     "metadata": {},
     "output_type": "execute_result"
    }
   ],
   "source": [
    "# Seems to be working!\n",
    "df['has_name'].value_counts()"
   ]
  },
  {
   "cell_type": "code",
   "execution_count": 13,
   "metadata": {},
   "outputs": [
    {
     "data": {
      "text/plain": [
       "0"
      ]
     },
     "execution_count": 13,
     "metadata": {},
     "output_type": "execute_result"
    }
   ],
   "source": [
    "df['outcome_type'].isna().sum()"
   ]
  },
  {
   "cell_type": "markdown",
   "metadata": {},
   "source": [
    "## Sex Upon Outcome:"
   ]
  },
  {
   "cell_type": "code",
   "execution_count": 14,
   "metadata": {},
   "outputs": [],
   "source": [
    "df.sex_upon_outcome.dropna(inplace = True)"
   ]
  },
  {
   "cell_type": "code",
   "execution_count": 15,
   "metadata": {},
   "outputs": [
    {
     "data": {
      "text/plain": [
       "Neutered Male    27366\n",
       "Spayed Female    24900\n",
       "Intact Male       8227\n",
       "Intact Female     8135\n",
       "Unknown           2477\n",
       "Name: sex_upon_outcome, dtype: int64"
      ]
     },
     "execution_count": 15,
     "metadata": {},
     "output_type": "execute_result"
    }
   ],
   "source": [
    "df.sex_upon_outcome.value_counts()"
   ]
  },
  {
   "cell_type": "markdown",
   "metadata": {},
   "source": [
    "## Sex Upon Intake:"
   ]
  },
  {
   "cell_type": "markdown",
   "metadata": {},
   "source": [
    "For now, I'll be keeping the unknown sex animals as unknown.  The uncertainty may provide valuable insight when it comes to the ultimate outcome.  For example, it's possible that when the sex is unknown, the animal is more likely to be adopted.  Getting rid of unknown as a classification would muddy this process."
   ]
  },
  {
   "cell_type": "code",
   "execution_count": 16,
   "metadata": {},
   "outputs": [],
   "source": [
    "df['sex_upon_intake'].fillna('Unknown', inplace = True)"
   ]
  },
  {
   "cell_type": "code",
   "execution_count": 17,
   "metadata": {},
   "outputs": [
    {
     "data": {
      "text/plain": [
       "Intact Male      23618\n",
       "Intact Female    22387\n",
       "Neutered Male    11975\n",
       "Spayed Female    10648\n",
       "Unknown           2478\n",
       "Name: sex_upon_intake, dtype: int64"
      ]
     },
     "execution_count": 17,
     "metadata": {},
     "output_type": "execute_result"
    }
   ],
   "source": [
    "df.sex_upon_intake.value_counts()"
   ]
  },
  {
   "cell_type": "markdown",
   "metadata": {},
   "source": [
    "## Choosing Columns for Main DF:"
   ]
  },
  {
   "cell_type": "markdown",
   "metadata": {},
   "source": [
    "These are the most relevant features when it comes to intake and how long the animal spends in the shelter.  With this data, we should be able to build a machine learning model to predict animal outcomes.  For now, let's focus on exploratory data analysis, though!"
   ]
  },
  {
   "cell_type": "code",
   "execution_count": 18,
   "metadata": {},
   "outputs": [
    {
     "name": "stdout",
     "output_type": "stream",
     "text": [
      "<class 'pandas.core.frame.DataFrame'>\n",
      "Index: 71106 entries, A006100 to A769066\n",
      "Data columns (total 13 columns):\n",
      "sex_upon_intake            71106 non-null object\n",
      "age_upon_intake_(years)    71106 non-null float64\n",
      "time_in_shelter_days       71106 non-null float64\n",
      "animal_type                71106 non-null object\n",
      "breed                      71106 non-null object\n",
      "color                      71106 non-null object\n",
      "found_location             71106 non-null object\n",
      "intake_condition           71106 non-null object\n",
      "intake_type                71106 non-null object\n",
      "intake_number              71106 non-null float64\n",
      "has_name                   71106 non-null int64\n",
      "outcome_datetime           71106 non-null object\n",
      "outcome_type               71106 non-null object\n",
      "dtypes: float64(3), int64(1), object(9)\n",
      "memory usage: 7.6+ MB\n"
     ]
    }
   ],
   "source": [
    "col_to_keep = ['sex_upon_intake', 'age_upon_intake_(years)', \n",
    "               'time_in_shelter_days','animal_type', 'breed',\n",
    "               'color', 'found_location', 'intake_condition', \n",
    "               'intake_type', 'intake_number', 'has_name',\n",
    "               'outcome_datetime', 'outcome_type']\n",
    "df_eda = df[col_to_keep]\n",
    "df_eda.info()"
   ]
  },
  {
   "cell_type": "markdown",
   "metadata": {},
   "source": [
    "# EDA:"
   ]
  },
  {
   "cell_type": "code",
   "execution_count": 19,
   "metadata": {},
   "outputs": [
    {
     "data": {
      "text/html": [
       "<div>\n",
       "<style scoped>\n",
       "    .dataframe tbody tr th:only-of-type {\n",
       "        vertical-align: middle;\n",
       "    }\n",
       "\n",
       "    .dataframe tbody tr th {\n",
       "        vertical-align: top;\n",
       "    }\n",
       "\n",
       "    .dataframe thead th {\n",
       "        text-align: right;\n",
       "    }\n",
       "</style>\n",
       "<table border=\"1\" class=\"dataframe\">\n",
       "  <thead>\n",
       "    <tr style=\"text-align: right;\">\n",
       "      <th></th>\n",
       "      <th>sex_upon_intake</th>\n",
       "      <th>age_upon_intake_(years)</th>\n",
       "      <th>time_in_shelter_days</th>\n",
       "      <th>animal_type</th>\n",
       "      <th>breed</th>\n",
       "      <th>color</th>\n",
       "      <th>found_location</th>\n",
       "      <th>intake_condition</th>\n",
       "      <th>intake_type</th>\n",
       "      <th>intake_number</th>\n",
       "      <th>has_name</th>\n",
       "      <th>outcome_datetime</th>\n",
       "      <th>outcome_type</th>\n",
       "    </tr>\n",
       "  </thead>\n",
       "  <tbody>\n",
       "    <tr>\n",
       "      <td>A006100</td>\n",
       "      <td>Neutered Male</td>\n",
       "      <td>10.0</td>\n",
       "      <td>0.588194</td>\n",
       "      <td>Dog</td>\n",
       "      <td>Spinone Italiano Mix</td>\n",
       "      <td>Yellow/White</td>\n",
       "      <td>Colony Creek And Hunters Trace in Austin (TX)</td>\n",
       "      <td>Normal</td>\n",
       "      <td>Stray</td>\n",
       "      <td>1.0</td>\n",
       "      <td>1</td>\n",
       "      <td>2017-12-07 14:07:00</td>\n",
       "      <td>Return to Owner</td>\n",
       "    </tr>\n",
       "    <tr>\n",
       "      <td>A006100</td>\n",
       "      <td>Neutered Male</td>\n",
       "      <td>7.0</td>\n",
       "      <td>1.259722</td>\n",
       "      <td>Dog</td>\n",
       "      <td>Spinone Italiano Mix</td>\n",
       "      <td>Yellow/White</td>\n",
       "      <td>8700 Research Blvd in Austin (TX)</td>\n",
       "      <td>Normal</td>\n",
       "      <td>Public Assist</td>\n",
       "      <td>2.0</td>\n",
       "      <td>1</td>\n",
       "      <td>2014-12-20 16:35:00</td>\n",
       "      <td>Return to Owner</td>\n",
       "    </tr>\n",
       "  </tbody>\n",
       "</table>\n",
       "</div>"
      ],
      "text/plain": [
       "        sex_upon_intake  age_upon_intake_(years)  time_in_shelter_days  \\\n",
       "A006100   Neutered Male                     10.0              0.588194   \n",
       "A006100   Neutered Male                      7.0              1.259722   \n",
       "\n",
       "        animal_type                 breed         color  \\\n",
       "A006100         Dog  Spinone Italiano Mix  Yellow/White   \n",
       "A006100         Dog  Spinone Italiano Mix  Yellow/White   \n",
       "\n",
       "                                        found_location intake_condition  \\\n",
       "A006100  Colony Creek And Hunters Trace in Austin (TX)           Normal   \n",
       "A006100              8700 Research Blvd in Austin (TX)           Normal   \n",
       "\n",
       "           intake_type  intake_number  has_name     outcome_datetime  \\\n",
       "A006100          Stray            1.0         1  2017-12-07 14:07:00   \n",
       "A006100  Public Assist            2.0         1  2014-12-20 16:35:00   \n",
       "\n",
       "            outcome_type  \n",
       "A006100  Return to Owner  \n",
       "A006100  Return to Owner  "
      ]
     },
     "execution_count": 19,
     "metadata": {},
     "output_type": "execute_result"
    }
   ],
   "source": [
    "df_eda.head(2)"
   ]
  },
  {
   "cell_type": "markdown",
   "metadata": {},
   "source": [
    "## Different Outcome Types:"
   ]
  },
  {
   "cell_type": "markdown",
   "metadata": {},
   "source": [
    "Here, I'll be preparing different dataframes that separate the data by Cat or Dog, and group by sex, intake type, and intake condition.  This will make pulling up the charts below a bit easier."
   ]
  },
  {
   "cell_type": "code",
   "execution_count": 20,
   "metadata": {},
   "outputs": [],
   "source": [
    "eda_dog = df_eda[df_eda.animal_type == 'Dog']\n",
    "eda_cat = df_eda[df_eda.animal_type == 'Cat']\n",
    "eda_dog = df_eda[df_eda.animal_type == 'Dog']\n",
    "eda_cat = df_eda[df_eda.animal_type == 'Cat']\n",
    "###\n",
    "# Dogs:\n",
    "eda_dogii = pd.get_dummies(eda_dog['outcome_type'])\n",
    "eda_dogii = pd.concat([eda_dog, eda_dogii], axis = 1)\n",
    "# Cats:\n",
    "eda_catii = pd.get_dummies(eda_cat['outcome_type'])\n",
    "eda_catii = pd.concat([eda_cat, eda_catii], axis = 1)\n",
    "###\n",
    "cond_cols = ['intake_condition', 'Transfer', 'Return to Owner', 'Adoption']\n",
    "type_cols = ['intake_type', 'Transfer', 'Return to Owner', 'Adoption']\n",
    "sex_cols = ['sex_upon_intake', 'Transfer', 'Return to Owner', 'Adoption']\n",
    "# Dogs:\n",
    "dog_cond = eda_dogii[cond_cols]\n",
    "dog_type = eda_dogii[type_cols]\n",
    "dog_sex = eda_dogii[sex_cols]\n",
    "# Cats:\n",
    "cat_cond = eda_catii[cond_cols]\n",
    "cat_type = eda_catii[type_cols]\n",
    "cat_sex = eda_catii[sex_cols]\n",
    "# Dogs:\n",
    "dog_cond = dog_cond.groupby('intake_condition').sum()\n",
    "dog_type = dog_type.groupby('intake_type').sum()\n",
    "dog_sex = dog_sex.groupby('sex_upon_intake').sum()\n",
    "# Cats:\n",
    "cat_cond = cat_cond.groupby('intake_condition').sum()\n",
    "cat_type = cat_type.groupby('intake_type').sum()\n",
    "cat_sex = cat_sex.groupby('sex_upon_intake').sum()"
   ]
  },
  {
   "cell_type": "code",
   "execution_count": 21,
   "metadata": {},
   "outputs": [
    {
     "data": {
      "image/png": "[encoded data removed]",
      "text/plain": [
       "<Figure size 1080x360 with 4 Axes>"
      ]
     },
     "metadata": {
      "needs_background": "light"
     },
     "output_type": "display_data"
    }
   ],
   "source": [
    "# Conditions:\n",
    "plt.figure(figsize=(15, 5))\n",
    "\n",
    "ax1 = plt.subplot(1, 2, 1)\n",
    "ax1 = sns.heatmap(dog_cond, cmap=\"YlGnBu\", vmax = 1000)\n",
    "ax1.set_title('Dog Outcomes by Condition')\n",
    "\n",
    "ax2 = plt.subplot(1, 2, 2)\n",
    "ax2 = sns.heatmap(cat_cond, cmap=\"YlGnBu\", vmax = 1000)\n",
    "ax2.set_title('Cat Outcomes by Condition');"
   ]
  },
  {
   "cell_type": "markdown",
   "metadata": {},
   "source": [
    "No major findings here.  Cats and Dogs are very similar when it comes to outcome based on intake condition, though many more cats in the nursing category get transfered.  It's likely these are kittens being transfered to foster homes."
   ]
  },
  {
   "cell_type": "code",
   "execution_count": 22,
   "metadata": {},
   "outputs": [
    {
     "data": {
      "image/png": "[encoded data removed]",
      "text/plain": [
       "<Figure size 1080x360 with 4 Axes>"
      ]
     },
     "metadata": {
      "needs_background": "light"
     },
     "output_type": "display_data"
    }
   ],
   "source": [
    "# Types:\n",
    "plt.figure(figsize=(15, 5))\n",
    "\n",
    "ax1 = plt.subplot(1, 2, 1)\n",
    "ax1 = sns.heatmap(dog_type, cmap=\"YlGnBu\", vmax = 5000)\n",
    "ax1.set_title('Dog Outcomes by Type')\n",
    "\n",
    "ax2 = plt.subplot(1, 2, 2)\n",
    "ax2 = sns.heatmap(cat_type, cmap=\"YlGnBu\", vmax = 5000)\n",
    "ax2.set_title('Cat Outcomes by Type');"
   ]
  },
  {
   "cell_type": "markdown",
   "metadata": {},
   "source": [
    "Here, we see that many more public assist dogs are returned to their owners.  The Euthanasia Request bar is rather blank, but this is likely because we have removed the euthanasia outcome.  It's great to see that at least some of these euthanasia request animals get a second chance, though!"
   ]
  },
  {
   "cell_type": "code",
   "execution_count": 23,
   "metadata": {},
   "outputs": [
    {
     "data": {
      "image/png": "[encoded data removed]",
      "text/plain": [
       "<Figure size 1080x360 with 4 Axes>"
      ]
     },
     "metadata": {
      "needs_background": "light"
     },
     "output_type": "display_data"
    }
   ],
   "source": [
    "# Sex:\n",
    "plt.figure(figsize=(15, 5))\n",
    "\n",
    "ax1 = plt.subplot(1, 2, 1)\n",
    "ax1 = sns.heatmap(dog_sex, cmap=\"YlGnBu\")\n",
    "ax1.set_title('Dog Outcomes by Sex')\n",
    "\n",
    "ax2 = plt.subplot(1, 2, 2)\n",
    "ax2 = sns.heatmap(cat_sex, cmap=\"YlGnBu\")\n",
    "ax2.set_title('Cat Outcomes by Sex');"
   ]
  },
  {
   "cell_type": "markdown",
   "metadata": {},
   "source": [
    "There's a bit to unpack here, but it's interesting that we see a small concentration of unknown sex cats being transfered out. Other than that, we see the highest concentration of intact male and female dogs being adopted, though the number is also high for intact male and female cats being transfered."
   ]
  },
  {
   "cell_type": "markdown",
   "metadata": {},
   "source": [
    "## Time Series:"
   ]
  },
  {
   "cell_type": "code",
   "execution_count": 24,
   "metadata": {},
   "outputs": [],
   "source": [
    "timedf = pd.to_datetime(df.outcome_monthyear)\n",
    "timedf = pd.DataFrame(timedf)\n",
    "timedf = pd.concat([timedf, df.animal_type, df.outcome_type, \n",
    "                    df.outcome_subtype], axis = 1)\n",
    "\n",
    "outcome_dums = pd.get_dummies(timedf['outcome_type'])\n",
    "timedf = pd.concat([timedf, outcome_dums], axis = 1)\n",
    "\n",
    "timedf_cat = timedf[timedf.animal_type == 'Cat']\n",
    "timedf_dog = timedf[timedf.animal_type == 'Dog']\n",
    "\n",
    "# Grouping by time\n",
    "timedf_cat = timedf_cat.groupby('outcome_monthyear').sum()\n",
    "timedf_dog = timedf_dog.groupby('outcome_monthyear').sum()"
   ]
  },
  {
   "cell_type": "code",
   "execution_count": 25,
   "metadata": {},
   "outputs": [
    {
     "data": {
      "text/html": [
       "<div>\n",
       "<style scoped>\n",
       "    .dataframe tbody tr th:only-of-type {\n",
       "        vertical-align: middle;\n",
       "    }\n",
       "\n",
       "    .dataframe tbody tr th {\n",
       "        vertical-align: top;\n",
       "    }\n",
       "\n",
       "    .dataframe thead th {\n",
       "        text-align: right;\n",
       "    }\n",
       "</style>\n",
       "<table border=\"1\" class=\"dataframe\">\n",
       "  <thead>\n",
       "    <tr style=\"text-align: right;\">\n",
       "      <th></th>\n",
       "      <th>Adoption</th>\n",
       "      <th>Return to Owner</th>\n",
       "      <th>Transfer</th>\n",
       "    </tr>\n",
       "    <tr>\n",
       "      <th>outcome_monthyear</th>\n",
       "      <th></th>\n",
       "      <th></th>\n",
       "      <th></th>\n",
       "    </tr>\n",
       "  </thead>\n",
       "  <tbody>\n",
       "    <tr>\n",
       "      <td>2013-10-01</td>\n",
       "      <td>71.0</td>\n",
       "      <td>7.0</td>\n",
       "      <td>214.0</td>\n",
       "    </tr>\n",
       "    <tr>\n",
       "      <td>2013-11-01</td>\n",
       "      <td>150.0</td>\n",
       "      <td>28.0</td>\n",
       "      <td>153.0</td>\n",
       "    </tr>\n",
       "    <tr>\n",
       "      <td>2013-12-01</td>\n",
       "      <td>231.0</td>\n",
       "      <td>19.0</td>\n",
       "      <td>211.0</td>\n",
       "    </tr>\n",
       "    <tr>\n",
       "      <td>2014-01-01</td>\n",
       "      <td>136.0</td>\n",
       "      <td>38.0</td>\n",
       "      <td>143.0</td>\n",
       "    </tr>\n",
       "    <tr>\n",
       "      <td>2014-02-01</td>\n",
       "      <td>93.0</td>\n",
       "      <td>25.0</td>\n",
       "      <td>120.0</td>\n",
       "    </tr>\n",
       "  </tbody>\n",
       "</table>\n",
       "</div>"
      ],
      "text/plain": [
       "                   Adoption  Return to Owner  Transfer\n",
       "outcome_monthyear                                     \n",
       "2013-10-01             71.0              7.0     214.0\n",
       "2013-11-01            150.0             28.0     153.0\n",
       "2013-12-01            231.0             19.0     211.0\n",
       "2014-01-01            136.0             38.0     143.0\n",
       "2014-02-01             93.0             25.0     120.0"
      ]
     },
     "execution_count": 25,
     "metadata": {},
     "output_type": "execute_result"
    }
   ],
   "source": [
    "timedf_cat.head()"
   ]
  },
  {
   "cell_type": "code",
   "execution_count": 26,
   "metadata": {},
   "outputs": [
    {
     "data": {
      "image/png": "[encoded data removed]",
      "text/plain": [
       "<Figure size 1080x720 with 2 Axes>"
      ]
     },
     "metadata": {},
     "output_type": "display_data"
    }
   ],
   "source": [
    "sns.set_style('darkgrid')\n",
    "sns.set_palette(\"muted\")\n",
    "outcomes = ['Transfer', 'Adoption', 'Return to Owner']\n",
    "plt.figure(figsize=(15, 10))\n",
    "\n",
    "for outcome in outcomes:\n",
    "    ax1 = plt.subplot(2, 1, 1)\n",
    "    ax1 = sns.lineplot(data = timedf_cat.reset_index(), \n",
    "                       x = 'outcome_monthyear', \n",
    "                       y = outcome)\n",
    "    ax1.set_title('Outcomes Over Time - Cats')\n",
    "    plt.legend(['Transfer', 'Adoption', 'Return to Owner'])\n",
    "    ax1.set(xlabel='Date', ylabel='Number of Cats')\n",
    "\n",
    "for outcome in outcomes:\n",
    "    ax1 = plt.subplot(2, 1, 2)\n",
    "    ax1 = sns.lineplot(data = timedf_dog.reset_index(), \n",
    "                       x = 'outcome_monthyear', \n",
    "                       y = outcome)\n",
    "    ax1.set_title('Outcomes Over Time - Dogs');\n",
    "    plt.legend(['Transfer', 'Adoption', 'Return to Owner'])\n",
    "    ax1.set(xlabel='Date', ylabel='Number of Dogs');"
   ]
  },
  {
   "cell_type": "markdown",
   "metadata": {},
   "source": [
    "There are two interesting points here:<br>\n",
    "1: Many more dogs are returned to owners vs cats.  In fact, for dogs, it's the second highest category whereas for cats, it's the lowest frequency outcome.<br>\n",
    "2: There is a strong seasonality component to cats being adopted or transfered whereas for dogs, and all return to owner outcomes, it's relatively constant throughout the year.  This makes sense as cats and dogs can run away all the time, but it seems as though people are more likely to adopt cats in the summer.  It's interesting that we do not see the same seasonality for dogs, though!"
   ]
  },
  {
   "cell_type": "markdown",
   "metadata": {},
   "source": [
    "# Feature Engineering:"
   ]
  },
  {
   "cell_type": "markdown",
   "metadata": {},
   "source": [
    "Now it's time to transform the data into a format that feeds better into the machine learning algorithms.  For this we'll need dummy variables for many of the categorical data columns such as color or breed."
   ]
  },
  {
   "cell_type": "code",
   "execution_count": 27,
   "metadata": {},
   "outputs": [
    {
     "data": {
      "text/html": [
       "<div>\n",
       "<style scoped>\n",
       "    .dataframe tbody tr th:only-of-type {\n",
       "        vertical-align: middle;\n",
       "    }\n",
       "\n",
       "    .dataframe tbody tr th {\n",
       "        vertical-align: top;\n",
       "    }\n",
       "\n",
       "    .dataframe thead th {\n",
       "        text-align: right;\n",
       "    }\n",
       "</style>\n",
       "<table border=\"1\" class=\"dataframe\">\n",
       "  <thead>\n",
       "    <tr style=\"text-align: right;\">\n",
       "      <th></th>\n",
       "      <th>sex_upon_intake</th>\n",
       "      <th>age_upon_intake_(years)</th>\n",
       "      <th>time_in_shelter_days</th>\n",
       "      <th>animal_type</th>\n",
       "      <th>breed</th>\n",
       "      <th>color</th>\n",
       "      <th>found_location</th>\n",
       "      <th>intake_condition</th>\n",
       "      <th>intake_type</th>\n",
       "      <th>intake_number</th>\n",
       "      <th>has_name</th>\n",
       "      <th>outcome_datetime</th>\n",
       "      <th>outcome_type</th>\n",
       "    </tr>\n",
       "  </thead>\n",
       "  <tbody>\n",
       "    <tr>\n",
       "      <td>A006100</td>\n",
       "      <td>Neutered Male</td>\n",
       "      <td>10.0</td>\n",
       "      <td>0.588194</td>\n",
       "      <td>Dog</td>\n",
       "      <td>Spinone Italiano Mix</td>\n",
       "      <td>Yellow/White</td>\n",
       "      <td>Colony Creek And Hunters Trace in Austin (TX)</td>\n",
       "      <td>Normal</td>\n",
       "      <td>Stray</td>\n",
       "      <td>1.0</td>\n",
       "      <td>1</td>\n",
       "      <td>2017-12-07 14:07:00</td>\n",
       "      <td>Return to Owner</td>\n",
       "    </tr>\n",
       "    <tr>\n",
       "      <td>A006100</td>\n",
       "      <td>Neutered Male</td>\n",
       "      <td>7.0</td>\n",
       "      <td>1.259722</td>\n",
       "      <td>Dog</td>\n",
       "      <td>Spinone Italiano Mix</td>\n",
       "      <td>Yellow/White</td>\n",
       "      <td>8700 Research Blvd in Austin (TX)</td>\n",
       "      <td>Normal</td>\n",
       "      <td>Public Assist</td>\n",
       "      <td>2.0</td>\n",
       "      <td>1</td>\n",
       "      <td>2014-12-20 16:35:00</td>\n",
       "      <td>Return to Owner</td>\n",
       "    </tr>\n",
       "    <tr>\n",
       "      <td>A006100</td>\n",
       "      <td>Neutered Male</td>\n",
       "      <td>6.0</td>\n",
       "      <td>1.113889</td>\n",
       "      <td>Dog</td>\n",
       "      <td>Spinone Italiano Mix</td>\n",
       "      <td>Yellow/White</td>\n",
       "      <td>8700 Research in Austin (TX)</td>\n",
       "      <td>Normal</td>\n",
       "      <td>Public Assist</td>\n",
       "      <td>3.0</td>\n",
       "      <td>1</td>\n",
       "      <td>2014-03-08 17:10:00</td>\n",
       "      <td>Return to Owner</td>\n",
       "    </tr>\n",
       "    <tr>\n",
       "      <td>A047759</td>\n",
       "      <td>Neutered Male</td>\n",
       "      <td>10.0</td>\n",
       "      <td>4.970139</td>\n",
       "      <td>Dog</td>\n",
       "      <td>Dachshund</td>\n",
       "      <td>Tricolor</td>\n",
       "      <td>Austin (TX)</td>\n",
       "      <td>Normal</td>\n",
       "      <td>Owner Surrender</td>\n",
       "      <td>1.0</td>\n",
       "      <td>1</td>\n",
       "      <td>2014-04-07 15:12:00</td>\n",
       "      <td>Transfer</td>\n",
       "    </tr>\n",
       "    <tr>\n",
       "      <td>A134067</td>\n",
       "      <td>Neutered Male</td>\n",
       "      <td>16.0</td>\n",
       "      <td>0.119444</td>\n",
       "      <td>Dog</td>\n",
       "      <td>Shetland Sheepdog</td>\n",
       "      <td>Brown/White</td>\n",
       "      <td>12034 Research Blvd in Austin (TX)</td>\n",
       "      <td>Injured</td>\n",
       "      <td>Public Assist</td>\n",
       "      <td>1.0</td>\n",
       "      <td>1</td>\n",
       "      <td>2013-11-16 11:54:00</td>\n",
       "      <td>Return to Owner</td>\n",
       "    </tr>\n",
       "  </tbody>\n",
       "</table>\n",
       "</div>"
      ],
      "text/plain": [
       "        sex_upon_intake  age_upon_intake_(years)  time_in_shelter_days  \\\n",
       "A006100   Neutered Male                     10.0              0.588194   \n",
       "A006100   Neutered Male                      7.0              1.259722   \n",
       "A006100   Neutered Male                      6.0              1.113889   \n",
       "A047759   Neutered Male                     10.0              4.970139   \n",
       "A134067   Neutered Male                     16.0              0.119444   \n",
       "\n",
       "        animal_type                 breed         color  \\\n",
       "A006100         Dog  Spinone Italiano Mix  Yellow/White   \n",
       "A006100         Dog  Spinone Italiano Mix  Yellow/White   \n",
       "A006100         Dog  Spinone Italiano Mix  Yellow/White   \n",
       "A047759         Dog             Dachshund      Tricolor   \n",
       "A134067         Dog     Shetland Sheepdog   Brown/White   \n",
       "\n",
       "                                        found_location intake_condition  \\\n",
       "A006100  Colony Creek And Hunters Trace in Austin (TX)           Normal   \n",
       "A006100              8700 Research Blvd in Austin (TX)           Normal   \n",
       "A006100                   8700 Research in Austin (TX)           Normal   \n",
       "A047759                                    Austin (TX)           Normal   \n",
       "A134067             12034 Research Blvd in Austin (TX)          Injured   \n",
       "\n",
       "             intake_type  intake_number  has_name     outcome_datetime  \\\n",
       "A006100            Stray            1.0         1  2017-12-07 14:07:00   \n",
       "A006100    Public Assist            2.0         1  2014-12-20 16:35:00   \n",
       "A006100    Public Assist            3.0         1  2014-03-08 17:10:00   \n",
       "A047759  Owner Surrender            1.0         1  2014-04-07 15:12:00   \n",
       "A134067    Public Assist            1.0         1  2013-11-16 11:54:00   \n",
       "\n",
       "            outcome_type  \n",
       "A006100  Return to Owner  \n",
       "A006100  Return to Owner  \n",
       "A006100  Return to Owner  \n",
       "A047759         Transfer  \n",
       "A134067  Return to Owner  "
      ]
     },
     "execution_count": 27,
     "metadata": {},
     "output_type": "execute_result"
    }
   ],
   "source": [
    "dfi = df_eda\n",
    "dfi.head()"
   ]
  },
  {
   "cell_type": "code",
   "execution_count": 28,
   "metadata": {},
   "outputs": [],
   "source": [
    "# sex_upon_intake\n",
    "# Dummy variable, no change\n",
    "dfi['sex'] = np.where(dfi['sex_upon_intake'].str.contains('Male'), 1, 0)\n",
    "dfi['intact'] = np.where(dfi['sex_upon_intake'].str.contains('Intact'), 1, 0)\n",
    "dfi['unk_sex'] = np.where(dfi['sex_upon_intake'].str.contains('Unknown'), 1, 0)\n",
    "#dfi.drop(columns = 'sex_upon_intake', axis = 1, inplace = True)"
   ]
  },
  {
   "cell_type": "code",
   "execution_count": 29,
   "metadata": {},
   "outputs": [],
   "source": [
    "# animal_type \n",
    "# Dummy for dog or cat\n",
    "dfi['dog'] = dfi['animal_type'].map(lambda x: 1 if x == 'Dog' else 0)\n",
    "dfi['cat'] = dfi['animal_type'].map(lambda x: 1 if x == 'Cat' else 0)"
   ]
  },
  {
   "cell_type": "markdown",
   "metadata": {},
   "source": [
    "Below, I'll be using a function that will be handy for columns such as 'breed', where there are over 500 unique values.  The function, 'dum_sign', takes the column and creates dummy variables for categories that meet a certain specified frequency threshold.  <br><br>\n",
    "After creating the dummy variables, I use the concat function from Pandas to connect it back to the main dataframe."
   ]
  },
  {
   "cell_type": "markdown",
   "metadata": {},
   "source": [
    "My goal for this function is to have between 5-10 new columns for each of this categorical columns.  The remaining categories are re-categorized as 'Other'."
   ]
  },
  {
   "cell_type": "code",
   "execution_count": 30,
   "metadata": {},
   "outputs": [],
   "source": [
    "#Defining a function that will create dummies for all categories above a certain threshold\n",
    "def dum_sign(dummy_col, threshold=0.1):\n",
    "    # removes the bind\n",
    "    dummy_col = dummy_col.copy()\n",
    "    # Ratio of dummy to rest of column\n",
    "    count = pd.value_counts(dummy_col) / len(dummy_col)\n",
    "    # Condition\n",
    "    mask = dummy_col.isin(count[count > threshold].index)\n",
    "    # Replaces \n",
    "    dummy_col[~mask] = \"others\"\n",
    "\n",
    "    return pd.get_dummies(dummy_col, prefix=dummy_col.name)\n",
    "\n",
    "df_breed = dum_sign(dfi['breed'], threshold = .01)\n",
    "dfi = pd.concat([dfi, df_breed], axis = 1)"
   ]
  },
  {
   "cell_type": "code",
   "execution_count": 31,
   "metadata": {},
   "outputs": [],
   "source": [
    "# color\n",
    "# Dummy for top 10-20\n",
    "df_col = dum_sign(dfi['color'], threshold = .025)\n",
    "dfi = pd.concat([dfi, df_col], axis = 1)"
   ]
  },
  {
   "cell_type": "code",
   "execution_count": 32,
   "metadata": {},
   "outputs": [],
   "source": [
    "# found_location\n",
    "df_loc = dum_sign(dfi['found_location'], threshold = .01)\n",
    "dfi = pd.concat([dfi, df_loc], axis = 1)"
   ]
  },
  {
   "cell_type": "code",
   "execution_count": 33,
   "metadata": {},
   "outputs": [],
   "source": [
    "# intake_condition\n",
    "# Regular dummy variables\n",
    "cond_dummy = pd.get_dummies(dfi['intake_condition'])\n",
    "dfi = pd.concat([dfi, cond_dummy], axis = 1)"
   ]
  },
  {
   "cell_type": "code",
   "execution_count": 34,
   "metadata": {},
   "outputs": [],
   "source": [
    "# intake_type         \n",
    "# Regular dummy variables\n",
    "int_type_dummy = pd.get_dummies(dfi['intake_type'])\n",
    "dfi = pd.concat([dfi, int_type_dummy], axis = 1)"
   ]
  },
  {
   "cell_type": "code",
   "execution_count": 35,
   "metadata": {},
   "outputs": [],
   "source": [
    "# intake_number\n",
    "# Dummy for 1, 2, 3, and 4+\n",
    "dfi['count_1'] = dfi['intake_number'].map(lambda x: 1 if x == 1 else 0)\n",
    "dfi['count_2'] = dfi['intake_number'].map(lambda x: 1 if x == 2 else 0)\n",
    "dfi['count_3'] = dfi['intake_number'].map(lambda x: 1 if x == 3 else 0)\n",
    "dfi['count_4_plus'] = dfi['intake_number'].map(lambda x: 1 if x > 3 else 0)"
   ]
  },
  {
   "cell_type": "code",
   "execution_count": 36,
   "metadata": {},
   "outputs": [],
   "source": [
    "# outcome_type  \n",
    "# Return to Owner = 1\n",
    "# Transfer = 2\n",
    "# Adoption = 3\n",
    "dfi['outcome'] = dfi['outcome_type'].map(lambda x: 1 if x == 'Return to Owner' \n",
    "                                         else (2 if x == 'Transfer' \n",
    "                                               else 3))"
   ]
  },
  {
   "cell_type": "markdown",
   "metadata": {},
   "source": [
    "# Predictor Variables:"
   ]
  },
  {
   "cell_type": "markdown",
   "metadata": {},
   "source": [
    "There are quite a few variables to dig through in the main data frame, but here are the main predictor variables we'll be using for our model:\n",
    "1. Sex (This one is interesting as it has neutered/spayed vs intact as well as biological sex)\n",
    "2. Age on intake\n",
    "3. Time in shelter\n",
    "4. Animal type (Cat or Dog)\n",
    "5. Breed (Can be one of many)\n",
    "6. Color(Can be one of many)\n",
    "7. Found location (Split into a few main areas)\n",
    "8. Intake condition (Sick, healthy, aged, feral, etc. . . )\n",
    "9. Intake type (Public assist, Stray, owner abandonment, etc. . . )\n",
    "10. Count (How many times has this animal been in the shelter)\n",
    "11. Has name ( . . . upon intake)\n",
    "12. Outcome day/time"
   ]
  },
  {
   "cell_type": "markdown",
   "metadata": {},
   "source": [
    "# Train Test Split:"
   ]
  },
  {
   "cell_type": "markdown",
   "metadata": {},
   "source": [
    "## Regular Split:"
   ]
  },
  {
   "cell_type": "code",
   "execution_count": 37,
   "metadata": {},
   "outputs": [
    {
     "name": "stdout",
     "output_type": "stream",
     "text": [
      "56884 14222 56884 14222\n"
     ]
    }
   ],
   "source": [
    "# Putting the final DF back together:\n",
    "# X vs y:\n",
    "X = dfi.drop(['outcome', 'outcome_type', 'sex_upon_intake',\n",
    "              'animal_type', 'breed', 'color', 'found_location', \n",
    "              'intake_condition', 'intake_type',\n",
    "              'intake_number', 'outcome_datetime'], axis = 1)\n",
    "y = dfi['outcome']\n",
    "# Splitting the data.  Test size 20%.  Random_state 123\n",
    "X_train, X_test, y_train, y_test = train_test_split(X, y, \n",
    "                                                    test_size=0.2, \n",
    "                                                    random_state = 123)\n",
    "print(len(X_train), len(X_test), len(y_train), len(y_test))\n"
   ]
  },
  {
   "cell_type": "markdown",
   "metadata": {},
   "source": [
    "## SMOTE Split:"
   ]
  },
  {
   "cell_type": "markdown",
   "metadata": {},
   "source": [
    "As there is a huge imbalance between outcome types, we'll be using the SMOTE method to balance the outcomes so that each one has equal weight.  This will lead to 'Adoption', the most common outcome, not being biased in the model."
   ]
  },
  {
   "cell_type": "code",
   "execution_count": 38,
   "metadata": {},
   "outputs": [
    {
     "name": "stdout",
     "output_type": "stream",
     "text": [
      "\n",
      "\n",
      "3    26569\n",
      "2    26569\n",
      "1    26569\n",
      "dtype: int64\n"
     ]
    }
   ],
   "source": [
    "X_train_resampled, y_train_resampled = SMOTE().fit_sample(X_train, y_train) \n",
    "\n",
    "# Preview resampled sample class distribution\n",
    "print('\\n')\n",
    "print(pd.Series(y_train_resampled).value_counts()) "
   ]
  },
  {
   "cell_type": "markdown",
   "metadata": {},
   "source": [
    "# Baseline Model (KNN):"
   ]
  },
  {
   "cell_type": "markdown",
   "metadata": {},
   "source": [
    "## Accuracy Metrics:"
   ]
  },
  {
   "cell_type": "code",
   "execution_count": 39,
   "metadata": {},
   "outputs": [],
   "source": [
    "# Initialize lists to compare models later on\n",
    "model_names = []\n",
    "train_accuracies = []\n",
    "test_accuracies = []\n",
    "rto_precisions = []\n",
    "rto_recalls = []\n",
    "adopt_precisions = []\n",
    "adopt_recalls = []"
   ]
  },
  {
   "cell_type": "code",
   "execution_count": 40,
   "metadata": {},
   "outputs": [],
   "source": [
    "# Creating functions that use the confusion matrix function to calculate precision or recall:\n",
    "# Precision tells us rate of false positives\n",
    "def rto_precision(model):\n",
    "    training_preds = model.predict(X_train)\n",
    "    val_preds = model.predict(X_test)\n",
    "    training_accuracy = accuracy_score(y_train, training_preds)\n",
    "    val_accuracy = accuracy_score(y_test, val_preds)\n",
    "    x1 = confusion_matrix(y_test, val_preds)\n",
    "    #return x1\n",
    "    tp = x1[0,0]\n",
    "    fp1 = x1[1,0]\n",
    "    fp2 = x1[2,0]\n",
    "    total = fp1 + fp2 + tp\n",
    "    rto_precision = tp/total\n",
    "    rto_precisions.append(round(rto_precision, 3))\n",
    "    print(\"Return to Owner Precision: {:.4}%\".format(rto_precision * 100))\n",
    "# Recall tells us rate of false negatives\n",
    "def rto_recall(model):\n",
    "    training_preds = model.predict(X_train)\n",
    "    val_preds = model.predict(X_test)\n",
    "    training_accuracy = accuracy_score(y_train, training_preds)\n",
    "    val_accuracy = accuracy_score(y_test, val_preds)\n",
    "    x1 = confusion_matrix(y_test, val_preds)\n",
    "    #return x1\n",
    "    tp = x1[0,0]\n",
    "    fn1 = x1[0,1]\n",
    "    fn2 = x1[0,2]\n",
    "    total = fn1 + fn2 + tp\n",
    "    rto_recall = tp/total\n",
    "    rto_recalls.append(round(rto_recall, 3))\n",
    "    print(\"Return to Owner Recall: {:.4}%\".format(rto_recall * 100))\n",
    "\n",
    "def adopt_precision(model):\n",
    "    training_preds = model.predict(X_train)\n",
    "    val_preds = model.predict(X_test)\n",
    "    training_accuracy = accuracy_score(y_train, training_preds)\n",
    "    val_accuracy = accuracy_score(y_test, val_preds)\n",
    "    x1 = confusion_matrix(y_test, val_preds)\n",
    "    #return x1\n",
    "    tp = x1[2,2]\n",
    "    fp1 = x1[0,2]\n",
    "    fp2 = x1[1,2]\n",
    "    total = fp1 + fp2 + tp\n",
    "    adopt_precision = tp/total\n",
    "    adopt_precisions.append(round(adopt_precision,3))\n",
    "    print(\"Adoption Precision: {:.4}%\".format(adopt_precision * 100))\n",
    "    \n",
    "def adopt_recall(model):\n",
    "    training_preds = model.predict(X_train)\n",
    "    val_preds = model.predict(X_test)\n",
    "    training_accuracy = accuracy_score(y_train, training_preds)\n",
    "    val_accuracy = accuracy_score(y_test, val_preds)\n",
    "    x1 = confusion_matrix(y_test, val_preds)\n",
    "    #return x1\n",
    "    tp = x1[2,2]\n",
    "    fn1 = x1[2,0]\n",
    "    fn2 = x1[2,1]\n",
    "    total = fn1 + fn2 + tp\n",
    "    adopt_recall = tp/total\n",
    "    adopt_recalls.append(round(adopt_recall, 3))\n",
    "    print(\"Adoption Recall: {:.4}%\".format(adopt_recall * 100))\n",
    "\n",
    "# Y tick marks need to be fixed in order for the plot to show correctly\n",
    "def norm_matrix(model):\n",
    "    y_pred = model.predict(X_test)\n",
    "    skplt.metrics.plot_confusion_matrix(y_test, y_pred, \n",
    "                                        figsize=(5,5), \n",
    "                                        normalize=True)\n",
    "    plt.yticks([-.5, 2.5])\n",
    "\n",
    "def con_matrix(model):\n",
    "    y_pred = model.predict(X_test)\n",
    "    skplt.metrics.plot_confusion_matrix(y_test, y_pred, \n",
    "                                        figsize=(5,5))\n",
    "    plt.yticks([-.5, 2.5])\n",
    " \n",
    "    \n",
    "# Here is the function that pulls everything together and appends results to a list\n",
    "def show_accuracy(model, name):\n",
    "#    model_name = type(model).__name__\n",
    "    training_preds = model.predict(X_train)\n",
    "    val_preds = model.predict(X_test)\n",
    "    training_accuracy = accuracy_score(y_train, training_preds)\n",
    "    train_accuracies.append(round(training_accuracy, 3)) \n",
    "    val_accuracy = accuracy_score(y_test, val_preds)\n",
    "    test_accuracies.append(round(val_accuracy, 3))\n",
    "\n",
    "    print(\"Training data accuracy: {:.5}%\".format(training_accuracy * 100))\n",
    "    print(\"Testing data accuracy: {:.5}%\".format(val_accuracy * 100))\n",
    "#    print(\"--------------------------------\")\n",
    "#    print(\"--RTO----T----A-----------------\")\n",
    "#    print(confusion_matrix(y_test, val_preds))\n",
    "    \n",
    "    norm_matrix(model)\n",
    "    rto_precision(model)\n",
    "    rto_recall(model)\n",
    "    adopt_precision(model)\n",
    "    adopt_recall(model)\n",
    "    model_names.append(name) \n",
    "\n",
    "# This is a secondary function we'll use in certain cases.\n",
    "def plot_feature_importances(model):\n",
    "    sorted_features = np.sort(model.feature_importances_)\n",
    "    n_features = X_train.shape[1]\n",
    "    plt.figure(figsize=(8,8))\n",
    "    plt.barh(range(n_features), model.feature_importances_, align='center') \n",
    "    plt.yticks(np.arange(n_features), X_train.columns.values) \n",
    "    plt.xlabel('Feature importance')\n",
    "    plt.ylabel('Feature')"
   ]
  },
  {
   "cell_type": "markdown",
   "metadata": {},
   "source": [
    "For our baseline model, we'll be using a basic K Nearest Neighbors model, and see if we can improve it from there.  KNN is a great candidate for baseline model as it is easy to understand and tune.<br>"
   ]
  },
  {
   "cell_type": "code",
   "execution_count": 41,
   "metadata": {},
   "outputs": [
    {
     "data": {
      "text/plain": [
       "Pipeline(memory=None,\n",
       "         steps=[('ss',\n",
       "                 StandardScaler(copy=True, with_mean=True, with_std=True)),\n",
       "                ('knn',\n",
       "                 KNeighborsClassifier(algorithm='auto', leaf_size=30,\n",
       "                                      metric='minkowski', metric_params=None,\n",
       "                                      n_jobs=None, n_neighbors=7, p=2,\n",
       "                                      weights='uniform'))],\n",
       "         verbose=False)"
      ]
     },
     "execution_count": 41,
     "metadata": {},
     "output_type": "execute_result"
    }
   ],
   "source": [
    "# KNN Pipeline:\n",
    "# 7 Neighbors is fairly standard, and it's not even or divisible by three in order to prevent ties.\n",
    "knn_pipe = Pipeline([('ss', StandardScaler()), \n",
    "                     ('knn', KNeighborsClassifier(n_neighbors=7))])\n",
    "\n",
    "knn_pipe.fit(X_train, y_train)"
   ]
  },
  {
   "cell_type": "code",
   "execution_count": null,
   "metadata": {},
   "outputs": [
    {
     "name": "stdout",
     "output_type": "stream",
     "text": [
      "Training data accuracy: 77.737%\n",
      "Testing data accuracy: 70.419%\n",
      "Return to Owner Precision: 72.79%\n"
     ]
    }
   ],
   "source": [
    "show_accuracy(knn_pipe, 'KNN Baseline')\n",
    "# Not great performance, let's try to improve this!\n",
    "# As with the next models, these results have been stored so we can compare all the models later."
   ]
  },
  {
   "cell_type": "markdown",
   "metadata": {},
   "source": [
    "# Improved Models:"
   ]
  },
  {
   "cell_type": "markdown",
   "metadata": {},
   "source": [
    "Next, I'll be implementing a few decision trees.  These models can be a bit more complex, but they tend to be more accurate as well."
   ]
  },
  {
   "cell_type": "markdown",
   "metadata": {},
   "source": [
    "## Decision Tree:"
   ]
  },
  {
   "cell_type": "markdown",
   "metadata": {},
   "source": [
    "I'll use a grid search here to find the best option given the choice of a few different hyperparameters."
   ]
  },
  {
   "cell_type": "code",
   "execution_count": null,
   "metadata": {},
   "outputs": [],
   "source": [
    "grid = [{'gridtree__max_depth': [18, 19, 20], \n",
    "         'gridtree__min_samples_leaf': [1, 2, 3]}]\n",
    "\n",
    "tree = Pipeline([('ss', StandardScaler()), \n",
    "                ('gridtree', DecisionTreeClassifier(class_weight='balanced',\n",
    "                                                    random_state = 123))])\n",
    "\n",
    "tree_grid = GridSearchCV(estimator = tree, \n",
    "                          param_grid = grid, \n",
    "                          scoring = 'accuracy', \n",
    "                          cv=5)\n",
    "tree_grid.fit(X_train, y_train)\n",
    "tree_grid.best_params_\n",
    "# We don't want too many decision trees, so we're just using this grid search to try to find optimal parameters"
   ]
  },
  {
   "cell_type": "markdown",
   "metadata": {},
   "source": [
    "### SMOTE Decision Tree:"
   ]
  },
  {
   "cell_type": "markdown",
   "metadata": {},
   "source": [
    "This decision tree uses the resampled data in order to avoid class imbalance."
   ]
  },
  {
   "cell_type": "code",
   "execution_count": null,
   "metadata": {},
   "outputs": [],
   "source": [
    "grid = [{'gridtree__max_depth': [18, 19, 20], \n",
    "         'gridtree__min_samples_leaf': [1, 2, 3]}]\n",
    "\n",
    "tree = Pipeline([('ss', StandardScaler()), \n",
    "                ('gridtree', DecisionTreeClassifier(random_state = 123))])\n",
    "\n",
    "tree_grid = GridSearchCV(estimator = tree, \n",
    "                          param_grid = grid, \n",
    "                          scoring = 'accuracy', \n",
    "                          cv=5)\n",
    "tree_grid.fit(X_train_resampled, y_train_resampled)\n",
    "tree_grid.best_params_"
   ]
  },
  {
   "cell_type": "code",
   "execution_count": null,
   "metadata": {},
   "outputs": [],
   "source": [
    "show_accuracy(tree_grid, 'SMOTE Decision Tree')\n",
    "# Poor accuracy, but impressive recall for RTO!"
   ]
  },
  {
   "cell_type": "code",
   "execution_count": null,
   "metadata": {},
   "outputs": [],
   "source": [
    "# Tree for Feature Importance:\n",
    "tree1 = DecisionTreeClassifier(max_depth = 10)\n",
    "tree1.fit(X_train, y_train)\n",
    "show_accuracy(tree1, 'First Tree')\n",
    "# Worse RTO recall, but much better adoption recall!"
   ]
  },
  {
   "cell_type": "code",
   "execution_count": null,
   "metadata": {},
   "outputs": [],
   "source": [
    "plot_feature_importances(tree1)\n",
    "# This seems quite biased towards just a few features.\n",
    "# Perhaps a random forest will use more predictor variables. . . "
   ]
  },
  {
   "cell_type": "code",
   "execution_count": null,
   "metadata": {},
   "outputs": [],
   "source": [
    "# Just for fun, let's do another DT so we can look at the tree itself!\n",
    "tree2 = DecisionTreeClassifier(max_depth = 12)\n",
    "tree2.fit(X_train, y_train)\n",
    "show_accuracy(tree2, 'Second Tree')"
   ]
  },
  {
   "cell_type": "code",
   "execution_count": null,
   "metadata": {},
   "outputs": [],
   "source": [
    "from sklearn import tree\n",
    "plt.figure(figsize=(15,7), dpi = 500)\n",
    "tree.plot_tree(tree2, feature_names=X.columns,\n",
    "               class_names=np.unique(y).astype('str'),\n",
    "               filled=True, rounded=True)\n",
    "plt.show()"
   ]
  },
  {
   "cell_type": "markdown",
   "metadata": {},
   "source": [
    "## Random Forest (SMOTE):"
   ]
  },
  {
   "cell_type": "markdown",
   "metadata": {},
   "source": [
    "Now we'll be moving on to an even more complex model, the random forest.  This model consists of 150 resampled trees using different samples of the training data.  While it's virtually impossible to visualize this model, it tends to be more accurate than a single decision tree."
   ]
  },
  {
   "cell_type": "code",
   "execution_count": null,
   "metadata": {},
   "outputs": [],
   "source": [
    "# Here, we're using a pipeline so we can use the StandardScaler function.\n",
    "forest = Pipeline([('ss', StandardScaler()), \n",
    "                   ('forest', RandomForestClassifier(\n",
    "                     n_estimators=150, \n",
    "                     max_depth= 20,\n",
    "                     min_samples_leaf = 1, \n",
    "                     random_state = 123))])\n",
    "\n",
    "forest.fit(X_train_resampled, y_train_resampled)"
   ]
  },
  {
   "cell_type": "code",
   "execution_count": null,
   "metadata": {
    "scrolled": true
   },
   "outputs": [],
   "source": [
    "show_accuracy(forest, 'SMOTE Forest')\n",
    "# So far, this is better overall performance.  Let's see if we can improve it though with a grid search."
   ]
  },
  {
   "cell_type": "markdown",
   "metadata": {},
   "source": [
    "Notes: getting most of the return to owner correct, which is good. <br>\n",
    "Gets caught between actual transfers vs thinking they get adopted <br>\n",
    "Gets most of the adopted with some spill over <br>\n",
    "Maybe a balancing issue? <br>\n",
    "1 = return to owner <br>\n",
    "2 = transfer <br>\n",
    "3 = adoption <br>\n",
    "A bit overfit all in all. . . \n"
   ]
  },
  {
   "cell_type": "markdown",
   "metadata": {},
   "source": [
    "Now we'll try another forest to test some other parameters."
   ]
  },
  {
   "cell_type": "code",
   "execution_count": null,
   "metadata": {},
   "outputs": [],
   "source": [
    "# But first, let's look at Feature Importance\n",
    "forest2 = RandomForestClassifier(n_estimators=150, \n",
    "                     max_depth= 20,\n",
    "                     min_samples_leaf = 1, \n",
    "                     random_state = 123)\n",
    "forest2.fit(X_train, y_train)"
   ]
  },
  {
   "cell_type": "code",
   "execution_count": null,
   "metadata": {},
   "outputs": [],
   "source": [
    "show_accuracy(forest2, 'Second Forest')"
   ]
  },
  {
   "cell_type": "code",
   "execution_count": null,
   "metadata": {},
   "outputs": [],
   "source": [
    "plot_feature_importances(forest2)"
   ]
  },
  {
   "cell_type": "markdown",
   "metadata": {},
   "source": [
    "## Random Forest with Grid Search:"
   ]
  },
  {
   "cell_type": "code",
   "execution_count": null,
   "metadata": {},
   "outputs": [],
   "source": [
    "# Now it's time to use a grid search in order to better tune the model.\n",
    "grid = [{'RF__max_depth': [16, 17, 18], \n",
    "         'RF__min_samples_split': [2], \n",
    "         'RF__min_samples_leaf': [1]}]\n",
    "\n",
    "forest_2 = Pipeline([('ss', StandardScaler()),\n",
    "                     ('RF', RandomForestClassifier(n_estimators=150,\n",
    "                                                   class_weight= 'balanced',\n",
    "                                                   random_state = 123))])\n",
    "\n",
    "grid_forest = GridSearchCV(estimator = forest_2, \n",
    "                          param_grid = grid, \n",
    "                          scoring = 'accuracy', \n",
    "                          cv=5)\n",
    "grid_forest.fit(X_train, y_train)\n",
    "grid_forest.best_params_\n"
   ]
  },
  {
   "cell_type": "code",
   "execution_count": null,
   "metadata": {},
   "outputs": [],
   "source": [
    "show_accuracy(grid_forest, 'Forest w/Grid Search')\n",
    "# RTO recall here is quite impressive.  Let's keep trying new models, though."
   ]
  },
  {
   "cell_type": "markdown",
   "metadata": {},
   "source": [
    "## ADA Boost:"
   ]
  },
  {
   "cell_type": "code",
   "execution_count": null,
   "metadata": {},
   "outputs": [],
   "source": [
    "# Model:\n",
    "grid = [{'adab__learning_rate': [.5, .1], \n",
    "         'adab__n_estimators': [100, 200]}]\n",
    "\n",
    "ada = Pipeline([('ss', StandardScaler()), \n",
    "                ('adab', AdaBoostClassifier(random_state = 123))])\n",
    "\n",
    "grid_ada = GridSearchCV(estimator = ada, \n",
    "                          param_grid = grid, \n",
    "                          scoring = 'accuracy', \n",
    "                          cv=5)\n",
    "grid_ada.fit(X_train, y_train)\n",
    "grid_ada.best_params_"
   ]
  },
  {
   "cell_type": "code",
   "execution_count": null,
   "metadata": {},
   "outputs": [],
   "source": [
    "show_accuracy(grid_ada, 'AdaBoost')\n",
    "# Interesting, perhaps it could be tuned better, but this model does not seem to work well with my data."
   ]
  },
  {
   "cell_type": "markdown",
   "metadata": {},
   "source": [
    "## Gradient Boost:"
   ]
  },
  {
   "cell_type": "code",
   "execution_count": null,
   "metadata": {},
   "outputs": [],
   "source": [
    "# Let's see if we can get better results with Gradient Boost.\n",
    "# I'm leaving out the grid search for better speed.  \n",
    "#I tuned the model on my scratch paper earlier for these parameters\n",
    "gradb = GradientBoostingClassifier(learning_rate = .15, \n",
    "                                   max_depth = 4,\n",
    "                                   n_estimators = 200,\n",
    "                                   random_state = 123)\n",
    "gradb.fit(X_train, y_train)\n",
    "show_accuracy(gradb, 'Gradient Boost')"
   ]
  },
  {
   "cell_type": "markdown",
   "metadata": {},
   "source": [
    "## XG Boost:"
   ]
  },
  {
   "cell_type": "code",
   "execution_count": null,
   "metadata": {},
   "outputs": [],
   "source": [
    "# XG Boost has been known to be quite powerful.  Let's give it a try!\n",
    "xg = xgb.XGBClassifier(learning_rate = .1, max_depth = 8, n_estimators = 150)\n",
    "xg.fit(X_train, y_train)"
   ]
  },
  {
   "cell_type": "code",
   "execution_count": null,
   "metadata": {},
   "outputs": [],
   "source": [
    "show_accuracy(xg, 'XG Boost 1')\n",
    "# Much better.  Aside from Adoption Precision, which other models struggled with. . . \n",
    "# . . . this model has strong performance across the board."
   ]
  },
  {
   "cell_type": "markdown",
   "metadata": {},
   "source": [
    "Let's try a second model and see if we can improve this:"
   ]
  },
  {
   "cell_type": "code",
   "execution_count": null,
   "metadata": {},
   "outputs": [],
   "source": [
    "# This model was also tuned in my scratch paper (For better speed here in the main notebook)\n",
    "xg2 = xgb.XGBClassifier(learning_rate = .12, max_depth = 6, n_estimators = 200)\n",
    "xg2.fit(X_train, y_train)"
   ]
  },
  {
   "cell_type": "code",
   "execution_count": null,
   "metadata": {},
   "outputs": [],
   "source": [
    "show_accuracy(xg2, 'XG Boost 2')\n",
    "# Excellent performance!  We'll compare soon, but this seems to be the best one yet!"
   ]
  },
  {
   "cell_type": "markdown",
   "metadata": {},
   "source": [
    "# Model Comparisons:"
   ]
  },
  {
   "cell_type": "markdown",
   "metadata": {},
   "source": [
    "Measuring accuracy for multiclass classification problems can be tricky.  It's easy to get caught up in dizzying array of possible accuracy metrics one can use.  Here is the list I settled on for this ternary classification puzzle:\n",
    "<br>\n",
    "- __Training Accuracy__ \n",
    "    - General accuracy of the training set - useful to make sure you're not overfitting the model\n",
    "- __Testing Accuracy__\n",
    "    - Ratio of correct classifications to total classifications - useful metric, but there's more to dig into!\n",
    "- __RTO Precision__ \n",
    "    - Ratio of correct RTO classifications to correct RTO + False positives \n",
    "    - Useful to make sure you're not biased too heavily and making too many false positives\n",
    "- __RTO Recall__ \n",
    "    - Ratio of correct RTO classifications to correct RTO + the ones the model missed i.e. false negatives\n",
    "    - Useful to see what ratio of the target class you're identifying, i.e. not missing anyone\n",
    "- __Adoption Precision__ \n",
    "    - Same as RTO Precision but with the adoption metric\n",
    "- __Adoption Recall__ \n",
    "    - Same as RTO Recall but with the adoption metric\n",
    "<br>\n",
    "\n",
    "\n",
    "A few things may stand out.  The first glaring issue is the lack of metrics around the 'Transfer' outcome.  I chose to ignore this as adoption and return to owner are the main important outcomes here.  In most cases, transferring an animal occurs when it can neither be adopted or returned to an owner.  For my model to be effective, I wanted to make sure that every pet with an owner searching for it got returned home, and every pet that is able to be adopted is adopted.  The above list of metrics tells me everything I need to know in that regard."
   ]
  },
  {
   "cell_type": "code",
   "execution_count": null,
   "metadata": {},
   "outputs": [],
   "source": [
    "model_comparison = pd.DataFrame({'Model': model_names,\n",
    "                                 'Training Accuracy': train_accuracies,\n",
    "                                 'Testing Accuracy': test_accuracies,\n",
    "                                 'RTO Precision': rto_precisions,\n",
    "                                 'RTO Recall': rto_recalls,\n",
    "                                 'Adoption Precision': adopt_precisions,\n",
    "                                 'Adoption Recall': adopt_recalls})\n",
    "model_comparison.style.background_gradient(cmap='Blues')"
   ]
  },
  {
   "cell_type": "markdown",
   "metadata": {},
   "source": [
    "__Notes:__\n",
    "- XG Boost has the best testing accuracy\n",
    "- The SMOTE Decision Tree has surprisingly good recall for RTO, but the worst Adoption recall, so not worth using as a final model.  It seems a bit underfit, as you can see from the testing accuracy.  Additionally, it seems biased towards RTO as you can see by the high RTO recall but low Adoption recall.\n",
    "- Gradient Boost was also quite a strong model, but the XGB models beat it in terms of Adoption recall.\n",
    "- The forest with grid search also performs quite well when it comes to RTO recall, but it's Adoption recall is less than stellar when compared to XG Boost as well.\n",
    "- After overall testing accuracy, RTO recall is our most important variable.  We cannot miss pets that need to be reunited with their owners. \n",
    "- XG Boost 2 has the best overall performance.  While it seems like all the models are quite similar, a small difference can mean vastly different outcomes for hundreds of animals.  As such, it's important we choose a well balanced and overall accurate model."
   ]
  },
  {
   "cell_type": "markdown",
   "metadata": {},
   "source": [
    "## Confusion Matrix:"
   ]
  },
  {
   "cell_type": "markdown",
   "metadata": {},
   "source": [
    "Once again, here's the Confusion Matrix for the final model:"
   ]
  },
  {
   "cell_type": "code",
   "execution_count": null,
   "metadata": {},
   "outputs": [],
   "source": [
    "norm_matrix(xg2)"
   ]
  },
  {
   "cell_type": "markdown",
   "metadata": {},
   "source": [
    ". . . and finally with the real number of correct and incorrect classifications."
   ]
  },
  {
   "cell_type": "code",
   "execution_count": null,
   "metadata": {},
   "outputs": [],
   "source": [
    "con_matrix(xg2)"
   ]
  },
  {
   "cell_type": "markdown",
   "metadata": {},
   "source": [
    "# Future Work:"
   ]
  },
  {
   "cell_type": "markdown",
   "metadata": {},
   "source": [
    "If this project were to continue, I'd like to complete the following:\n",
    "- More extensive tuning of models.  With more time to use grid search, it would likely be possible to bump accuracy up a few percentage points on my top model.  While this may seem small, it could mean everything to hundreds or even thousands of animals.\n",
    "- Building a web app that all shelters can use.  I'd like to have a tool that any shelter could implement by feeding it their own data in a standardized format in order to see statistically likely outcomes for animals.  The challenge here is that there is not standardized way data is collected in these institutions, but it's worth a try!\n",
    "- Separate models for dogs and cats, and possibly even birds once I collect enough data.  This approach could help shelters that are cat or dog only, and it's possible I could build more accurate models if I split the data into more groups and had different models for each."
   ]
  },
  {
   "cell_type": "markdown",
   "metadata": {},
   "source": [
    "# Conclusion:"
   ]
  },
  {
   "cell_type": "markdown",
   "metadata": {},
   "source": [
    "This exercise in model building has been quite informative.  While pets returned to owners are the smallest of the main groups, it's crucial they get the attention they need instead of being transfered out or adopted to another family.<br><br>\n",
    "\n",
    "__Returning to Owner:__\n",
    "- Pets that are the most likely to have their families looking for them should be put front and center on the website so families can find them easily.\n",
    "- The XG Boost model can identify pets with families searching for them almost 85% of the time.  With this knowledge, they can be returned much more quickly than if the families had to search through the entire site or visit the shelter to search for their pet.\n",
    "\n",
    "__Adoption:__\n",
    "- Pets likely to be adopted should be a close second in terms of priority. \n",
    "- Recall for adoption is even higher.  With XG Boost, the shelter can identify 94% of animals that will be adopted.  The sooner they leave the shelter, the better, so it would be helpful to advertise these identified animals more heavily on the site compared to ones likely to be transferred.\n",
    "\n",
    "__Data Collection:__\n",
    "On top of that, we can improve data collection in the future to improve the model.  There are a few major areas that could help:\n",
    "- Change color upon intake to one of 15 or so values instead of an arbitrarily chosen color.  This has resulted in over 500 different colors recorded in the dataset.\n",
    "- Change location data to longitude and latitude data.  This makes it much easier to compare locations.  It can also help when implementing maps on the site.\n",
    "- Include a measurement of temperament, perhaps on a scale of 1-10.  This can also help with adoption and RTO recall.\n",
    "- Change breeds to a more standardized list as well.  Like color, this model is too unwieldy to use effectively."
   ]
  },
  {
   "cell_type": "markdown",
   "metadata": {},
   "source": [
    "Overall, though, this model should help the vast majority of pets find their way to owners.  With some work on the website and internal database applications, we can set up a system to help animals find their homes!\n",
    "\n",
    "Thanks for reading,\n",
    "\n",
    "-Thomas Brown"
   ]
  },
  {
   "cell_type": "code",
   "execution_count": null,
   "metadata": {},
   "outputs": [],
   "source": []
  }
 ],
 "metadata": {
  "kernelspec": {
   "display_name": "Python 3",
   "language": "python",
   "name": "python3"
  },
  "language_info": {
   "codemirror_mode": {
    "name": "ipython",
    "version": 3
   },
   "file_extension": ".py",
   "mimetype": "text/x-python",
   "name": "python",
   "nbconvert_exporter": "python",
   "pygments_lexer": "ipython3",
   "version": "3.6.9"
  },
  "toc": {
   "base_numbering": 1,
   "nav_menu": {},
   "number_sections": true,
   "sideBar": true,
   "skip_h1_title": false,
   "title_cell": "Table of Contents",
   "title_sidebar": "Contents",
   "toc_cell": false,
   "toc_position": {},
   "toc_section_display": true,
   "toc_window_display": true
  }
 },
 "nbformat": 4,
 "nbformat_minor": 2
}
